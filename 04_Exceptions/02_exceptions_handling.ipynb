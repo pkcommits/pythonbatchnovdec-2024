{
 "cells": [
  {
   "cell_type": "markdown",
   "metadata": {},
   "source": [
    "# Exception Handling"
   ]
  },
  {
   "cell_type": "code",
   "execution_count": 1,
   "metadata": {},
   "outputs": [],
   "source": [
    "import builtins"
   ]
  },
  {
   "cell_type": "code",
   "execution_count": null,
   "metadata": {},
   "outputs": [],
   "source": [
    "dir(builtins)"
   ]
  },
  {
   "cell_type": "code",
   "execution_count": 6,
   "metadata": {},
   "outputs": [],
   "source": [
    "num1 = 10\n",
    "#  num2 = 20  # IndentationError: unexpected indent"
   ]
  },
  {
   "cell_type": "code",
   "execution_count": null,
   "metadata": {},
   "outputs": [],
   "source": [
    "for i in range(20):\n",
    "print(i)"
   ]
  },
  {
   "cell_type": "code",
   "execution_count": null,
   "metadata": {},
   "outputs": [],
   "source": [
    "10 / 0"
   ]
  },
  {
   "cell_type": "code",
   "execution_count": null,
   "metadata": {},
   "outputs": [],
   "source": [
    "10 % 0"
   ]
  },
  {
   "cell_type": "code",
   "execution_count": null,
   "metadata": {},
   "outputs": [],
   "source": [
    "10 // 0"
   ]
  },
  {
   "cell_type": "code",
   "execution_count": null,
   "metadata": {},
   "outputs": [],
   "source": [
    "10 + '20'"
   ]
  },
  {
   "cell_type": "code",
   "execution_count": null,
   "metadata": {},
   "outputs": [],
   "source": [
    "10.0 + '20'"
   ]
  },
  {
   "cell_type": "code",
   "execution_count": null,
   "metadata": {},
   "outputs": [],
   "source": [
    "num1"
   ]
  },
  {
   "cell_type": "code",
   "execution_count": null,
   "metadata": {},
   "outputs": [],
   "source": [
    "num1.upper()"
   ]
  },
  {
   "cell_type": "code",
   "execution_count": null,
   "metadata": {},
   "outputs": [],
   "source": [
    "mydict = {\"a\": \"apple\"}\n",
    "mydict['b']"
   ]
  },
  {
   "cell_type": "code",
   "execution_count": null,
   "metadata": {},
   "outputs": [],
   "source": [
    "num3 = int(input('Enter number:'))  # 12.3"
   ]
  },
  {
   "cell_type": "markdown",
   "metadata": {},
   "source": [
    "## Exception Handling\n",
    "\n",
    "    FOUR blocks - try, except , else, finally\n",
    "                    mandatory      optional"
   ]
  },
  {
   "cell_type": "code",
   "execution_count": null,
   "metadata": {},
   "outputs": [],
   "source": [
    "try:\n",
    "    num3 = int(input('Enter number:'))\n",
    "    print(num3)\n",
    "except:\n",
    "    pass"
   ]
  },
  {
   "cell_type": "code",
   "execution_count": 18,
   "metadata": {},
   "outputs": [],
   "source": [
    "try:\n",
    "    num3 = int(input('Enter number:'))\n",
    "    print(num3)\n",
    "except:\n",
    "    pass"
   ]
  },
  {
   "cell_type": "code",
   "execution_count": null,
   "metadata": {},
   "outputs": [],
   "source": [
    "try:\n",
    "    num3 = int(input('Enter number:'))\n",
    "    print(num3)\n",
    "except:\n",
    "    print('got error')"
   ]
  },
  {
   "cell_type": "code",
   "execution_count": null,
   "metadata": {},
   "outputs": [],
   "source": [
    "try:\n",
    "    num3 = int(input('Enter number:'))\n",
    "    print(num3)\n",
    "except Exception as ex:\n",
    "    print(ex)"
   ]
  },
  {
   "cell_type": "code",
   "execution_count": null,
   "metadata": {},
   "outputs": [],
   "source": [
    "try:\n",
    "    num3 = int(input('Enter number:'))\n",
    "    print(num3)\n",
    "except Exception as ex:\n",
    "    print(ex)"
   ]
  },
  {
   "cell_type": "code",
   "execution_count": null,
   "metadata": {},
   "outputs": [],
   "source": [
    "try:\n",
    "    num3 = int(input('Enter number:'))\n",
    "    print(num3)\n",
    "except Exception as ex:\n",
    "    print(\"ex      :\", ex)\n",
    "    print(\"str(ex) :\", str(ex))"
   ]
  },
  {
   "cell_type": "code",
   "execution_count": null,
   "metadata": {},
   "outputs": [],
   "source": [
    "try:\n",
    "    num3 = int(input('Enter number:'))\n",
    "    print(num3)\n",
    "except Exception as ex:\n",
    "    print(\"ex      :\", ex)\n",
    "    print(\"str(ex) :\", str(ex))\n",
    "\n",
    "    print(\"repr(ex):\", repr(ex))\n",
    "    print(f\"{ex    = }\")\n"
   ]
  },
  {
   "cell_type": "code",
   "execution_count": null,
   "metadata": {},
   "outputs": [],
   "source": [
    "try:\n",
    "    num3 = int(input('Enter number:'))\n",
    "    print(num3)\n",
    "except Exception as ex:\n",
    "    print(dir(ex))\n",
    "    print(f'{ex      =}')\n",
    "    print(f'{ex.args =}')\n"
   ]
  },
  {
   "cell_type": "code",
   "execution_count": null,
   "metadata": {},
   "outputs": [],
   "source": [
    "ex   # scope is within the exception block only"
   ]
  },
  {
   "cell_type": "markdown",
   "metadata": {},
   "source": [
    "##### Another example"
   ]
  },
  {
   "cell_type": "code",
   "execution_count": null,
   "metadata": {},
   "outputs": [],
   "source": [
    "# heirarychy of error \n",
    "\n",
    "try:\n",
    "    10/ 0 \n",
    "    10 // 0\n",
    "    10 % 0 \n",
    "\n",
    "    int(12)\n",
    "    int(12.3)\n",
    "    int('12.3')\n",
    "\n",
    "    num1.upper()\n",
    "except Exception as ex:\n",
    "    print(f'{ex = }')"
   ]
  },
  {
   "cell_type": "code",
   "execution_count": 32,
   "metadata": {},
   "outputs": [],
   "source": [
    "# NOTE: Execution Order in Python: top to bottom, left to right"
   ]
  },
  {
   "cell_type": "code",
   "execution_count": null,
   "metadata": {},
   "outputs": [],
   "source": [
    "try:\n",
    "    # 10/ 0 \n",
    "    10 // 0\n",
    "    10 % 0 \n",
    "\n",
    "    int(12)\n",
    "    int(12.3)\n",
    "    int('12.3')\n",
    "\n",
    "    num1.upper()\n",
    "except Exception as ex:\n",
    "    print(f'{ex = }')"
   ]
  },
  {
   "cell_type": "code",
   "execution_count": null,
   "metadata": {},
   "outputs": [],
   "source": [
    "try:\n",
    "    # 10/ 0 \n",
    "    # 10 // 0\n",
    "    10 % 0 \n",
    "\n",
    "    int(12)\n",
    "    int(12.3)\n",
    "    int('12.3')\n",
    "\n",
    "    num1.upper()\n",
    "except Exception as ex:\n",
    "    print(f'{ex = }')"
   ]
  },
  {
   "cell_type": "code",
   "execution_count": null,
   "metadata": {},
   "outputs": [],
   "source": [
    "try:\n",
    "    # 10/ 0 \n",
    "    # 10 // 0\n",
    "    # 10 % 0 \n",
    "\n",
    "    int(12)\n",
    "    int(12.3)\n",
    "    int('12.3')\n",
    "\n",
    "    num1.upper()\n",
    "except Exception as ex:\n",
    "    print(f'{ex = }')"
   ]
  },
  {
   "cell_type": "code",
   "execution_count": null,
   "metadata": {},
   "outputs": [],
   "source": [
    "try:\n",
    "    # 10/ 0 \n",
    "    # 10 // 0\n",
    "    # 10 % 0 \n",
    "\n",
    "    int(12)\n",
    "    int(12.3)\n",
    "    # int('12.3')\n",
    "\n",
    "    num1.upper()\n",
    "except Exception as ex:\n",
    "    print(f'{ex = }')"
   ]
  },
  {
   "cell_type": "code",
   "execution_count": null,
   "metadata": {},
   "outputs": [],
   "source": [
    "try:\n",
    "    # 10/ 0 \n",
    "    # 10 // 0\n",
    "    # 10 % 0 \n",
    "\n",
    "    int(12)\n",
    "    int(12.3)\n",
    "    # int('12.3')\n",
    "\n",
    "    # num1.upper()\n",
    "except Exception as ex:\n",
    "    print(f'{ex = }')\n",
    "else:\n",
    "    print('No error .. all good')"
   ]
  },
  {
   "cell_type": "markdown",
   "metadata": {},
   "source": [
    "### Exception flows \n",
    "\n",
    "    when no error \n",
    "                try -> else -> finally\n",
    "    when error \n",
    "                try -> except -> finally\n",
    "\n",
    "\n",
    "    NOTE: else and finally blocks are optional\n",
    "    NOTE:\n",
    "        1. code which we may result in errors need to be placed in try block\n",
    "        2. Error handling to corresponding errors need to be placed in except block\n",
    "        3. If no errors in try block, corresponding actions in else block\n",
    "        4. placeholder for all restrospective actions correspoding to that in try block\n",
    "            ex: in try block, socket/file/remote_connect/db_connection was opened\n",
    "                in finally block, we can close it\n"
   ]
  },
  {
   "cell_type": "code",
   "execution_count": null,
   "metadata": {},
   "outputs": [],
   "source": [
    "try:\n",
    "    print(\"In try block\")\n",
    "    10 / int(input(\"Enter a number:\")) # 10\n",
    "except Exception as ex1:\n",
    "    print(f\"In Exception block: {ex1 =}\")\n",
    "else:\n",
    "    print(\"In Else block\")\n",
    "finally:\n",
    "    print(\"In finally block\")\n",
    "\n",
    "print(\"next statement\")"
   ]
  },
  {
   "cell_type": "code",
   "execution_count": null,
   "metadata": {},
   "outputs": [],
   "source": [
    "try:\n",
    "    print(\"In try block\")\n",
    "    10 / int(input(\"Enter a number:\")) # 0\n",
    "except Exception as ex1:\n",
    "    print(f\"In Exception block: {ex1 =}\")\n",
    "else:\n",
    "    print(\"In Else block\")\n",
    "finally:\n",
    "    print(\"In finally block\")\n",
    "\n",
    "print(\"next statement\")"
   ]
  },
  {
   "cell_type": "code",
   "execution_count": null,
   "metadata": {},
   "outputs": [],
   "source": [
    "try:\n",
    "    print(\"In try block\")\n",
    "    10 /0\n",
    "    10 / int(input(\"Enter a number:\"))\n",
    "except Exception as ex1:\n",
    "    print(f\"In Exception block: {ex1 =}\")\n",
    "else:\n",
    "    print(\"In Else block\")\n",
    "finally:\n",
    "    print(\"In finally block\")\n",
    "\n",
    "print(\"next statement\")"
   ]
  },
  {
   "cell_type": "code",
   "execution_count": 42,
   "metadata": {},
   "outputs": [],
   "source": [
    "\n",
    "# # case 1 -- 5  ==========================> NO EXCEPTION\n",
    "# - python 03_exception_handling.py\n",
    "# In try block\n",
    "# Enter a number:5\n",
    "# In Else block\n",
    "# In finally block\n",
    "# next statement\n",
    "\n",
    "# # case 2 -- 0 ============================> ZeroDivisionError\n",
    "# - python 03_exception_handling.py\n",
    "# In try block\n",
    "# Enter a number:0\n",
    "# In Exception block: ex1 =ZeroDivisionError('division by zero')\n",
    "# In finally block\n",
    "# next statement\n",
    "\n",
    "\n",
    "# # case 3 -- 5.3  ==========================> ValueError\n",
    "# - python 03_exception_handling.py\n",
    "# In try block\n",
    "# Enter a number:5.3\n",
    "# In Exception block: ex1 =ValueError(\"invalid literal for int() with base 10: '5.3'\")\n",
    "# In finally block\n",
    "# next statement"
   ]
  },
  {
   "cell_type": "markdown",
   "metadata": {},
   "source": [
    "### Importance of \"else\" block"
   ]
  },
  {
   "cell_type": "code",
   "execution_count": null,
   "metadata": {},
   "outputs": [],
   "source": [
    "# Case 1 - without exception handling\n",
    "num1 = 1000\n",
    "num2 = 2022\n",
    "\n",
    "add_result = num1 + num2\n",
    "print(f\"{add_result = }\")"
   ]
  },
  {
   "cell_type": "code",
   "execution_count": null,
   "metadata": {},
   "outputs": [],
   "source": [
    "num1 = 1000\n",
    "num2 = \"2022\"\n",
    "\n",
    "add_result = num1 + num2\n",
    "print(f\"{add_result = }\") "
   ]
  },
  {
   "cell_type": "code",
   "execution_count": null,
   "metadata": {},
   "outputs": [],
   "source": [
    "num1 = 1000\n",
    "num2 = \"2022\"\n",
    "\n",
    "try:\n",
    "    add_result = num1 + num2\n",
    "except Exception as ex:\n",
    "    print(f'{ex =}')\n",
    "else:\n",
    "    print(f\"{add_result = }\") "
   ]
  },
  {
   "cell_type": "code",
   "execution_count": null,
   "metadata": {},
   "outputs": [],
   "source": [
    "num1 = 1000\n",
    "num2 = 2022\n",
    "\n",
    "try:\n",
    "    add_result = num1 + num2\n",
    "except Exception as ex:\n",
    "    print(f'{ex =}')\n",
    "else:\n",
    "    print(f\"{add_result = }\") "
   ]
  },
  {
   "cell_type": "markdown",
   "metadata": {},
   "source": [
    "#### Another example"
   ]
  },
  {
   "cell_type": "code",
   "execution_count": null,
   "metadata": {},
   "outputs": [],
   "source": [
    "num1 = int(input(\"Enter an integer:\"))\n",
    "num2 = int(input(\"Enter an integer:\"))\n",
    "print(f'{num1 = }')\n",
    "print(f'{num2 = }')\n",
    "\n",
    "try:\n",
    "    add_result = num1 + num2\n",
    "except Exception as ex:\n",
    "    print(f'{ex =}')\n",
    "else:\n",
    "    print(f\"{add_result = }\") "
   ]
  },
  {
   "cell_type": "code",
   "execution_count": null,
   "metadata": {},
   "outputs": [],
   "source": [
    "num1 = int(input(\"Enter an integer:\"))\n",
    "num2 = int(input(\"Enter an integer:\"))\n",
    "print(f'{num1 = }')\n",
    "print(f'{num2 = }')\n",
    "\n",
    "try:\n",
    "    add_result = num1 + num2\n",
    "except Exception as ex:\n",
    "    print(f'{ex =}')\n",
    "else:\n",
    "    print(f\"{add_result = }\") "
   ]
  },
  {
   "cell_type": "code",
   "execution_count": null,
   "metadata": {},
   "outputs": [],
   "source": [
    "try:\n",
    "    num1 = int(input(\"Enter an integer:\"))\n",
    "    num2 = int(input(\"Enter an integer:\"))\n",
    "except Exception as ex:\n",
    "    print(f'{ex =}')\n",
    "else:\n",
    "    print(f'{num1 = }')\n",
    "    print(f'{num2 = }')\n",
    "    add_result = num1 + num2\n",
    "    print(f\"{add_result = }\") "
   ]
  },
  {
   "cell_type": "code",
   "execution_count": null,
   "metadata": {},
   "outputs": [],
   "source": [
    "try:\n",
    "    num1 = int(input(\"Enter an integer:\"))\n",
    "    num2 = int(input(\"Enter an integer:\"))\n",
    "except Exception as ex:\n",
    "    print(f'{ex =}')\n",
    "else:\n",
    "    print(f'{num1 = }')\n",
    "    print(f'{num2 = }')\n",
    "    add_result = num1 + num2\n",
    "    print(f\"{add_result = }\") "
   ]
  },
  {
   "cell_type": "markdown",
   "metadata": {},
   "source": [
    "##### extended example"
   ]
  },
  {
   "cell_type": "code",
   "execution_count": null,
   "metadata": {},
   "outputs": [],
   "source": [
    "try:\n",
    "    num1 = int(input(\"Enter an integer:\"))\n",
    "    num2 = int(input(\"Enter an integer:\"))\n",
    "except Exception as ex:\n",
    "    print(f'{ex =}')\n",
    "else:\n",
    "    print(f'{num1 = }')\n",
    "    print(f'{num2 = }')\n",
    "    add_result = num1 / num2\n",
    "    print(f\"{add_result = }\") "
   ]
  },
  {
   "cell_type": "markdown",
   "metadata": {},
   "source": [
    "#### Multi-level exceptions"
   ]
  },
  {
   "cell_type": "code",
   "execution_count": null,
   "metadata": {},
   "outputs": [],
   "source": [
    "try:\n",
    "    num1 = int(input(\"Enter an integer:\"))\n",
    "    num2 = int(input(\"Enter an integer:\"))\n",
    "except Exception as ex:\n",
    "    print(f'{ex =}')\n",
    "else:\n",
    "    print(f'{num1 = }')\n",
    "    print(f'{num2 = }')\n",
    "\n",
    "    try:\n",
    "        add_result = num1 / num2\n",
    "    except Exception as ex1:\n",
    "        print(f'{ex1 =}')\n",
    "    else:\n",
    "        print(f\"{add_result = }\") "
   ]
  },
  {
   "cell_type": "markdown",
   "metadata": {},
   "source": [
    "### Handling Multiple exceptions"
   ]
  },
  {
   "cell_type": "code",
   "execution_count": null,
   "metadata": {},
   "outputs": [],
   "source": [
    "try:\n",
    "    num1 = int(input(\"Enter an integer:\"))\n",
    "    num2 = int(input(\"Enter an integer:\"))\n",
    "    division = num1 / num2\n",
    "except Exception as ex:\n",
    "    print(f\"{ex =}\")\n",
    "    print(\"Please enter integers only (or) denominator is 0\")\n",
    "else:\n",
    "    print(f\"{division = }\")\n"
   ]
  },
  {
   "cell_type": "code",
   "execution_count": null,
   "metadata": {},
   "outputs": [],
   "source": [
    "try:\n",
    "    num1 = int(input(\"Enter an integer:\"))\n",
    "    num2 = int(input(\"Enter an integer:\"))\n",
    "    division = num1 / num2\n",
    "except Exception as ex:\n",
    "    print(f\"Unhandled Exception: {ex =}\")\n",
    "except ValueError as ve:\n",
    "    print(f\"{ve =}\")\n",
    "    print(\"Please enter integers only\")\n",
    "except ZeroDivisionError as ze:\n",
    "    print(f\"{ze =}\")\n",
    "    print(\"Denominator should be NON-zero\")\n",
    "\n",
    "else:\n",
    "    print(f\"{division = }\")\n",
    "\n",
    "# top to bottom check happends"
   ]
  },
  {
   "cell_type": "code",
   "execution_count": null,
   "metadata": {},
   "outputs": [],
   "source": [
    "try:\n",
    "    num1 = int(input(\"Enter an integer:\"))\n",
    "    num2 = int(input(\"Enter an integer:\"))\n",
    "    division = num1 / num2\n",
    "except Exception as ex:\n",
    "    print(f\"Unhandled Exception: {ex =}\")\n",
    "except ValueError as ve:\n",
    "    print(f\"{ve =}\")\n",
    "    print(\"Please enter integers only\")\n",
    "except ZeroDivisionError as ze:\n",
    "    print(f\"{ze =}\")\n",
    "    print(\"Denominator should be NON-zero\")\n",
    "\n",
    "else:\n",
    "    print(f\"{division = }\")\n",
    "\n",
    "# top to bottom check happends"
   ]
  },
  {
   "cell_type": "code",
   "execution_count": null,
   "metadata": {},
   "outputs": [],
   "source": [
    "try:\n",
    "    num1 = int(input(\"Enter an integer:\"))\n",
    "    num2 = int(input(\"Enter an integer:\"))\n",
    "    division = num1 / num2\n",
    "except ValueError as ve:\n",
    "    print(f\"{ve =}\")\n",
    "    print(\"Please enter integers only\")\n",
    "except ZeroDivisionError as ze:\n",
    "    print(f\"{ze =}\")\n",
    "    print(\"Denominator should be NON-zero\")\n",
    "except Exception as ex:\n",
    "    print(f\"Unhandled Exception: {ex =}\")\n",
    "else:\n",
    "    print(f\"{division = }\")\n",
    "\n",
    "# top to bottom check happends"
   ]
  },
  {
   "cell_type": "code",
   "execution_count": null,
   "metadata": {},
   "outputs": [],
   "source": [
    "try:\n",
    "    num1 = int(input(\"Enter an integer:\"))\n",
    "    num2 = int(input(\"Enter an integer:\"))\n",
    "    division = num1 / num2\n",
    "except ValueError as ve:\n",
    "    print(f\"{ve =}\")\n",
    "    print(\"Please enter integers only\")\n",
    "except ZeroDivisionError as ze:\n",
    "    print(f\"{ze =}\")\n",
    "    print(\"Denominator should be NON-zero\")\n",
    "except Exception as ex:\n",
    "    print(f\"Unhandled Exception: {ex =}\")\n",
    "else:\n",
    "    print(f\"{division = }\")\n",
    "\n",
    "# top to bottom check happends"
   ]
  },
  {
   "cell_type": "code",
   "execution_count": 61,
   "metadata": {},
   "outputs": [],
   "source": [
    "# NOTE: Though we handle with specific exception based on seen errors,\n",
    "# It is always recommended to have absolute(umbrella) exception to\n",
    "# handle any unknown runtime errors.\n",
    "\n",
    "# NOTE: exception handling should be defined from lower to higher hierarchy."
   ]
  },
  {
   "cell_type": "code",
   "execution_count": null,
   "metadata": {},
   "outputs": [],
   "source": [
    "try:\n",
    "    num1 = int(input(\"Enter an integer:\"))\n",
    "    num2 = int(input(\"Enter an integer:\"))\n",
    "    division = num1 / num2\n",
    "except ValueError as ve:\n",
    "    print(f\"{ve =}\")\n",
    "    print(\"Please enter integers only\")\n",
    "except ArithmeticError as ae: \n",
    "    print(f'{ae = }')\n",
    "    print('Arithmetic error - can be FloatingPointError, or OverflowError or zero error')\n",
    "except ZeroDivisionError as ze:\n",
    "    print(f\"{ze =}\")\n",
    "    print(\"Denominator should be NON-zero\")\n",
    "except Exception as ex:\n",
    "    print(f\"Unhandled Exception: {ex =}\")\n",
    "else:\n",
    "    print(f\"{division = }\")\n",
    "\n",
    "# top to bottom check happends"
   ]
  },
  {
   "cell_type": "markdown",
   "metadata": {},
   "source": [
    "### Assertions\n",
    "\n",
    "\n",
    "    Useful in unit testing/ pytest\n",
    "    Validates the given condition\n",
    "\n",
    "    SYNTAX:\n",
    "        \n",
    "        assert <condition>, \"<exception message if condition is incorrect>\""
   ]
  },
  {
   "cell_type": "code",
   "execution_count": null,
   "metadata": {},
   "outputs": [],
   "source": [
    "print(f\"{10 + 2}\")\n",
    "print(f\"{10 + 2 =}\")\n",
    "print(f\"{10 + 2 == 12}\")"
   ]
  },
  {
   "cell_type": "code",
   "execution_count": null,
   "metadata": {},
   "outputs": [],
   "source": [
    "if 10 + 2 == 12:\n",
    "    print(\"This is True\")\n",
    "else:\n",
    "    print(\"This is not correct\")"
   ]
  },
  {
   "cell_type": "code",
   "execution_count": 66,
   "metadata": {},
   "outputs": [],
   "source": [
    "assert 2 + 10 == 12, \"Wrong answer\""
   ]
  },
  {
   "cell_type": "code",
   "execution_count": 67,
   "metadata": {},
   "outputs": [],
   "source": [
    "assert 10 + 2 == 12, \"Wrong answer\""
   ]
  },
  {
   "cell_type": "code",
   "execution_count": null,
   "metadata": {},
   "outputs": [],
   "source": [
    "assert 12 + 10 == 12, \"Wrong answer\""
   ]
  },
  {
   "cell_type": "code",
   "execution_count": null,
   "metadata": {},
   "outputs": [],
   "source": [
    "try:\n",
    "    assert 12 + 10 == 12, \"Wrong answer\"\n",
    "except AssertionError as ex:\n",
    "    print(f\"{ex =}\")"
   ]
  },
  {
   "cell_type": "markdown",
   "metadata": {},
   "source": [
    "##  Raising exceptions"
   ]
  },
  {
   "cell_type": "code",
   "execution_count": null,
   "metadata": {},
   "outputs": [],
   "source": [
    "raise"
   ]
  },
  {
   "cell_type": "code",
   "execution_count": null,
   "metadata": {},
   "outputs": [],
   "source": [
    "raise Exception()"
   ]
  },
  {
   "cell_type": "code",
   "execution_count": null,
   "metadata": {},
   "outputs": [],
   "source": [
    "raise Exception('This is an error')"
   ]
  },
  {
   "cell_type": "code",
   "execution_count": null,
   "metadata": {},
   "outputs": [],
   "source": [
    "raise ValueError()"
   ]
  },
  {
   "cell_type": "code",
   "execution_count": null,
   "metadata": {},
   "outputs": [],
   "source": [
    "raise TypeError()\n"
   ]
  },
  {
   "cell_type": "code",
   "execution_count": null,
   "metadata": {},
   "outputs": [],
   "source": [
    "raise NameError('This is name error')"
   ]
  },
  {
   "cell_type": "code",
   "execution_count": null,
   "metadata": {},
   "outputs": [],
   "source": [
    "try:\n",
    "    raise NameError('This is name error')\n",
    "except Exception as ex:\n",
    "    print(f'{ex = }')"
   ]
  },
  {
   "cell_type": "code",
   "execution_count": null,
   "metadata": {},
   "outputs": [],
   "source": [
    "try:\n",
    "    raise NameError(\"This is name error\")\n",
    "except NameError as ne:\n",
    "    print(f\"{ne =}\")"
   ]
  },
  {
   "cell_type": "code",
   "execution_count": null,
   "metadata": {},
   "outputs": [],
   "source": [
    "try:\n",
    "    raise NameError('This is name error')\n",
    "except NameError as ne:\n",
    "    ne.add_note(\"PLEASE ENSURE NOT TO REPEAT\")\n",
    "    raise\n",
    "    print(f\"{ne =}\")  # NOT REACHABLE"
   ]
  },
  {
   "cell_type": "code",
   "execution_count": null,
   "metadata": {},
   "outputs": [],
   "source": [
    "try:\n",
    "    try:\n",
    "        raise NameError(\"This is name error\")\n",
    "    except NameError as ne:\n",
    "        ne.add_note(\"PLEASE ENSURE NOT TO REPEAT\")\n",
    "        raise\n",
    "        # print(f\"{ne =}\")  # NOT REACHABLE\n",
    "except Exception as ex:\n",
    "    print(f\"{ex =}\")\n"
   ]
  },
  {
   "cell_type": "code",
   "execution_count": 80,
   "metadata": {},
   "outputs": [],
   "source": [
    "# Assignment - try to get both these exception notes to the final exception message"
   ]
  },
  {
   "cell_type": "code",
   "execution_count": null,
   "metadata": {},
   "outputs": [],
   "source": [
    "try:\n",
    "    num1 = int(input(\"Enter an integer:\"))\n",
    "    num2 = int(input(\"Enter an integer:\"))\n",
    "    if num2 == 0:\n",
    "        # raise Exception(\"Ensure that num2 is NON-ZERO\")\n",
    "        raise ZeroDivisionError(\"Ensure that num2 is NON-ZERO\")\n",
    "except ZeroDivisionError as ze:\n",
    "    print(repr(ze))\n",
    "except Exception as ex:\n",
    "    print(repr(ex))\n",
    "else:\n",
    "    division = num1 / num2\n",
    "    print(f\"{division =}\")"
   ]
  },
  {
   "cell_type": "markdown",
   "metadata": {},
   "source": [
    "## Finally block usage\n",
    "\n",
    "    - its just a placeholder. it will execute  in both cases - when exception and when no exception"
   ]
  },
  {
   "cell_type": "code",
   "execution_count": null,
   "metadata": {},
   "outputs": [],
   "source": [
    "try:\n",
    "    fh = open('myfile.txt', 'w')\n",
    "except Exception as ex:\n",
    "    print(ex)\n",
    "else:\n",
    "    fh.write('myfile')\n",
    "finally:\n",
    "    fh.close()  # Janitor / cleaup action"
   ]
  },
  {
   "cell_type": "markdown",
   "metadata": {},
   "source": [
    "## exception traceback"
   ]
  },
  {
   "cell_type": "code",
   "execution_count": null,
   "metadata": {},
   "outputs": [],
   "source": [
    "num1 = 12\n",
    "num2 = 34\n",
    "num3 = 456\n",
    "num4 = \"34\"\n",
    "num5 = 3445\n",
    "\n",
    "try:\n",
    "    expr1 = num1 / num2 - num3\n",
    "    expr2 = num2 * num4 / num3\n",
    "    expr3 = num2 - num4\n",
    "    expr4 = expr1 * (expr2) / expr3\n",
    "except ZeroDivisionError:\n",
    "    print(\"Denominator in divison should not be zero\")\n",
    "except Exception as ex:\n",
    "    print(f\"Unhandled exception:{ex =}\")"
   ]
  },
  {
   "cell_type": "code",
   "execution_count": null,
   "metadata": {},
   "outputs": [],
   "source": [
    "import sys\n",
    "\n",
    "num1 = 12\n",
    "num2 = 34\n",
    "num3 = 456\n",
    "num4 = \"34\"\n",
    "num5 = 3445\n",
    "\n",
    "try:\n",
    "    expr1 = num1 / num2 - num3\n",
    "    expr2 = num2 * num4 / num3\n",
    "    expr3 = num2 - num4\n",
    "    expr4 = expr1 * (expr2) / expr3\n",
    "except ZeroDivisionError:\n",
    "    print(\"Denominator in divison should not be zero\")\n",
    "except Exception as ex:\n",
    "    print(f\"Unhandled exception:{ex =}\")\n",
    "    print(\" sys.exc_info()\",  sys.exc_info())"
   ]
  },
  {
   "cell_type": "code",
   "execution_count": null,
   "metadata": {},
   "outputs": [],
   "source": [
    "import sys\n",
    "\n",
    "num1 = 12\n",
    "num2 = 34\n",
    "num3 = 456\n",
    "num4 = \"34\"\n",
    "num5 = 3445\n",
    "\n",
    "try:\n",
    "    expr1 = num1 / num2 - num3\n",
    "    expr2 = num2 * num4 / num3\n",
    "    expr3 = num2 - num4\n",
    "    expr4 = expr1 * (expr2) / expr3\n",
    "except ZeroDivisionError:\n",
    "    print(\"Denominator in divison should not be zero\")\n",
    "except Exception as ex:\n",
    "    print(f\"Unhandled exception:{ex =}\")\n",
    "    # print(\" sys.exc_info()\",  sys.exc_info())\n",
    "    exc_type, exc_value, exc_traceback = sys.exc_info()  # TUPLE UNPACKING\n",
    "\n",
    "    print(\n",
    "        f\"\"\"\n",
    "    exc_type     : {exc_type},\n",
    "    exc_value    : {exc_value},\n",
    "    exc_traceback: {exc_traceback},\n",
    "    \"\"\")"
   ]
  },
  {
   "cell_type": "code",
   "execution_count": null,
   "metadata": {},
   "outputs": [],
   "source": [
    "import traceback\n",
    "\n",
    "dir(traceback)"
   ]
  },
  {
   "cell_type": "code",
   "execution_count": null,
   "metadata": {},
   "outputs": [],
   "source": [
    "import sys\n",
    "\n",
    "num1 = 12\n",
    "num2 = 34\n",
    "num3 = 456\n",
    "num4 = \"34\"\n",
    "num5 = 3445\n",
    "\n",
    "try:\n",
    "    expr1 = num1 / num2 - num3\n",
    "    expr2 = num2 * num4 / num3\n",
    "    expr3 = num2 - num4\n",
    "    expr4 = expr1 * (expr2) / expr3\n",
    "except ZeroDivisionError:\n",
    "    print(\"Denominator in divison should not be zero\")\n",
    "except Exception as ex:\n",
    "    print(f\"Unhandled exception:{ex =}\")\n",
    "    # print(\" sys.exc_info()\",  sys.exc_info())\n",
    "    exc_type, exc_value, exc_traceback = sys.exc_info()  # TUPLE UNPACKING\n",
    "\n",
    "    print(\n",
    "        f\"\"\"\n",
    "    exc_type     : {exc_type},\n",
    "    exc_value    : {exc_value},\n",
    "    exc_traceback: {exc_traceback},\n",
    "        Error Line: {exc_traceback.tb_lineno},\n",
    "        tb_lasti  : {exc_traceback.tb_lasti},\n",
    "        tb_next   : {exc_traceback.tb_next}\n",
    "        tb_frame  : {exc_traceback.tb_frame},\n",
    "    \"\"\")"
   ]
  },
  {
   "cell_type": "code",
   "execution_count": null,
   "metadata": {},
   "outputs": [],
   "source": [
    "import traceback\n",
    "import sys\n",
    "\n",
    "num1 = 12\n",
    "num2 = 34\n",
    "num3 = 456\n",
    "num4 = \"34\"\n",
    "num5 = 3445\n",
    "\n",
    "try:\n",
    "    expr1 = num1 / num2 - num3\n",
    "    expr2 = num2 * num4 / num3\n",
    "    expr3 = num2 - num4\n",
    "    expr4 = expr1 * (expr2) / expr3\n",
    "except ZeroDivisionError:\n",
    "    print(\"Denominator in divison should not be zero\")\n",
    "except Exception as ex:\n",
    "    print(f\"Unhandled exception:{ex =}\")\n",
    "    # print(\" sys.exc_info()\",  sys.exc_info())\n",
    "    exc_type, exc_value, exc_traceback = sys.exc_info()  # TUPLE UNPACKING\n",
    "\n",
    "    print(\n",
    "        f\"\"\"\n",
    "    exc_type     : {exc_type},\n",
    "    exc_value    : {exc_value},\n",
    "    exc_traceback: {exc_traceback},\n",
    "        Error Line: {exc_traceback.tb_lineno},\n",
    "        tb_lasti  : {exc_traceback.tb_lasti},\n",
    "        tb_next   : {exc_traceback.tb_next}\n",
    "        tb_frame  : {exc_traceback.tb_frame},\n",
    "    \"\"\")\n",
    "    print()\n",
    "    traceback.print_exc(file=sys.stdout)"
   ]
  },
  {
   "cell_type": "code",
   "execution_count": null,
   "metadata": {},
   "outputs": [],
   "source": [
    "import sys\n",
    "import traceback\n",
    "\n",
    "num1 = 12\n",
    "num2 = 34\n",
    "num3 = 456\n",
    "num4 = \"34\"\n",
    "num5 = 3445\n",
    "\n",
    "try:\n",
    "    expr1 = num1 / num2 - num3\n",
    "    expr2 = num2 * num4 / num3\n",
    "    expr3 = num2 - num4\n",
    "    expr4 = expr1 * (expr2) / expr3\n",
    "except ZeroDivisionError:\n",
    "    print(\"Denominator in divison should not be zero\")\n",
    "except Exception as ex:\n",
    "    print(f\"Unhandled exception:{ex =}\")\n",
    "    # print(\" sys.exc_info()\",  sys.exc_info())\n",
    "    exc_type, exc_value, exc_traceback = sys.exc_info()  # TUPLE UNPACKING\n",
    "\n",
    "    print(\n",
    "        f\"\"\"\n",
    "    exc_type     : {exc_type},\n",
    "    exc_value    : {exc_value},\n",
    "    exc_traceback: {exc_traceback},\n",
    "        Error Line: {exc_traceback.tb_lineno},\n",
    "        tb_lasti  : {exc_traceback.tb_lasti},\n",
    "        tb_next   : {exc_traceback.tb_next}\n",
    "        tb_frame  : {exc_traceback.tb_frame},\n",
    "    \"\"\"\n",
    "    )\n",
    "    print()\n",
    "    traceback.print_exc(file=sys.stdout)\n",
    "else:\n",
    "    print(f\"{expr4 =}\")\n",
    "finally:\n",
    "    print(\"Finally block\")\n",
    "\n",
    "print(\"next Statement\")"
   ]
  },
  {
   "cell_type": "markdown",
   "metadata": {},
   "source": [
    "## custom_exception"
   ]
  },
  {
   "cell_type": "code",
   "execution_count": null,
   "metadata": {},
   "outputs": [],
   "source": [
    "# Method 1 - stop when exception is raised\n",
    "try:\n",
    "    votes = 0\n",
    "    i = 0\n",
    "    while i < 5:\n",
    "        age = int(input('Enter your age:'))\n",
    "        if age <= 0:\n",
    "            raise Exception('Invalid Entry for the age!')\n",
    "        elif age < 18:\n",
    "            raise Exception('You are Ineligible to vote!!')\n",
    "        else:\n",
    "            votes += 1\n",
    "        i += 1\n",
    "except Exception as ex:\n",
    "    print(f'{ex=}')\n",
    "\n",
    "print(f\"Total Eligible Voters: {votes}\")"
   ]
  },
  {
   "cell_type": "code",
   "execution_count": null,
   "metadata": {},
   "outputs": [],
   "source": [
    "# Method 2 - skip the loop with exception\n",
    "class InvalidInput(Exception):\n",
    "    pass\n",
    "\n",
    "\n",
    "class InvalidAge(Exception):\n",
    "    pass\n",
    "\n",
    "votes = 0\n",
    "attempt = 0\n",
    "while attempt < 5:\n",
    "    print(f\"\\n{attempt =}\")\n",
    "    try:\n",
    "        age = int(input(\"Enter your age:\"))\n",
    "        if age <= 0:\n",
    "            raise InvalidInput(\"Invalid Entry for the age!\")\n",
    "        elif age < 18:\n",
    "            # raise InvalidAge('You are Ineligible to vote!!')\n",
    "            raise InvalidAge(f\"You are short by {18 - age} years for voting\")\n",
    "        else:\n",
    "            votes += 1\n",
    "        attempt += 1\n",
    "    except Exception as ex:\n",
    "        print(f\"{ex=}\")\n",
    "    else:\n",
    "        print(f\"Your voterID is {attempt}\")"
   ]
  },
  {
   "cell_type": "code",
   "execution_count": null,
   "metadata": {},
   "outputs": [],
   "source": [
    "# Assignment - enhance this example to take and validate the all the 5 values and give finally summary of valid and invalid votes"
   ]
  },
  {
   "cell_type": "code",
   "execution_count": null,
   "metadata": {},
   "outputs": [
    {
     "name": "stdout",
     "output_type": "stream",
     "text": [
      "\n",
      "Attempt 1:\n"
     ]
    }
   ],
   "source": [
    "class InvalidInput(Exception):\n",
    "    pass\n",
    "\n",
    "class InvalidAge(Exception):\n",
    "    pass\n",
    "\n",
    "votes = 0\n",
    "invalid_votes = 0\n",
    "attempt = 0\n",
    "\n",
    "while attempt < 5:\n",
    "    print(f\"\\nAttempt {attempt + 1}:\")\n",
    "    try:\n",
    "        age = int(input(\"Enter your age: \"))\n",
    "        \n",
    "        if age <= 0:\n",
    "            raise InvalidInput(\"Invalid Entry for the age!\")\n",
    "        elif age < 18:\n",
    "            raise InvalidAge(f\"You are short by {18 - age} years for voting\")\n",
    "        else:\n",
    "            votes += 1\n",
    "        attempt += 1\n",
    "    except InvalidInput as ex:\n",
    "        print(f\"InvalidInput: {ex}\")\n",
    "        invalid_votes += 1\n",
    "        attempt += 1  # Still increment the attempt count for invalid inputs\n",
    "    except InvalidAge as ex:\n",
    "        print(f\"InvalidAge: {ex}\")\n",
    "        invalid_votes += 1\n",
    "        attempt += 1  # Still increment the attempt count for invalid inputs\n",
    "    except Exception as ex:\n",
    "        print(f\"Error: {ex}\")\n",
    "        invalid_votes += 1\n",
    "        attempt += 1  # Handle unexpected errors\n",
    "    else:\n",
    "        print(f\"Your voterID is {attempt}\")\n",
    "\n",
    "# Finally, display the summary\n",
    "print(\"\\nSummary of Votes:\")\n",
    "print(f\"Valid Votes: {votes}\")\n",
    "print(f\"Invalid Votes: {invalid_votes}\")\n"
   ]
  },
  {
   "cell_type": "markdown",
   "metadata": {},
   "source": [
    "## Exception Groups\n",
    "\n",
    "    introduced in Python 3.11\n",
    "\n",
    "PEP 654 - Exception Groups and except*"
   ]
  },
  {
   "cell_type": "code",
   "execution_count": null,
   "metadata": {},
   "outputs": [],
   "source": [
    "print(\"\\n CASE 1\")\n",
    "try:\n",
    "    raise ValueError(\"This is Value Error\")\n",
    "    raise TypeError(\"This is type Error\")\n",
    "except ValueError as ex:\n",
    "    print(f\"{ex =}\")"
   ]
  },
  {
   "cell_type": "code",
   "execution_count": null,
   "metadata": {},
   "outputs": [],
   "source": [
    "raise ValueError(\"This is Value Error\")"
   ]
  },
  {
   "cell_type": "code",
   "execution_count": null,
   "metadata": {},
   "outputs": [],
   "source": [
    "raise ExceptionGroup(\n",
    "    \"It can both Value & Type Errors\",\n",
    "    [\n",
    "        ValueError(1),\n",
    "        TypeError(2),\n",
    "    ],\n",
    ")"
   ]
  },
  {
   "cell_type": "code",
   "execution_count": null,
   "metadata": {},
   "outputs": [],
   "source": [
    "print(\"\\n CASE 2\")\n",
    "try:\n",
    "    raise ExceptionGroup(\n",
    "        \"It can both Value & Type Errors\",\n",
    "        [\n",
    "            ValueError(1),\n",
    "            TypeError(2),\n",
    "        ],\n",
    "    )\n",
    "except ValueError as ve:\n",
    "    print(f\"Value Error: {ve =}\")\n",
    "except TypeError as te:\n",
    "    print(f\"Type Error: {te =}\")\n",
    "except Exception as ex:\n",
    "    print(f\"UnHandled Exception: {ex =}\")\n",
    "\n",
    "# NOTE: ExceptionGroup cant be handled by individual exception types"
   ]
  },
  {
   "cell_type": "code",
   "execution_count": null,
   "metadata": {},
   "outputs": [],
   "source": [
    "print(\"\\n CASE 3\")\n",
    "try:\n",
    "    raise ExceptionGroup(\n",
    "        \"It can both Value & Type Errors\",\n",
    "        [\n",
    "            ValueError(1),\n",
    "            TypeError(2),\n",
    "        ],\n",
    "    )\n",
    "except (ValueError, TypeError) as ve:\n",
    "    print(f\"Value or type Error: {ve =}\")\n",
    "except Exception as ex:\n",
    "    print(f\"UnHandled Exception: {ex =}\")\n",
    "\n",
    "# NOTE: ExceptionGroup cant be handled by individual exception types"
   ]
  },
  {
   "cell_type": "code",
   "execution_count": null,
   "metadata": {},
   "outputs": [],
   "source": [
    "print(\"\\n CASE 4\")\n",
    "try:\n",
    "    raise ExceptionGroup(\n",
    "        \"It can both Value & Type Errors\",\n",
    "        [\n",
    "            ValueError(1),\n",
    "            TypeError(2),\n",
    "        ],\n",
    "    )\n",
    "except* ValueError as ve:\n",
    "    print(f\"Value Error: {ve =}\")\n",
    "except* TypeError as te:\n",
    "    print(f\"Type Error: {te =}\")\n",
    "except* Exception as ex:\n",
    "    print(f\"UnHandled Exception: {ex =}\")\n",
    "\n",
    "# NOTE: except* & except CANT BE used within same try-except blocks\n"
   ]
  },
  {
   "cell_type": "code",
   "execution_count": null,
   "metadata": {},
   "outputs": [],
   "source": [
    "print(\"\\n CASE 5\")\n",
    "try:\n",
    "    raise ExceptionGroup(\n",
    "        \"It can both Value & Type Errors\",\n",
    "        [\n",
    "            TypeError(2),\n",
    "            ValueError(1),\n",
    "        ],\n",
    "    )\n",
    "except* ValueError as ve:\n",
    "    print(f\"Value Error: {ve =}\")\n",
    "except* TypeError as te:\n",
    "    print(f\"Type Error: {te =}\")\n",
    "except* Exception as ex:\n",
    "    print(f\"UnHandled Exception: {ex =}\")\n",
    "\n",
    "# NOTE: except* & except CANT BE used within same try-except blocks\n"
   ]
  },
  {
   "cell_type": "code",
   "execution_count": null,
   "metadata": {},
   "outputs": [],
   "source": [
    "print(\"\\n CASE 6\")\n",
    "try:\n",
    "    raise ExceptionGroup(\n",
    "        \"It can both Value & Type Errors\",\n",
    "        [\n",
    "            ValueError(1),\n",
    "            TypeError(2),\n",
    "            OSError(3),  # Added New Exception\n",
    "        ],\n",
    "    )\n",
    "except* ValueError as ve:\n",
    "    print(f\"Value Error: {ve =}\")\n",
    "except* TypeError as te:\n",
    "    print(f\"Type Error: {te =}\")\n",
    "except* Exception as ex:\n",
    "    print(f\"UnHandled Exception: {ex =}\")"
   ]
  },
  {
   "cell_type": "code",
   "execution_count": null,
   "metadata": {},
   "outputs": [],
   "source": [
    "print(\"\\n CASE 7\")\n",
    "try:\n",
    "    raise ExceptionGroup(\n",
    "        \"It can both Value & Type Errors\",\n",
    "        [\n",
    "            ValueError(1),\n",
    "            TypeError(2),\n",
    "            OSError(3),  # Added New Exception\n",
    "            ExceptionGroup(\n",
    "                \"Another group\",  # Second group inside main group\n",
    "                [Exception(\"Another error\")],\n",
    "            ),\n",
    "        ],\n",
    "    )\n",
    "except* ValueError as ve:\n",
    "    print(f\"Value Error: {ve =}\")\n",
    "except* TypeError as te:\n",
    "    print(f\"Type Error: {te =}\")\n",
    "except* OSError as te:\n",
    "    print(f\"OS Error: {te =}\")\n",
    "except* Exception as ex:\n",
    "    print(f\"UnHandled Exception: {ex =}\")\n",
    "\n"
   ]
  },
  {
   "cell_type": "code",
   "execution_count": null,
   "metadata": {},
   "outputs": [],
   "source": [
    "\n",
    "print(\"\\n CASE 8\")\n",
    "try:\n",
    "    raise ExceptionGroup(\n",
    "        \"It can both Value & Type Errors\",\n",
    "        [\n",
    "            ValueError(1),\n",
    "            TypeError(2),\n",
    "            OSError(3),  # Added New Exception\n",
    "            ExceptionGroup(\n",
    "                \"Another group\",  # Second group inside main group\n",
    "                [Exception(\"Another error\")],\n",
    "            ),\n",
    "            ExceptionGroup(\"nested\", [OSError(4), TypeError(5), ValueError(6)]),\n",
    "        ],\n",
    "    )\n",
    "except* ValueError as ve:\n",
    "    print(f\"Value Error: {ve =}\")\n",
    "except* TypeError as te:\n",
    "    print(f\"Type Error: {te =}\")\n",
    "except* Exception as ex:\n",
    "    print(f\"UnHandled Exception: {ex =}\")\n",
    "    try:\n",
    "        ex_subgroup = ex.subgroup(1)\n",
    "        # this call will throw error, if exception in subgroup\n",
    "    except* Exception as sub_ex:\n",
    "        print(f\"\\tSubGroup Error {sub_ex =}\")"
   ]
  },
  {
   "cell_type": "code",
   "execution_count": null,
   "metadata": {},
   "outputs": [],
   "source": [
    "print(\"\\n CASE 7\")\n",
    "try:\n",
    "    try:\n",
    "        raise ExceptionGroup(\n",
    "            \"eg\",\n",
    "            [\n",
    "                ValueError(1),\n",
    "                TypeError(2),\n",
    "                OSError(3),\n",
    "                ExceptionGroup(\"nested\", [OSError(4), TypeError(5), ValueError(6)]),\n",
    "            ],\n",
    "        )\n",
    "    except* ValueError as e:\n",
    "        print(f\"*ValueError: {e!r}\")\n",
    "        raise\n",
    "    except* OSError as e:\n",
    "        print(f\"*OSError: {e!r}\")\n",
    "except ExceptionGroup as e:\n",
    "    print(repr(e))"
   ]
  },
  {
   "cell_type": "markdown",
   "metadata": {},
   "source": [
    "### Warnings"
   ]
  },
  {
   "cell_type": "code",
   "execution_count": null,
   "metadata": {},
   "outputs": [],
   "source": [
    "\n",
    "#!/usr/bin/python3\n",
    "\"\"\"\n",
    "Purpose: Handling warnings\n",
    "\"\"\"\n",
    "import warnings\n",
    "\n",
    "for each_attribute in dir(warnings):\n",
    "    if not each_attribute.startswith(\"_\"):\n",
    "        print(each_attribute)\n",
    "print()\n",
    "\n",
    "warnings.warn(\"This is not good practice 1\")\n",
    "\n",
    "# Adding filter to display on specific warnings\n",
    "warnings.filterwarnings(\n",
    "    \"ignore\",\n",
    "    \".*do not.*\",\n",
    ")\n",
    "\n",
    "warnings.warn(\"This warning will be displayed\")\n",
    "warnings.warn(\"Do not show this message\")\n",
    "print()\n",
    "\n",
    "try:\n",
    "    # To throw exception when error warning is present\n",
    "    warnings.simplefilter(\"error\", UserWarning)\n",
    "    warnings.warn(\"This is not good practice 2\")\n",
    "except UserWarning as ex:\n",
    "    print(repr(ex))\n",
    "except Exception as ex:\n",
    "    print(\"Unhandled Exception\", repr(ex))\n"
   ]
  },
  {
   "cell_type": "code",
   "execution_count": null,
   "metadata": {},
   "outputs": [],
   "source": []
  }
 ],
 "metadata": {
  "kernelspec": {
   "display_name": "Python 3",
   "language": "python",
   "name": "python3"
  },
  "language_info": {
   "codemirror_mode": {
    "name": "ipython",
    "version": 3
   },
   "file_extension": ".py",
   "mimetype": "text/x-python",
   "name": "python",
   "nbconvert_exporter": "python",
   "pygments_lexer": "ipython3",
   "version": "3.12.3"
  }
 },
 "nbformat": 4,
 "nbformat_minor": 2
}
