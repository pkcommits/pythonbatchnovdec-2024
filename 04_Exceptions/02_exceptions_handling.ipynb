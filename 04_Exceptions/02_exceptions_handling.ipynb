{
 "cells": [
  {
   "cell_type": "markdown",
   "metadata": {},
   "source": [
    "# Exception Handling"
   ]
  },
  {
   "cell_type": "code",
   "execution_count": 1,
   "metadata": {},
   "outputs": [],
   "source": [
    "import builtins"
   ]
  },
  {
   "cell_type": "code",
   "execution_count": 2,
   "metadata": {},
   "outputs": [
    {
     "data": {
      "text/plain": [
       "['ArithmeticError',\n",
       " 'AssertionError',\n",
       " 'AttributeError',\n",
       " 'BaseException',\n",
       " 'BaseExceptionGroup',\n",
       " 'BlockingIOError',\n",
       " 'BrokenPipeError',\n",
       " 'BufferError',\n",
       " 'BytesWarning',\n",
       " 'ChildProcessError',\n",
       " 'ConnectionAbortedError',\n",
       " 'ConnectionError',\n",
       " 'ConnectionRefusedError',\n",
       " 'ConnectionResetError',\n",
       " 'DeprecationWarning',\n",
       " 'EOFError',\n",
       " 'Ellipsis',\n",
       " 'EncodingWarning',\n",
       " 'EnvironmentError',\n",
       " 'Exception',\n",
       " 'ExceptionGroup',\n",
       " 'False',\n",
       " 'FileExistsError',\n",
       " 'FileNotFoundError',\n",
       " 'FloatingPointError',\n",
       " 'FutureWarning',\n",
       " 'GeneratorExit',\n",
       " 'IOError',\n",
       " 'ImportError',\n",
       " 'ImportWarning',\n",
       " 'IndentationError',\n",
       " 'IndexError',\n",
       " 'InterruptedError',\n",
       " 'IsADirectoryError',\n",
       " 'KeyError',\n",
       " 'KeyboardInterrupt',\n",
       " 'LookupError',\n",
       " 'MemoryError',\n",
       " 'ModuleNotFoundError',\n",
       " 'NameError',\n",
       " 'None',\n",
       " 'NotADirectoryError',\n",
       " 'NotImplemented',\n",
       " 'NotImplementedError',\n",
       " 'OSError',\n",
       " 'OverflowError',\n",
       " 'PendingDeprecationWarning',\n",
       " 'PermissionError',\n",
       " 'ProcessLookupError',\n",
       " 'RecursionError',\n",
       " 'ReferenceError',\n",
       " 'ResourceWarning',\n",
       " 'RuntimeError',\n",
       " 'RuntimeWarning',\n",
       " 'StopAsyncIteration',\n",
       " 'StopIteration',\n",
       " 'SyntaxError',\n",
       " 'SyntaxWarning',\n",
       " 'SystemError',\n",
       " 'SystemExit',\n",
       " 'TabError',\n",
       " 'TimeoutError',\n",
       " 'True',\n",
       " 'TypeError',\n",
       " 'UnboundLocalError',\n",
       " 'UnicodeDecodeError',\n",
       " 'UnicodeEncodeError',\n",
       " 'UnicodeError',\n",
       " 'UnicodeTranslateError',\n",
       " 'UnicodeWarning',\n",
       " 'UserWarning',\n",
       " 'ValueError',\n",
       " 'Warning',\n",
       " 'ZeroDivisionError',\n",
       " '__IPYTHON__',\n",
       " '__build_class__',\n",
       " '__debug__',\n",
       " '__doc__',\n",
       " '__import__',\n",
       " '__loader__',\n",
       " '__name__',\n",
       " '__package__',\n",
       " '__spec__',\n",
       " 'abs',\n",
       " 'aiter',\n",
       " 'all',\n",
       " 'anext',\n",
       " 'any',\n",
       " 'ascii',\n",
       " 'bin',\n",
       " 'bool',\n",
       " 'breakpoint',\n",
       " 'bytearray',\n",
       " 'bytes',\n",
       " 'callable',\n",
       " 'chr',\n",
       " 'classmethod',\n",
       " 'compile',\n",
       " 'complex',\n",
       " 'copyright',\n",
       " 'credits',\n",
       " 'delattr',\n",
       " 'dict',\n",
       " 'dir',\n",
       " 'display',\n",
       " 'divmod',\n",
       " 'enumerate',\n",
       " 'eval',\n",
       " 'exec',\n",
       " 'execfile',\n",
       " 'filter',\n",
       " 'float',\n",
       " 'format',\n",
       " 'frozenset',\n",
       " 'get_ipython',\n",
       " 'getattr',\n",
       " 'globals',\n",
       " 'hasattr',\n",
       " 'hash',\n",
       " 'help',\n",
       " 'hex',\n",
       " 'id',\n",
       " 'input',\n",
       " 'int',\n",
       " 'isinstance',\n",
       " 'issubclass',\n",
       " 'iter',\n",
       " 'len',\n",
       " 'license',\n",
       " 'list',\n",
       " 'locals',\n",
       " 'map',\n",
       " 'max',\n",
       " 'memoryview',\n",
       " 'min',\n",
       " 'next',\n",
       " 'object',\n",
       " 'oct',\n",
       " 'open',\n",
       " 'ord',\n",
       " 'pow',\n",
       " 'print',\n",
       " 'property',\n",
       " 'range',\n",
       " 'repr',\n",
       " 'reversed',\n",
       " 'round',\n",
       " 'runfile',\n",
       " 'set',\n",
       " 'setattr',\n",
       " 'slice',\n",
       " 'sorted',\n",
       " 'staticmethod',\n",
       " 'str',\n",
       " 'sum',\n",
       " 'super',\n",
       " 'tuple',\n",
       " 'type',\n",
       " 'vars',\n",
       " 'zip']"
      ]
     },
     "execution_count": 2,
     "metadata": {},
     "output_type": "execute_result"
    }
   ],
   "source": [
    "dir(builtins)"
   ]
  },
  {
   "cell_type": "code",
   "execution_count": 6,
   "metadata": {},
   "outputs": [],
   "source": [
    "num1 = 10\n",
    "#  num2 = 20  # IndentationError: unexpected indent"
   ]
  },
  {
   "cell_type": "code",
   "execution_count": 7,
   "metadata": {},
   "outputs": [
    {
     "ename": "IndentationError",
     "evalue": "expected an indented block after 'for' statement on line 1 (2005260883.py, line 2)",
     "output_type": "error",
     "traceback": [
      "\u001b[0;36m  Cell \u001b[0;32mIn[7], line 2\u001b[0;36m\u001b[0m\n\u001b[0;31m    print(i)\u001b[0m\n\u001b[0m    ^\u001b[0m\n\u001b[0;31mIndentationError\u001b[0m\u001b[0;31m:\u001b[0m expected an indented block after 'for' statement on line 1\n"
     ]
    }
   ],
   "source": [
    "for i in range(20):\n",
    "print(i)"
   ]
  },
  {
   "cell_type": "code",
   "execution_count": 8,
   "metadata": {},
   "outputs": [
    {
     "ename": "ZeroDivisionError",
     "evalue": "division by zero",
     "output_type": "error",
     "traceback": [
      "\u001b[0;31m---------------------------------------------------------------------------\u001b[0m",
      "\u001b[0;31mZeroDivisionError\u001b[0m                         Traceback (most recent call last)",
      "Cell \u001b[0;32mIn[8], line 1\u001b[0m\n\u001b[0;32m----> 1\u001b[0m \u001b[38;5;241;43m10\u001b[39;49m\u001b[43m \u001b[49m\u001b[38;5;241;43m/\u001b[39;49m\u001b[43m \u001b[49m\u001b[38;5;241;43m0\u001b[39;49m\n",
      "\u001b[0;31mZeroDivisionError\u001b[0m: division by zero"
     ]
    }
   ],
   "source": [
    "10 / 0"
   ]
  },
  {
   "cell_type": "code",
   "execution_count": 9,
   "metadata": {},
   "outputs": [
    {
     "ename": "ZeroDivisionError",
     "evalue": "integer modulo by zero",
     "output_type": "error",
     "traceback": [
      "\u001b[0;31m---------------------------------------------------------------------------\u001b[0m",
      "\u001b[0;31mZeroDivisionError\u001b[0m                         Traceback (most recent call last)",
      "Cell \u001b[0;32mIn[9], line 1\u001b[0m\n\u001b[0;32m----> 1\u001b[0m \u001b[38;5;241;43m10\u001b[39;49m\u001b[43m \u001b[49m\u001b[38;5;241;43m%\u001b[39;49m\u001b[43m \u001b[49m\u001b[38;5;241;43m0\u001b[39;49m\n",
      "\u001b[0;31mZeroDivisionError\u001b[0m: integer modulo by zero"
     ]
    }
   ],
   "source": [
    "10 % 0"
   ]
  },
  {
   "cell_type": "code",
   "execution_count": 10,
   "metadata": {},
   "outputs": [
    {
     "ename": "ZeroDivisionError",
     "evalue": "integer division or modulo by zero",
     "output_type": "error",
     "traceback": [
      "\u001b[0;31m---------------------------------------------------------------------------\u001b[0m",
      "\u001b[0;31mZeroDivisionError\u001b[0m                         Traceback (most recent call last)",
      "Cell \u001b[0;32mIn[10], line 1\u001b[0m\n\u001b[0;32m----> 1\u001b[0m \u001b[38;5;241;43m10\u001b[39;49m\u001b[43m \u001b[49m\u001b[38;5;241;43m/\u001b[39;49m\u001b[38;5;241;43m/\u001b[39;49m\u001b[43m \u001b[49m\u001b[38;5;241;43m0\u001b[39;49m\n",
      "\u001b[0;31mZeroDivisionError\u001b[0m: integer division or modulo by zero"
     ]
    }
   ],
   "source": [
    "10 // 0"
   ]
  },
  {
   "cell_type": "code",
   "execution_count": 11,
   "metadata": {},
   "outputs": [
    {
     "ename": "TypeError",
     "evalue": "unsupported operand type(s) for +: 'int' and 'str'",
     "output_type": "error",
     "traceback": [
      "\u001b[0;31m---------------------------------------------------------------------------\u001b[0m",
      "\u001b[0;31mTypeError\u001b[0m                                 Traceback (most recent call last)",
      "Cell \u001b[0;32mIn[11], line 1\u001b[0m\n\u001b[0;32m----> 1\u001b[0m \u001b[38;5;241;43m10\u001b[39;49m\u001b[43m \u001b[49m\u001b[38;5;241;43m+\u001b[39;49m\u001b[43m \u001b[49m\u001b[38;5;124;43m'\u001b[39;49m\u001b[38;5;124;43m20\u001b[39;49m\u001b[38;5;124;43m'\u001b[39;49m\n",
      "\u001b[0;31mTypeError\u001b[0m: unsupported operand type(s) for +: 'int' and 'str'"
     ]
    }
   ],
   "source": [
    "10 + '20'"
   ]
  },
  {
   "cell_type": "code",
   "execution_count": 12,
   "metadata": {},
   "outputs": [
    {
     "ename": "TypeError",
     "evalue": "unsupported operand type(s) for +: 'float' and 'str'",
     "output_type": "error",
     "traceback": [
      "\u001b[0;31m---------------------------------------------------------------------------\u001b[0m",
      "\u001b[0;31mTypeError\u001b[0m                                 Traceback (most recent call last)",
      "Cell \u001b[0;32mIn[12], line 1\u001b[0m\n\u001b[0;32m----> 1\u001b[0m \u001b[38;5;241;43m10.0\u001b[39;49m\u001b[43m \u001b[49m\u001b[38;5;241;43m+\u001b[39;49m\u001b[43m \u001b[49m\u001b[38;5;124;43m'\u001b[39;49m\u001b[38;5;124;43m20\u001b[39;49m\u001b[38;5;124;43m'\u001b[39;49m\n",
      "\u001b[0;31mTypeError\u001b[0m: unsupported operand type(s) for +: 'float' and 'str'"
     ]
    }
   ],
   "source": [
    "10.0 + '20'"
   ]
  },
  {
   "cell_type": "code",
   "execution_count": 13,
   "metadata": {},
   "outputs": [
    {
     "data": {
      "text/plain": [
       "10"
      ]
     },
     "execution_count": 13,
     "metadata": {},
     "output_type": "execute_result"
    }
   ],
   "source": [
    "num1"
   ]
  },
  {
   "cell_type": "code",
   "execution_count": 14,
   "metadata": {},
   "outputs": [
    {
     "ename": "AttributeError",
     "evalue": "'int' object has no attribute 'upper'",
     "output_type": "error",
     "traceback": [
      "\u001b[0;31m---------------------------------------------------------------------------\u001b[0m",
      "\u001b[0;31mAttributeError\u001b[0m                            Traceback (most recent call last)",
      "Cell \u001b[0;32mIn[14], line 1\u001b[0m\n\u001b[0;32m----> 1\u001b[0m \u001b[43mnum1\u001b[49m\u001b[38;5;241;43m.\u001b[39;49m\u001b[43mupper\u001b[49m()\n",
      "\u001b[0;31mAttributeError\u001b[0m: 'int' object has no attribute 'upper'"
     ]
    }
   ],
   "source": [
    "num1.upper()"
   ]
  },
  {
   "cell_type": "code",
   "execution_count": 15,
   "metadata": {},
   "outputs": [
    {
     "ename": "KeyError",
     "evalue": "'b'",
     "output_type": "error",
     "traceback": [
      "\u001b[0;31m---------------------------------------------------------------------------\u001b[0m",
      "\u001b[0;31mKeyError\u001b[0m                                  Traceback (most recent call last)",
      "Cell \u001b[0;32mIn[15], line 2\u001b[0m\n\u001b[1;32m      1\u001b[0m mydict \u001b[38;5;241m=\u001b[39m {\u001b[38;5;124m\"\u001b[39m\u001b[38;5;124ma\u001b[39m\u001b[38;5;124m\"\u001b[39m: \u001b[38;5;124m\"\u001b[39m\u001b[38;5;124mapple\u001b[39m\u001b[38;5;124m\"\u001b[39m}\n\u001b[0;32m----> 2\u001b[0m \u001b[43mmydict\u001b[49m\u001b[43m[\u001b[49m\u001b[38;5;124;43m'\u001b[39;49m\u001b[38;5;124;43mb\u001b[39;49m\u001b[38;5;124;43m'\u001b[39;49m\u001b[43m]\u001b[49m\n",
      "\u001b[0;31mKeyError\u001b[0m: 'b'"
     ]
    }
   ],
   "source": [
    "mydict = {\"a\": \"apple\"}\n",
    "mydict['b']"
   ]
  },
  {
   "cell_type": "code",
   "execution_count": 16,
   "metadata": {},
   "outputs": [
    {
     "ename": "ValueError",
     "evalue": "invalid literal for int() with base 10: '12.3'",
     "output_type": "error",
     "traceback": [
      "\u001b[0;31m---------------------------------------------------------------------------\u001b[0m",
      "\u001b[0;31mValueError\u001b[0m                                Traceback (most recent call last)",
      "Cell \u001b[0;32mIn[16], line 1\u001b[0m\n\u001b[0;32m----> 1\u001b[0m num3 \u001b[38;5;241m=\u001b[39m \u001b[38;5;28;43mint\u001b[39;49m\u001b[43m(\u001b[49m\u001b[38;5;28;43minput\u001b[39;49m\u001b[43m(\u001b[49m\u001b[38;5;124;43m'\u001b[39;49m\u001b[38;5;124;43mEnter number:\u001b[39;49m\u001b[38;5;124;43m'\u001b[39;49m\u001b[43m)\u001b[49m\u001b[43m)\u001b[49m  \u001b[38;5;66;03m# 12.3\u001b[39;00m\n",
      "\u001b[0;31mValueError\u001b[0m: invalid literal for int() with base 10: '12.3'"
     ]
    }
   ],
   "source": [
    "num3 = int(input('Enter number:'))  # 12.3"
   ]
  },
  {
   "cell_type": "markdown",
   "metadata": {},
   "source": [
    "## Exception Handling\n",
    "\n",
    "    FOUR blocks - try, except , else, finally\n",
    "                    mandatory      optional"
   ]
  },
  {
   "cell_type": "code",
   "execution_count": 17,
   "metadata": {},
   "outputs": [
    {
     "name": "stdout",
     "output_type": "stream",
     "text": [
      "12\n"
     ]
    }
   ],
   "source": [
    "try:\n",
    "    num3 = int(input('Enter number:'))\n",
    "    print(num3)\n",
    "except:\n",
    "    pass"
   ]
  },
  {
   "cell_type": "code",
   "execution_count": 18,
   "metadata": {},
   "outputs": [],
   "source": [
    "try:\n",
    "    num3 = int(input('Enter number:'))\n",
    "    print(num3)\n",
    "except:\n",
    "    pass"
   ]
  },
  {
   "cell_type": "code",
   "execution_count": 19,
   "metadata": {},
   "outputs": [
    {
     "name": "stdout",
     "output_type": "stream",
     "text": [
      "got error\n"
     ]
    }
   ],
   "source": [
    "try:\n",
    "    num3 = int(input('Enter number:'))\n",
    "    print(num3)\n",
    "except:\n",
    "    print('got error')"
   ]
  },
  {
   "cell_type": "code",
   "execution_count": 20,
   "metadata": {},
   "outputs": [
    {
     "name": "stdout",
     "output_type": "stream",
     "text": [
      "invalid literal for int() with base 10: '12.3'\n"
     ]
    }
   ],
   "source": [
    "try:\n",
    "    num3 = int(input('Enter number:'))\n",
    "    print(num3)\n",
    "except Exception as ex:\n",
    "    print(ex)"
   ]
  },
  {
   "cell_type": "code",
   "execution_count": 21,
   "metadata": {},
   "outputs": [
    {
     "name": "stdout",
     "output_type": "stream",
     "text": [
      "invalid literal for int() with base 10: 'None'\n"
     ]
    }
   ],
   "source": [
    "try:\n",
    "    num3 = int(input('Enter number:'))\n",
    "    print(num3)\n",
    "except Exception as ex:\n",
    "    print(ex)"
   ]
  },
  {
   "cell_type": "code",
   "execution_count": 23,
   "metadata": {},
   "outputs": [
    {
     "name": "stdout",
     "output_type": "stream",
     "text": [
      "ex      : invalid literal for int() with base 10: ''\n",
      "str(ex) : invalid literal for int() with base 10: ''\n"
     ]
    }
   ],
   "source": [
    "try:\n",
    "    num3 = int(input('Enter number:'))\n",
    "    print(num3)\n",
    "except Exception as ex:\n",
    "    print(\"ex      :\", ex)\n",
    "    print(\"str(ex) :\", str(ex))"
   ]
  },
  {
   "cell_type": "code",
   "execution_count": null,
   "metadata": {},
   "outputs": [
    {
     "name": "stdout",
     "output_type": "stream",
     "text": [
      "ex      : invalid literal for int() with base 10: '12.3'\n",
      "str(ex) : invalid literal for int() with base 10: '12.3'\n",
      "repr(ex): ValueError(\"invalid literal for int() with base 10: '12.3'\")\n",
      "ex     = ValueError(\"invalid literal for int() with base 10: '12.3'\")\n"
     ]
    }
   ],
   "source": [
    "try:\n",
    "    num3 = int(input('Enter number:'))\n",
    "    print(num3)\n",
    "except Exception as ex:\n",
    "    print(\"ex      :\", ex)\n",
    "    print(\"str(ex) :\", str(ex))\n",
    "\n",
    "    print(\"repr(ex):\", repr(ex))\n",
    "    print(f\"{ex    = }\")\n"
   ]
  },
  {
   "cell_type": "code",
   "execution_count": 27,
   "metadata": {},
   "outputs": [
    {
     "name": "stdout",
     "output_type": "stream",
     "text": [
      "['__cause__', '__class__', '__context__', '__delattr__', '__dict__', '__dir__', '__doc__', '__eq__', '__format__', '__ge__', '__getattribute__', '__getstate__', '__gt__', '__hash__', '__init__', '__init_subclass__', '__le__', '__lt__', '__ne__', '__new__', '__reduce__', '__reduce_ex__', '__repr__', '__setattr__', '__setstate__', '__sizeof__', '__str__', '__subclasshook__', '__suppress_context__', '__traceback__', 'add_note', 'args', 'with_traceback']\n",
      "ex      =ValueError(\"invalid literal for int() with base 10: '12.3'\")\n",
      "ex.args =(\"invalid literal for int() with base 10: '12.3'\",)\n"
     ]
    }
   ],
   "source": [
    "try:\n",
    "    num3 = int(input('Enter number:'))\n",
    "    print(num3)\n",
    "except Exception as ex:\n",
    "    print(dir(ex))\n",
    "    print(f'{ex      =}')\n",
    "    print(f'{ex.args =}')\n"
   ]
  },
  {
   "cell_type": "code",
   "execution_count": null,
   "metadata": {},
   "outputs": [
    {
     "ename": "NameError",
     "evalue": "name 'ex' is not defined",
     "output_type": "error",
     "traceback": [
      "\u001b[0;31m---------------------------------------------------------------------------\u001b[0m",
      "\u001b[0;31mNameError\u001b[0m                                 Traceback (most recent call last)",
      "Cell \u001b[0;32mIn[25], line 1\u001b[0m\n\u001b[0;32m----> 1\u001b[0m \u001b[43mex\u001b[49m\n",
      "\u001b[0;31mNameError\u001b[0m: name 'ex' is not defined"
     ]
    }
   ],
   "source": [
    "ex   # scope is within the exception block only"
   ]
  },
  {
   "cell_type": "markdown",
   "metadata": {},
   "source": [
    "##### Another example"
   ]
  },
  {
   "cell_type": "code",
   "execution_count": null,
   "metadata": {},
   "outputs": [
    {
     "name": "stdout",
     "output_type": "stream",
     "text": [
      "ex = ZeroDivisionError('division by zero')\n"
     ]
    }
   ],
   "source": [
    "# heirarychy of error \n",
    "\n",
    "try:\n",
    "    10/ 0 \n",
    "    10 // 0\n",
    "    10 % 0 \n",
    "\n",
    "    int(12)\n",
    "    int(12.3)\n",
    "    int('12.3')\n",
    "\n",
    "    num1.upper()\n",
    "except Exception as ex:\n",
    "    print(f'{ex = }')"
   ]
  },
  {
   "cell_type": "code",
   "execution_count": 32,
   "metadata": {},
   "outputs": [],
   "source": [
    "# NOTE: Execution Order in Python: top to bottom, left to right"
   ]
  },
  {
   "cell_type": "code",
   "execution_count": 33,
   "metadata": {},
   "outputs": [
    {
     "name": "stdout",
     "output_type": "stream",
     "text": [
      "ex = ZeroDivisionError('integer division or modulo by zero')\n"
     ]
    }
   ],
   "source": [
    "try:\n",
    "    # 10/ 0 \n",
    "    10 // 0\n",
    "    10 % 0 \n",
    "\n",
    "    int(12)\n",
    "    int(12.3)\n",
    "    int('12.3')\n",
    "\n",
    "    num1.upper()\n",
    "except Exception as ex:\n",
    "    print(f'{ex = }')"
   ]
  },
  {
   "cell_type": "code",
   "execution_count": 34,
   "metadata": {},
   "outputs": [
    {
     "name": "stdout",
     "output_type": "stream",
     "text": [
      "ex = ZeroDivisionError('integer modulo by zero')\n"
     ]
    }
   ],
   "source": [
    "try:\n",
    "    # 10/ 0 \n",
    "    # 10 // 0\n",
    "    10 % 0 \n",
    "\n",
    "    int(12)\n",
    "    int(12.3)\n",
    "    int('12.3')\n",
    "\n",
    "    num1.upper()\n",
    "except Exception as ex:\n",
    "    print(f'{ex = }')"
   ]
  },
  {
   "cell_type": "code",
   "execution_count": 35,
   "metadata": {},
   "outputs": [
    {
     "name": "stdout",
     "output_type": "stream",
     "text": [
      "ex = ValueError(\"invalid literal for int() with base 10: '12.3'\")\n"
     ]
    }
   ],
   "source": [
    "try:\n",
    "    # 10/ 0 \n",
    "    # 10 // 0\n",
    "    # 10 % 0 \n",
    "\n",
    "    int(12)\n",
    "    int(12.3)\n",
    "    int('12.3')\n",
    "\n",
    "    num1.upper()\n",
    "except Exception as ex:\n",
    "    print(f'{ex = }')"
   ]
  },
  {
   "cell_type": "code",
   "execution_count": 36,
   "metadata": {},
   "outputs": [
    {
     "name": "stdout",
     "output_type": "stream",
     "text": [
      "ex = AttributeError(\"'int' object has no attribute 'upper'\")\n"
     ]
    }
   ],
   "source": [
    "try:\n",
    "    # 10/ 0 \n",
    "    # 10 // 0\n",
    "    # 10 % 0 \n",
    "\n",
    "    int(12)\n",
    "    int(12.3)\n",
    "    # int('12.3')\n",
    "\n",
    "    num1.upper()\n",
    "except Exception as ex:\n",
    "    print(f'{ex = }')"
   ]
  },
  {
   "cell_type": "code",
   "execution_count": 38,
   "metadata": {},
   "outputs": [
    {
     "name": "stdout",
     "output_type": "stream",
     "text": [
      "No error .. all good\n"
     ]
    }
   ],
   "source": [
    "try:\n",
    "    # 10/ 0 \n",
    "    # 10 // 0\n",
    "    # 10 % 0 \n",
    "\n",
    "    int(12)\n",
    "    int(12.3)\n",
    "    # int('12.3')\n",
    "\n",
    "    # num1.upper()\n",
    "except Exception as ex:\n",
    "    print(f'{ex = }')\n",
    "else:\n",
    "    print('No error .. all good')"
   ]
  },
  {
   "cell_type": "markdown",
   "metadata": {},
   "source": [
    "### Exception flows \n",
    "\n",
    "    when no error \n",
    "                try -> else -> finally\n",
    "    when error \n",
    "                try -> except -> finally\n",
    "\n",
    "\n",
    "    NOTE: else and finally blocks are optional\n",
    "    NOTE:\n",
    "        1. code which we may result in errors need to be placed in try block\n",
    "        2. Error handling to corresponding errors need to be placed in except block\n",
    "        3. If no errors in try block, corresponding actions in else block\n",
    "        4. placeholder for all restrospective actions correspoding to that in try block\n",
    "            ex: in try block, socket/file/remote_connect/db_connection was opened\n",
    "                in finally block, we can close it\n"
   ]
  },
  {
   "cell_type": "code",
   "execution_count": null,
   "metadata": {},
   "outputs": [
    {
     "name": "stdout",
     "output_type": "stream",
     "text": [
      "In try block\n",
      "In Else block\n",
      "In finally block\n",
      "next statement\n"
     ]
    }
   ],
   "source": [
    "try:\n",
    "    print(\"In try block\")\n",
    "    10 / int(input(\"Enter a number:\")) # 10\n",
    "except Exception as ex1:\n",
    "    print(f\"In Exception block: {ex1 =}\")\n",
    "else:\n",
    "    print(\"In Else block\")\n",
    "finally:\n",
    "    print(\"In finally block\")\n",
    "\n",
    "print(\"next statement\")"
   ]
  },
  {
   "cell_type": "code",
   "execution_count": null,
   "metadata": {},
   "outputs": [
    {
     "name": "stdout",
     "output_type": "stream",
     "text": [
      "In try block\n",
      "In Exception block: ex1 =ZeroDivisionError('division by zero')\n",
      "In finally block\n",
      "next statement\n"
     ]
    }
   ],
   "source": [
    "try:\n",
    "    print(\"In try block\")\n",
    "    10 / int(input(\"Enter a number:\")) # 0\n",
    "except Exception as ex1:\n",
    "    print(f\"In Exception block: {ex1 =}\")\n",
    "else:\n",
    "    print(\"In Else block\")\n",
    "finally:\n",
    "    print(\"In finally block\")\n",
    "\n",
    "print(\"next statement\")"
   ]
  },
  {
   "cell_type": "code",
   "execution_count": 41,
   "metadata": {},
   "outputs": [
    {
     "name": "stdout",
     "output_type": "stream",
     "text": [
      "In try block\n",
      "In Exception block: ex1 =ZeroDivisionError('division by zero')\n",
      "In finally block\n",
      "next statement\n"
     ]
    }
   ],
   "source": [
    "try:\n",
    "    print(\"In try block\")\n",
    "    10 /0\n",
    "    10 / int(input(\"Enter a number:\"))\n",
    "except Exception as ex1:\n",
    "    print(f\"In Exception block: {ex1 =}\")\n",
    "else:\n",
    "    print(\"In Else block\")\n",
    "finally:\n",
    "    print(\"In finally block\")\n",
    "\n",
    "print(\"next statement\")"
   ]
  },
  {
   "cell_type": "code",
   "execution_count": 42,
   "metadata": {},
   "outputs": [],
   "source": [
    "\n",
    "# # case 1 -- 5  ==========================> NO EXCEPTION\n",
    "# - python 03_exception_handling.py\n",
    "# In try block\n",
    "# Enter a number:5\n",
    "# In Else block\n",
    "# In finally block\n",
    "# next statement\n",
    "\n",
    "# # case 2 -- 0 ============================> ZeroDivisionError\n",
    "# - python 03_exception_handling.py\n",
    "# In try block\n",
    "# Enter a number:0\n",
    "# In Exception block: ex1 =ZeroDivisionError('division by zero')\n",
    "# In finally block\n",
    "# next statement\n",
    "\n",
    "\n",
    "# # case 3 -- 5.3  ==========================> ValueError\n",
    "# - python 03_exception_handling.py\n",
    "# In try block\n",
    "# Enter a number:5.3\n",
    "# In Exception block: ex1 =ValueError(\"invalid literal for int() with base 10: '5.3'\")\n",
    "# In finally block\n",
    "# next statement"
   ]
  },
  {
   "cell_type": "markdown",
   "metadata": {},
   "source": [
    "### Importance of \"else\" block"
   ]
  },
  {
   "cell_type": "code",
   "execution_count": 43,
   "metadata": {},
   "outputs": [
    {
     "name": "stdout",
     "output_type": "stream",
     "text": [
      "add_result = 3022\n"
     ]
    }
   ],
   "source": [
    "# Case 1 - without exception handling\n",
    "num1 = 1000\n",
    "num2 = 2022\n",
    "\n",
    "add_result = num1 + num2\n",
    "print(f\"{add_result = }\")"
   ]
  },
  {
   "cell_type": "code",
   "execution_count": 44,
   "metadata": {},
   "outputs": [
    {
     "ename": "TypeError",
     "evalue": "unsupported operand type(s) for +: 'int' and 'str'",
     "output_type": "error",
     "traceback": [
      "\u001b[0;31m---------------------------------------------------------------------------\u001b[0m",
      "\u001b[0;31mTypeError\u001b[0m                                 Traceback (most recent call last)",
      "Cell \u001b[0;32mIn[44], line 4\u001b[0m\n\u001b[1;32m      1\u001b[0m num1 \u001b[38;5;241m=\u001b[39m \u001b[38;5;241m1000\u001b[39m\n\u001b[1;32m      2\u001b[0m num2 \u001b[38;5;241m=\u001b[39m \u001b[38;5;124m\"\u001b[39m\u001b[38;5;124m2022\u001b[39m\u001b[38;5;124m\"\u001b[39m\n\u001b[0;32m----> 4\u001b[0m add_result \u001b[38;5;241m=\u001b[39m \u001b[43mnum1\u001b[49m\u001b[43m \u001b[49m\u001b[38;5;241;43m+\u001b[39;49m\u001b[43m \u001b[49m\u001b[43mnum2\u001b[49m\n\u001b[1;32m      5\u001b[0m \u001b[38;5;28mprint\u001b[39m(\u001b[38;5;124mf\u001b[39m\u001b[38;5;124m\"\u001b[39m\u001b[38;5;132;01m{\u001b[39;00madd_result\u001b[38;5;250m \u001b[39m\u001b[38;5;132;01m= }\u001b[39;00m\u001b[38;5;124m\"\u001b[39m) \n",
      "\u001b[0;31mTypeError\u001b[0m: unsupported operand type(s) for +: 'int' and 'str'"
     ]
    }
   ],
   "source": [
    "num1 = 1000\n",
    "num2 = \"2022\"\n",
    "\n",
    "add_result = num1 + num2\n",
    "print(f\"{add_result = }\") "
   ]
  },
  {
   "cell_type": "code",
   "execution_count": 45,
   "metadata": {},
   "outputs": [
    {
     "name": "stdout",
     "output_type": "stream",
     "text": [
      "ex =TypeError(\"unsupported operand type(s) for +: 'int' and 'str'\")\n"
     ]
    }
   ],
   "source": [
    "num1 = 1000\n",
    "num2 = \"2022\"\n",
    "\n",
    "try:\n",
    "    add_result = num1 + num2\n",
    "except Exception as ex:\n",
    "    print(f'{ex =}')\n",
    "else:\n",
    "    print(f\"{add_result = }\") "
   ]
  },
  {
   "cell_type": "code",
   "execution_count": 46,
   "metadata": {},
   "outputs": [
    {
     "name": "stdout",
     "output_type": "stream",
     "text": [
      "add_result = 3022\n"
     ]
    }
   ],
   "source": [
    "num1 = 1000\n",
    "num2 = 2022\n",
    "\n",
    "try:\n",
    "    add_result = num1 + num2\n",
    "except Exception as ex:\n",
    "    print(f'{ex =}')\n",
    "else:\n",
    "    print(f\"{add_result = }\") "
   ]
  },
  {
   "cell_type": "markdown",
   "metadata": {},
   "source": [
    "#### Another example"
   ]
  },
  {
   "cell_type": "code",
   "execution_count": 48,
   "metadata": {},
   "outputs": [
    {
     "name": "stdout",
     "output_type": "stream",
     "text": [
      "num1 = 100\n",
      "num2 = 200\n",
      "add_result = 300\n"
     ]
    }
   ],
   "source": [
    "num1 = int(input(\"Enter an integer:\"))\n",
    "num2 = int(input(\"Enter an integer:\"))\n",
    "print(f'{num1 = }')\n",
    "print(f'{num2 = }')\n",
    "\n",
    "try:\n",
    "    add_result = num1 + num2\n",
    "except Exception as ex:\n",
    "    print(f'{ex =}')\n",
    "else:\n",
    "    print(f\"{add_result = }\") "
   ]
  },
  {
   "cell_type": "code",
   "execution_count": 49,
   "metadata": {},
   "outputs": [
    {
     "ename": "ValueError",
     "evalue": "invalid literal for int() with base 10: '222.222'",
     "output_type": "error",
     "traceback": [
      "\u001b[0;31m---------------------------------------------------------------------------\u001b[0m",
      "\u001b[0;31mValueError\u001b[0m                                Traceback (most recent call last)",
      "Cell \u001b[0;32mIn[49], line 2\u001b[0m\n\u001b[1;32m      1\u001b[0m num1 \u001b[38;5;241m=\u001b[39m \u001b[38;5;28mint\u001b[39m(\u001b[38;5;28minput\u001b[39m(\u001b[38;5;124m\"\u001b[39m\u001b[38;5;124mEnter an integer:\u001b[39m\u001b[38;5;124m\"\u001b[39m))\n\u001b[0;32m----> 2\u001b[0m num2 \u001b[38;5;241m=\u001b[39m \u001b[38;5;28;43mint\u001b[39;49m\u001b[43m(\u001b[49m\u001b[38;5;28;43minput\u001b[39;49m\u001b[43m(\u001b[49m\u001b[38;5;124;43m\"\u001b[39;49m\u001b[38;5;124;43mEnter an integer:\u001b[39;49m\u001b[38;5;124;43m\"\u001b[39;49m\u001b[43m)\u001b[49m\u001b[43m)\u001b[49m\n\u001b[1;32m      3\u001b[0m \u001b[38;5;28mprint\u001b[39m(\u001b[38;5;124mf\u001b[39m\u001b[38;5;124m'\u001b[39m\u001b[38;5;132;01m{\u001b[39;00mnum1\u001b[38;5;250m \u001b[39m\u001b[38;5;132;01m= }\u001b[39;00m\u001b[38;5;124m'\u001b[39m)\n\u001b[1;32m      4\u001b[0m \u001b[38;5;28mprint\u001b[39m(\u001b[38;5;124mf\u001b[39m\u001b[38;5;124m'\u001b[39m\u001b[38;5;132;01m{\u001b[39;00mnum2\u001b[38;5;250m \u001b[39m\u001b[38;5;132;01m= }\u001b[39;00m\u001b[38;5;124m'\u001b[39m)\n",
      "\u001b[0;31mValueError\u001b[0m: invalid literal for int() with base 10: '222.222'"
     ]
    }
   ],
   "source": [
    "num1 = int(input(\"Enter an integer:\"))\n",
    "num2 = int(input(\"Enter an integer:\"))\n",
    "print(f'{num1 = }')\n",
    "print(f'{num2 = }')\n",
    "\n",
    "try:\n",
    "    add_result = num1 + num2\n",
    "except Exception as ex:\n",
    "    print(f'{ex =}')\n",
    "else:\n",
    "    print(f\"{add_result = }\") "
   ]
  },
  {
   "cell_type": "code",
   "execution_count": 50,
   "metadata": {},
   "outputs": [
    {
     "name": "stdout",
     "output_type": "stream",
     "text": [
      "ex =ValueError(\"invalid literal for int() with base 10: '2323.23'\")\n"
     ]
    }
   ],
   "source": [
    "try:\n",
    "    num1 = int(input(\"Enter an integer:\"))\n",
    "    num2 = int(input(\"Enter an integer:\"))\n",
    "except Exception as ex:\n",
    "    print(f'{ex =}')\n",
    "else:\n",
    "    print(f'{num1 = }')\n",
    "    print(f'{num2 = }')\n",
    "    add_result = num1 + num2\n",
    "    print(f\"{add_result = }\") "
   ]
  },
  {
   "cell_type": "code",
   "execution_count": 51,
   "metadata": {},
   "outputs": [
    {
     "name": "stdout",
     "output_type": "stream",
     "text": [
      "num1 = 2313\n",
      "num2 = 123123\n",
      "add_result = 125436\n"
     ]
    }
   ],
   "source": [
    "try:\n",
    "    num1 = int(input(\"Enter an integer:\"))\n",
    "    num2 = int(input(\"Enter an integer:\"))\n",
    "except Exception as ex:\n",
    "    print(f'{ex =}')\n",
    "else:\n",
    "    print(f'{num1 = }')\n",
    "    print(f'{num2 = }')\n",
    "    add_result = num1 + num2\n",
    "    print(f\"{add_result = }\") "
   ]
  },
  {
   "cell_type": "markdown",
   "metadata": {},
   "source": [
    "##### extended example"
   ]
  },
  {
   "cell_type": "code",
   "execution_count": 52,
   "metadata": {},
   "outputs": [
    {
     "name": "stdout",
     "output_type": "stream",
     "text": [
      "num1 = 100\n",
      "num2 = 0\n"
     ]
    },
    {
     "ename": "ZeroDivisionError",
     "evalue": "division by zero",
     "output_type": "error",
     "traceback": [
      "\u001b[0;31m---------------------------------------------------------------------------\u001b[0m",
      "\u001b[0;31mZeroDivisionError\u001b[0m                         Traceback (most recent call last)",
      "Cell \u001b[0;32mIn[52], line 9\u001b[0m\n\u001b[1;32m      7\u001b[0m \u001b[38;5;28mprint\u001b[39m(\u001b[38;5;124mf\u001b[39m\u001b[38;5;124m'\u001b[39m\u001b[38;5;132;01m{\u001b[39;00mnum1\u001b[38;5;250m \u001b[39m\u001b[38;5;132;01m= }\u001b[39;00m\u001b[38;5;124m'\u001b[39m)\n\u001b[1;32m      8\u001b[0m \u001b[38;5;28mprint\u001b[39m(\u001b[38;5;124mf\u001b[39m\u001b[38;5;124m'\u001b[39m\u001b[38;5;132;01m{\u001b[39;00mnum2\u001b[38;5;250m \u001b[39m\u001b[38;5;132;01m= }\u001b[39;00m\u001b[38;5;124m'\u001b[39m)\n\u001b[0;32m----> 9\u001b[0m add_result \u001b[38;5;241m=\u001b[39m \u001b[43mnum1\u001b[49m\u001b[43m \u001b[49m\u001b[38;5;241;43m/\u001b[39;49m\u001b[43m \u001b[49m\u001b[43mnum2\u001b[49m\n\u001b[1;32m     10\u001b[0m \u001b[38;5;28mprint\u001b[39m(\u001b[38;5;124mf\u001b[39m\u001b[38;5;124m\"\u001b[39m\u001b[38;5;132;01m{\u001b[39;00madd_result\u001b[38;5;250m \u001b[39m\u001b[38;5;132;01m= }\u001b[39;00m\u001b[38;5;124m\"\u001b[39m) \n",
      "\u001b[0;31mZeroDivisionError\u001b[0m: division by zero"
     ]
    }
   ],
   "source": [
    "try:\n",
    "    num1 = int(input(\"Enter an integer:\"))\n",
    "    num2 = int(input(\"Enter an integer:\"))\n",
    "except Exception as ex:\n",
    "    print(f'{ex =}')\n",
    "else:\n",
    "    print(f'{num1 = }')\n",
    "    print(f'{num2 = }')\n",
    "    add_result = num1 / num2\n",
    "    print(f\"{add_result = }\") "
   ]
  },
  {
   "cell_type": "markdown",
   "metadata": {},
   "source": [
    "#### Multi-level exceptions"
   ]
  },
  {
   "cell_type": "code",
   "execution_count": 54,
   "metadata": {},
   "outputs": [
    {
     "name": "stdout",
     "output_type": "stream",
     "text": [
      "num1 = 100\n",
      "num2 = 0\n",
      "ex1 =ZeroDivisionError('division by zero')\n"
     ]
    }
   ],
   "source": [
    "try:\n",
    "    num1 = int(input(\"Enter an integer:\"))\n",
    "    num2 = int(input(\"Enter an integer:\"))\n",
    "except Exception as ex:\n",
    "    print(f'{ex =}')\n",
    "else:\n",
    "    print(f'{num1 = }')\n",
    "    print(f'{num2 = }')\n",
    "\n",
    "    try:\n",
    "        add_result = num1 / num2\n",
    "    except Exception as ex1:\n",
    "        print(f'{ex1 =}')\n",
    "    else:\n",
    "        print(f\"{add_result = }\") "
   ]
  },
  {
   "cell_type": "markdown",
   "metadata": {},
   "source": [
    "### Handling Multiple exceptions"
   ]
  },
  {
   "cell_type": "code",
   "execution_count": 55,
   "metadata": {},
   "outputs": [
    {
     "name": "stdout",
     "output_type": "stream",
     "text": [
      "division = 0.5\n"
     ]
    }
   ],
   "source": [
    "try:\n",
    "    num1 = int(input(\"Enter an integer:\"))\n",
    "    num2 = int(input(\"Enter an integer:\"))\n",
    "    division = num1 / num2\n",
    "except Exception as ex:\n",
    "    print(f\"{ex =}\")\n",
    "    print(\"Please enter integers only (or) denominator is 0\")\n",
    "else:\n",
    "    print(f\"{division = }\")\n"
   ]
  },
  {
   "cell_type": "code",
   "execution_count": 57,
   "metadata": {},
   "outputs": [
    {
     "name": "stdout",
     "output_type": "stream",
     "text": [
      "Unhandled Exception: ex =ValueError(\"invalid literal for int() with base 10: '21323.'\")\n"
     ]
    }
   ],
   "source": [
    "try:\n",
    "    num1 = int(input(\"Enter an integer:\"))\n",
    "    num2 = int(input(\"Enter an integer:\"))\n",
    "    division = num1 / num2\n",
    "except Exception as ex:\n",
    "    print(f\"Unhandled Exception: {ex =}\")\n",
    "except ValueError as ve:\n",
    "    print(f\"{ve =}\")\n",
    "    print(\"Please enter integers only\")\n",
    "except ZeroDivisionError as ze:\n",
    "    print(f\"{ze =}\")\n",
    "    print(\"Denominator should be NON-zero\")\n",
    "\n",
    "else:\n",
    "    print(f\"{division = }\")\n",
    "\n",
    "# top to bottom check happends"
   ]
  },
  {
   "cell_type": "code",
   "execution_count": 58,
   "metadata": {},
   "outputs": [
    {
     "name": "stdout",
     "output_type": "stream",
     "text": [
      "Unhandled Exception: ex =ZeroDivisionError('division by zero')\n"
     ]
    }
   ],
   "source": [
    "try:\n",
    "    num1 = int(input(\"Enter an integer:\"))\n",
    "    num2 = int(input(\"Enter an integer:\"))\n",
    "    division = num1 / num2\n",
    "except Exception as ex:\n",
    "    print(f\"Unhandled Exception: {ex =}\")\n",
    "except ValueError as ve:\n",
    "    print(f\"{ve =}\")\n",
    "    print(\"Please enter integers only\")\n",
    "except ZeroDivisionError as ze:\n",
    "    print(f\"{ze =}\")\n",
    "    print(\"Denominator should be NON-zero\")\n",
    "\n",
    "else:\n",
    "    print(f\"{division = }\")\n",
    "\n",
    "# top to bottom check happends"
   ]
  },
  {
   "cell_type": "code",
   "execution_count": 59,
   "metadata": {},
   "outputs": [
    {
     "name": "stdout",
     "output_type": "stream",
     "text": [
      "ve =ValueError(\"invalid literal for int() with base 10: '21313.213'\")\n",
      "Please enter integers only\n"
     ]
    }
   ],
   "source": [
    "try:\n",
    "    num1 = int(input(\"Enter an integer:\"))\n",
    "    num2 = int(input(\"Enter an integer:\"))\n",
    "    division = num1 / num2\n",
    "except ValueError as ve:\n",
    "    print(f\"{ve =}\")\n",
    "    print(\"Please enter integers only\")\n",
    "except ZeroDivisionError as ze:\n",
    "    print(f\"{ze =}\")\n",
    "    print(\"Denominator should be NON-zero\")\n",
    "except Exception as ex:\n",
    "    print(f\"Unhandled Exception: {ex =}\")\n",
    "else:\n",
    "    print(f\"{division = }\")\n",
    "\n",
    "# top to bottom check happends"
   ]
  },
  {
   "cell_type": "code",
   "execution_count": 60,
   "metadata": {},
   "outputs": [
    {
     "name": "stdout",
     "output_type": "stream",
     "text": [
      "ze =ZeroDivisionError('division by zero')\n",
      "Denominator should be NON-zero\n"
     ]
    }
   ],
   "source": [
    "try:\n",
    "    num1 = int(input(\"Enter an integer:\"))\n",
    "    num2 = int(input(\"Enter an integer:\"))\n",
    "    division = num1 / num2\n",
    "except ValueError as ve:\n",
    "    print(f\"{ve =}\")\n",
    "    print(\"Please enter integers only\")\n",
    "except ZeroDivisionError as ze:\n",
    "    print(f\"{ze =}\")\n",
    "    print(\"Denominator should be NON-zero\")\n",
    "except Exception as ex:\n",
    "    print(f\"Unhandled Exception: {ex =}\")\n",
    "else:\n",
    "    print(f\"{division = }\")\n",
    "\n",
    "# top to bottom check happends"
   ]
  },
  {
   "cell_type": "code",
   "execution_count": 61,
   "metadata": {},
   "outputs": [],
   "source": [
    "# NOTE: Though we handle with specific exception based on seen errors,\n",
    "# It is always recommended to have absolute(umbrella) exception to\n",
    "# handle any unknown runtime errors.\n",
    "\n",
    "# NOTE: exception handling should be defined from lower to higher hierarchy."
   ]
  },
  {
   "cell_type": "code",
   "execution_count": 63,
   "metadata": {},
   "outputs": [
    {
     "name": "stdout",
     "output_type": "stream",
     "text": [
      "ae = ZeroDivisionError('division by zero')\n",
      "Arithmetic error - can be FloatingPointError, or OverflowError or zero error\n"
     ]
    }
   ],
   "source": [
    "try:\n",
    "    num1 = int(input(\"Enter an integer:\"))\n",
    "    num2 = int(input(\"Enter an integer:\"))\n",
    "    division = num1 / num2\n",
    "except ValueError as ve:\n",
    "    print(f\"{ve =}\")\n",
    "    print(\"Please enter integers only\")\n",
    "except ArithmeticError as ae: \n",
    "    print(f'{ae = }')\n",
    "    print('Arithmetic error - can be FloatingPointError, or OverflowError or zero error')\n",
    "except ZeroDivisionError as ze:\n",
    "    print(f\"{ze =}\")\n",
    "    print(\"Denominator should be NON-zero\")\n",
    "except Exception as ex:\n",
    "    print(f\"Unhandled Exception: {ex =}\")\n",
    "else:\n",
    "    print(f\"{division = }\")\n",
    "\n",
    "# top to bottom check happends"
   ]
  },
  {
   "cell_type": "markdown",
   "metadata": {},
   "source": [
    "### Assertions\n",
    "\n",
    "\n",
    "    Useful in unit testing/ pytest\n",
    "    Validates the given condition\n",
    "\n",
    "    SYNTAX:\n",
    "        \n",
    "        assert <condition>, \"<exception message if condition is incorrect>\""
   ]
  },
  {
   "cell_type": "code",
   "execution_count": 64,
   "metadata": {},
   "outputs": [
    {
     "name": "stdout",
     "output_type": "stream",
     "text": [
      "12\n",
      "10 + 2 =12\n",
      "True\n"
     ]
    }
   ],
   "source": [
    "print(f\"{10 + 2}\")\n",
    "print(f\"{10 + 2 =}\")\n",
    "print(f\"{10 + 2 == 12}\")"
   ]
  },
  {
   "cell_type": "code",
   "execution_count": 65,
   "metadata": {},
   "outputs": [
    {
     "name": "stdout",
     "output_type": "stream",
     "text": [
      "This is True\n"
     ]
    }
   ],
   "source": [
    "if 10 + 2 == 12:\n",
    "    print(\"This is True\")\n",
    "else:\n",
    "    print(\"This is not correct\")"
   ]
  },
  {
   "cell_type": "code",
   "execution_count": 66,
   "metadata": {},
   "outputs": [],
   "source": [
    "assert 2 + 10 == 12, \"Wrong answer\""
   ]
  },
  {
   "cell_type": "code",
   "execution_count": 67,
   "metadata": {},
   "outputs": [],
   "source": [
    "assert 10 + 2 == 12, \"Wrong answer\""
   ]
  },
  {
   "cell_type": "code",
   "execution_count": 68,
   "metadata": {},
   "outputs": [
    {
     "ename": "AssertionError",
     "evalue": "Wrong answer",
     "output_type": "error",
     "traceback": [
      "\u001b[0;31m---------------------------------------------------------------------------\u001b[0m",
      "\u001b[0;31mAssertionError\u001b[0m                            Traceback (most recent call last)",
      "Cell \u001b[0;32mIn[68], line 1\u001b[0m\n\u001b[0;32m----> 1\u001b[0m \u001b[38;5;28;01massert\u001b[39;00m \u001b[38;5;241m12\u001b[39m \u001b[38;5;241m+\u001b[39m \u001b[38;5;241m10\u001b[39m \u001b[38;5;241m==\u001b[39m \u001b[38;5;241m12\u001b[39m, \u001b[38;5;124m\"\u001b[39m\u001b[38;5;124mWrong answer\u001b[39m\u001b[38;5;124m\"\u001b[39m\n",
      "\u001b[0;31mAssertionError\u001b[0m: Wrong answer"
     ]
    }
   ],
   "source": [
    "assert 12 + 10 == 12, \"Wrong answer\""
   ]
  },
  {
   "cell_type": "code",
   "execution_count": 69,
   "metadata": {},
   "outputs": [
    {
     "name": "stdout",
     "output_type": "stream",
     "text": [
      "ex =AssertionError('Wrong answer')\n"
     ]
    }
   ],
   "source": [
    "try:\n",
    "    assert 12 + 10 == 12, \"Wrong answer\"\n",
    "except AssertionError as ex:\n",
    "    print(f\"{ex =}\")"
   ]
  },
  {
   "cell_type": "markdown",
   "metadata": {},
   "source": [
    "##  Raising exceptions"
   ]
  },
  {
   "cell_type": "code",
   "execution_count": 70,
   "metadata": {},
   "outputs": [
    {
     "ename": "RuntimeError",
     "evalue": "No active exception to reraise",
     "output_type": "error",
     "traceback": [
      "\u001b[0;31m---------------------------------------------------------------------------\u001b[0m",
      "\u001b[0;31mRuntimeError\u001b[0m                              Traceback (most recent call last)",
      "Cell \u001b[0;32mIn[70], line 1\u001b[0m\n\u001b[0;32m----> 1\u001b[0m \u001b[38;5;28;01mraise\u001b[39;00m\n",
      "\u001b[0;31mRuntimeError\u001b[0m: No active exception to reraise"
     ]
    }
   ],
   "source": [
    "raise"
   ]
  },
  {
   "cell_type": "code",
   "execution_count": 71,
   "metadata": {},
   "outputs": [
    {
     "ename": "Exception",
     "evalue": "",
     "output_type": "error",
     "traceback": [
      "\u001b[0;31m---------------------------------------------------------------------------\u001b[0m",
      "\u001b[0;31mException\u001b[0m                                 Traceback (most recent call last)",
      "Cell \u001b[0;32mIn[71], line 1\u001b[0m\n\u001b[0;32m----> 1\u001b[0m \u001b[38;5;28;01mraise\u001b[39;00m \u001b[38;5;167;01mException\u001b[39;00m()\n",
      "\u001b[0;31mException\u001b[0m: "
     ]
    }
   ],
   "source": [
    "raise Exception()"
   ]
  },
  {
   "cell_type": "code",
   "execution_count": 72,
   "metadata": {},
   "outputs": [
    {
     "ename": "Exception",
     "evalue": "This is an error",
     "output_type": "error",
     "traceback": [
      "\u001b[0;31m---------------------------------------------------------------------------\u001b[0m",
      "\u001b[0;31mException\u001b[0m                                 Traceback (most recent call last)",
      "Cell \u001b[0;32mIn[72], line 1\u001b[0m\n\u001b[0;32m----> 1\u001b[0m \u001b[38;5;28;01mraise\u001b[39;00m \u001b[38;5;167;01mException\u001b[39;00m(\u001b[38;5;124m'\u001b[39m\u001b[38;5;124mThis is an error\u001b[39m\u001b[38;5;124m'\u001b[39m)\n",
      "\u001b[0;31mException\u001b[0m: This is an error"
     ]
    }
   ],
   "source": [
    "raise Exception('This is an error')"
   ]
  },
  {
   "cell_type": "code",
   "execution_count": 73,
   "metadata": {},
   "outputs": [
    {
     "ename": "ValueError",
     "evalue": "",
     "output_type": "error",
     "traceback": [
      "\u001b[0;31m---------------------------------------------------------------------------\u001b[0m",
      "\u001b[0;31mValueError\u001b[0m                                Traceback (most recent call last)",
      "Cell \u001b[0;32mIn[73], line 1\u001b[0m\n\u001b[0;32m----> 1\u001b[0m \u001b[38;5;28;01mraise\u001b[39;00m \u001b[38;5;167;01mValueError\u001b[39;00m()\n",
      "\u001b[0;31mValueError\u001b[0m: "
     ]
    }
   ],
   "source": [
    "raise ValueError()"
   ]
  },
  {
   "cell_type": "code",
   "execution_count": 74,
   "metadata": {},
   "outputs": [
    {
     "ename": "TypeError",
     "evalue": "",
     "output_type": "error",
     "traceback": [
      "\u001b[0;31m---------------------------------------------------------------------------\u001b[0m",
      "\u001b[0;31mTypeError\u001b[0m                                 Traceback (most recent call last)",
      "Cell \u001b[0;32mIn[74], line 1\u001b[0m\n\u001b[0;32m----> 1\u001b[0m \u001b[38;5;28;01mraise\u001b[39;00m \u001b[38;5;167;01mTypeError\u001b[39;00m()\n",
      "\u001b[0;31mTypeError\u001b[0m: "
     ]
    }
   ],
   "source": [
    "raise TypeError()\n"
   ]
  },
  {
   "cell_type": "code",
   "execution_count": 75,
   "metadata": {},
   "outputs": [
    {
     "ename": "NameError",
     "evalue": "This is name error",
     "output_type": "error",
     "traceback": [
      "\u001b[0;31m---------------------------------------------------------------------------\u001b[0m",
      "\u001b[0;31mNameError\u001b[0m                                 Traceback (most recent call last)",
      "Cell \u001b[0;32mIn[75], line 1\u001b[0m\n\u001b[0;32m----> 1\u001b[0m \u001b[38;5;28;01mraise\u001b[39;00m \u001b[38;5;167;01mNameError\u001b[39;00m(\u001b[38;5;124m'\u001b[39m\u001b[38;5;124mThis is name error\u001b[39m\u001b[38;5;124m'\u001b[39m)\n",
      "\u001b[0;31mNameError\u001b[0m: This is name error"
     ]
    }
   ],
   "source": [
    "raise NameError('This is name error')"
   ]
  },
  {
   "cell_type": "code",
   "execution_count": 76,
   "metadata": {},
   "outputs": [
    {
     "name": "stdout",
     "output_type": "stream",
     "text": [
      "ex = NameError('This is name error')\n"
     ]
    }
   ],
   "source": [
    "try:\n",
    "    raise NameError('This is name error')\n",
    "except Exception as ex:\n",
    "    print(f'{ex = }')"
   ]
  },
  {
   "cell_type": "code",
   "execution_count": 77,
   "metadata": {},
   "outputs": [
    {
     "name": "stdout",
     "output_type": "stream",
     "text": [
      "ne =NameError('This is name error')\n"
     ]
    }
   ],
   "source": [
    "try:\n",
    "    raise NameError(\"This is name error\")\n",
    "except NameError as ne:\n",
    "    print(f\"{ne =}\")"
   ]
  },
  {
   "cell_type": "code",
   "execution_count": 78,
   "metadata": {},
   "outputs": [
    {
     "ename": "NameError",
     "evalue": "This is name error",
     "output_type": "error",
     "traceback": [
      "\u001b[0;31m---------------------------------------------------------------------------\u001b[0m",
      "\u001b[0;31mNameError\u001b[0m                                 Traceback (most recent call last)",
      "Cell \u001b[0;32mIn[78], line 2\u001b[0m\n\u001b[1;32m      1\u001b[0m \u001b[38;5;28;01mtry\u001b[39;00m:\n\u001b[0;32m----> 2\u001b[0m     \u001b[38;5;28;01mraise\u001b[39;00m \u001b[38;5;167;01mNameError\u001b[39;00m(\u001b[38;5;124m'\u001b[39m\u001b[38;5;124mThis is name error\u001b[39m\u001b[38;5;124m'\u001b[39m)\n\u001b[1;32m      3\u001b[0m \u001b[38;5;28;01mexcept\u001b[39;00m \u001b[38;5;167;01mNameError\u001b[39;00m \u001b[38;5;28;01mas\u001b[39;00m ne:\n\u001b[1;32m      4\u001b[0m     ne\u001b[38;5;241m.\u001b[39madd_note(\u001b[38;5;124m\"\u001b[39m\u001b[38;5;124mPLEASE ENSURE NOT TO REPEAT\u001b[39m\u001b[38;5;124m\"\u001b[39m)\n",
      "\u001b[0;31mNameError\u001b[0m: This is name error",
      "\u001b[0mPLEASE ENSURE NOT TO REPEAT"
     ]
    }
   ],
   "source": [
    "try:\n",
    "    raise NameError('This is name error')\n",
    "except NameError as ne:\n",
    "    ne.add_note(\"PLEASE ENSURE NOT TO REPEAT\")\n",
    "    raise\n",
    "    print(f\"{ne =}\")  # NOT REACHABLE"
   ]
  },
  {
   "cell_type": "code",
   "execution_count": 79,
   "metadata": {},
   "outputs": [
    {
     "name": "stdout",
     "output_type": "stream",
     "text": [
      "ex =NameError('This is name error')\n"
     ]
    }
   ],
   "source": [
    "try:\n",
    "    try:\n",
    "        raise NameError(\"This is name error\")\n",
    "    except NameError as ne:\n",
    "        ne.add_note(\"PLEASE ENSURE NOT TO REPEAT\")\n",
    "        raise\n",
    "        # print(f\"{ne =}\")  # NOT REACHABLE\n",
    "except Exception as ex:\n",
    "    print(f\"{ex =}\")\n"
   ]
  },
  {
   "cell_type": "code",
   "execution_count": 80,
   "metadata": {},
   "outputs": [],
   "source": [
    "# Assignment - try to get both these exception notes to the final exception message"
   ]
  },
  {
   "cell_type": "code",
   "execution_count": 82,
   "metadata": {},
   "outputs": [
    {
     "name": "stdout",
     "output_type": "stream",
     "text": [
      "ZeroDivisionError('Ensure that num2 is NON-ZERO')\n"
     ]
    }
   ],
   "source": [
    "try:\n",
    "    num1 = int(input(\"Enter an integer:\"))\n",
    "    num2 = int(input(\"Enter an integer:\"))\n",
    "    if num2 == 0:\n",
    "        # raise Exception(\"Ensure that num2 is NON-ZERO\")\n",
    "        raise ZeroDivisionError(\"Ensure that num2 is NON-ZERO\")\n",
    "except ZeroDivisionError as ze:\n",
    "    print(repr(ze))\n",
    "except Exception as ex:\n",
    "    print(repr(ex))\n",
    "else:\n",
    "    division = num1 / num2\n",
    "    print(f\"{division =}\")"
   ]
  },
  {
   "cell_type": "markdown",
   "metadata": {},
   "source": [
    "## Finally block usage\n",
    "\n",
    "    - its just a placeholder. it will execute  in both cases - when exception and when no exception"
   ]
  },
  {
   "cell_type": "code",
   "execution_count": null,
   "metadata": {},
   "outputs": [],
   "source": [
    "try:\n",
    "    fh = open('myfile.txt', 'w')\n",
    "except Exception as ex:\n",
    "    print(ex)\n",
    "else:\n",
    "    fh.write('myfile')\n",
    "finally:\n",
    "    fh.close()  # Janitor / cleaup action"
   ]
  },
  {
   "cell_type": "markdown",
   "metadata": {},
   "source": [
    "## exception traceback"
   ]
  },
  {
   "cell_type": "code",
   "execution_count": 87,
   "metadata": {},
   "outputs": [
    {
     "name": "stdout",
     "output_type": "stream",
     "text": [
      "Unhandled exception:ex =TypeError(\"unsupported operand type(s) for /: 'str' and 'int'\")\n"
     ]
    }
   ],
   "source": [
    "num1 = 12\n",
    "num2 = 34\n",
    "num3 = 456\n",
    "num4 = \"34\"\n",
    "num5 = 3445\n",
    "\n",
    "try:\n",
    "    expr1 = num1 / num2 - num3\n",
    "    expr2 = num2 * num4 / num3\n",
    "    expr3 = num2 - num4\n",
    "    expr4 = expr1 * (expr2) / expr3\n",
    "except ZeroDivisionError:\n",
    "    print(\"Denominator in divison should not be zero\")\n",
    "except Exception as ex:\n",
    "    print(f\"Unhandled exception:{ex =}\")"
   ]
  },
  {
   "cell_type": "code",
   "execution_count": 88,
   "metadata": {},
   "outputs": [
    {
     "name": "stdout",
     "output_type": "stream",
     "text": [
      "Unhandled exception:ex =TypeError(\"unsupported operand type(s) for /: 'str' and 'int'\")\n",
      " sys.exc_info() (<class 'TypeError'>, TypeError(\"unsupported operand type(s) for /: 'str' and 'int'\"), <traceback object at 0x7cb6e7f5ce40>)\n"
     ]
    }
   ],
   "source": [
    "import sys\n",
    "\n",
    "num1 = 12\n",
    "num2 = 34\n",
    "num3 = 456\n",
    "num4 = \"34\"\n",
    "num5 = 3445\n",
    "\n",
    "try:\n",
    "    expr1 = num1 / num2 - num3\n",
    "    expr2 = num2 * num4 / num3\n",
    "    expr3 = num2 - num4\n",
    "    expr4 = expr1 * (expr2) / expr3\n",
    "except ZeroDivisionError:\n",
    "    print(\"Denominator in divison should not be zero\")\n",
    "except Exception as ex:\n",
    "    print(f\"Unhandled exception:{ex =}\")\n",
    "    print(\" sys.exc_info()\",  sys.exc_info())"
   ]
  },
  {
   "cell_type": "code",
   "execution_count": 89,
   "metadata": {},
   "outputs": [
    {
     "name": "stdout",
     "output_type": "stream",
     "text": [
      "Unhandled exception:ex =TypeError(\"unsupported operand type(s) for /: 'str' and 'int'\")\n",
      "\n",
      "    exc_type     : <class 'TypeError'>,\n",
      "    exc_value    : unsupported operand type(s) for /: 'str' and 'int',\n",
      "    exc_traceback: <traceback object at 0x7cb6e70c8480>,\n",
      "    \n"
     ]
    }
   ],
   "source": [
    "import sys\n",
    "\n",
    "num1 = 12\n",
    "num2 = 34\n",
    "num3 = 456\n",
    "num4 = \"34\"\n",
    "num5 = 3445\n",
    "\n",
    "try:\n",
    "    expr1 = num1 / num2 - num3\n",
    "    expr2 = num2 * num4 / num3\n",
    "    expr3 = num2 - num4\n",
    "    expr4 = expr1 * (expr2) / expr3\n",
    "except ZeroDivisionError:\n",
    "    print(\"Denominator in divison should not be zero\")\n",
    "except Exception as ex:\n",
    "    print(f\"Unhandled exception:{ex =}\")\n",
    "    # print(\" sys.exc_info()\",  sys.exc_info())\n",
    "    exc_type, exc_value, exc_traceback = sys.exc_info()  # TUPLE UNPACKING\n",
    "\n",
    "    print(\n",
    "        f\"\"\"\n",
    "    exc_type     : {exc_type},\n",
    "    exc_value    : {exc_value},\n",
    "    exc_traceback: {exc_traceback},\n",
    "    \"\"\")"
   ]
  },
  {
   "cell_type": "code",
   "execution_count": 90,
   "metadata": {},
   "outputs": [
    {
     "data": {
      "text/plain": [
       "['FrameSummary',\n",
       " 'StackSummary',\n",
       " 'TracebackException',\n",
       " '_Anchors',\n",
       " '_CASE_COST',\n",
       " '_ExceptionPrintContext',\n",
       " '_MAX_CANDIDATE_ITEMS',\n",
       " '_MAX_STRING_SIZE',\n",
       " '_MOVE_COST',\n",
       " '_RECURSIVE_CUTOFF',\n",
       " '_Sentinel',\n",
       " '_WIDE_CHAR_SPECIFIERS',\n",
       " '__all__',\n",
       " '__builtins__',\n",
       " '__cached__',\n",
       " '__doc__',\n",
       " '__file__',\n",
       " '__loader__',\n",
       " '__name__',\n",
       " '__package__',\n",
       " '__spec__',\n",
       " '_byte_offset_to_character_offset',\n",
       " '_cause_message',\n",
       " '_compute_suggestion_error',\n",
       " '_context_message',\n",
       " '_display_width',\n",
       " '_extract_caret_anchors_from_line_segment',\n",
       " '_format_final_exc_line',\n",
       " '_get_code_position',\n",
       " '_levenshtein_distance',\n",
       " '_parse_value_tb',\n",
       " '_safe_string',\n",
       " '_sentinel',\n",
       " '_substitution_cost',\n",
       " '_walk_tb_with_full_positions',\n",
       " 'clear_frames',\n",
       " 'collections',\n",
       " 'extract_stack',\n",
       " 'extract_tb',\n",
       " 'format_exc',\n",
       " 'format_exception',\n",
       " 'format_exception_only',\n",
       " 'format_list',\n",
       " 'format_stack',\n",
       " 'format_tb',\n",
       " 'itertools',\n",
       " 'linecache',\n",
       " 'print_exc',\n",
       " 'print_exception',\n",
       " 'print_last',\n",
       " 'print_list',\n",
       " 'print_stack',\n",
       " 'print_tb',\n",
       " 'suppress',\n",
       " 'sys',\n",
       " 'textwrap',\n",
       " 'walk_stack',\n",
       " 'walk_tb']"
      ]
     },
     "execution_count": 90,
     "metadata": {},
     "output_type": "execute_result"
    }
   ],
   "source": [
    "import traceback\n",
    "\n",
    "dir(traceback)"
   ]
  },
  {
   "cell_type": "code",
   "execution_count": null,
   "metadata": {},
   "outputs": [
    {
     "name": "stdout",
     "output_type": "stream",
     "text": [
      "Unhandled exception:ex =TypeError(\"unsupported operand type(s) for /: 'str' and 'int'\")\n",
      "\n",
      "    exc_type     : <class 'TypeError'>,\n",
      "    exc_value    : unsupported operand type(s) for /: 'str' and 'int',\n",
      "    exc_traceback: <traceback object at 0x7cb6e70fafc0>,\n",
      "        Error Line: 12,\n",
      "        tb_lasti  : 30,\n",
      "        tb_next   : None\n",
      "        tb_frame  : <frame at 0x7cb6e701cee0, file '/tmp/ipykernel_12307/17956025.py', line 30, code <module>>,\n",
      "    \n"
     ]
    }
   ],
   "source": [
    "import sys\n",
    "\n",
    "num1 = 12\n",
    "num2 = 34\n",
    "num3 = 456\n",
    "num4 = \"34\"\n",
    "num5 = 3445\n",
    "\n",
    "try:\n",
    "    expr1 = num1 / num2 - num3\n",
    "    expr2 = num2 * num4 / num3\n",
    "    expr3 = num2 - num4\n",
    "    expr4 = expr1 * (expr2) / expr3\n",
    "except ZeroDivisionError:\n",
    "    print(\"Denominator in divison should not be zero\")\n",
    "except Exception as ex:\n",
    "    print(f\"Unhandled exception:{ex =}\")\n",
    "    # print(\" sys.exc_info()\",  sys.exc_info())\n",
    "    exc_type, exc_value, exc_traceback = sys.exc_info()  # TUPLE UNPACKING\n",
    "\n",
    "    print(\n",
    "        f\"\"\"\n",
    "    exc_type     : {exc_type},\n",
    "    exc_value    : {exc_value},\n",
    "    exc_traceback: {exc_traceback},\n",
    "        Error Line: {exc_traceback.tb_lineno},\n",
    "        tb_lasti  : {exc_traceback.tb_lasti},\n",
    "        tb_next   : {exc_traceback.tb_next}\n",
    "        tb_frame  : {exc_traceback.tb_frame},\n",
    "    \"\"\")"
   ]
  },
  {
   "cell_type": "code",
   "execution_count": 92,
   "metadata": {},
   "outputs": [
    {
     "name": "stdout",
     "output_type": "stream",
     "text": [
      "Unhandled exception:ex =TypeError(\"unsupported operand type(s) for /: 'str' and 'int'\")\n",
      "\n",
      "    exc_type     : <class 'TypeError'>,\n",
      "    exc_value    : unsupported operand type(s) for /: 'str' and 'int',\n",
      "    exc_traceback: <traceback object at 0x7cb6e70d64c0>,\n",
      "        Error Line: 12,\n",
      "        tb_lasti  : 30,\n",
      "        tb_next   : None\n",
      "        tb_frame  : <frame at 0x7cb6e701c940, file '/tmp/ipykernel_12307/438986148.py', line 30, code <module>>,\n",
      "    \n",
      "\n",
      "Traceback (most recent call last):\n",
      "  File \"/tmp/ipykernel_12307/438986148.py\", line 12, in <module>\n",
      "    expr2 = num2 * num4 / num3\n",
      "            ~~~~~~~~~~~~^~~~~~\n",
      "TypeError: unsupported operand type(s) for /: 'str' and 'int'\n"
     ]
    }
   ],
   "source": [
    "import traceback\n",
    "import sys\n",
    "\n",
    "num1 = 12\n",
    "num2 = 34\n",
    "num3 = 456\n",
    "num4 = \"34\"\n",
    "num5 = 3445\n",
    "\n",
    "try:\n",
    "    expr1 = num1 / num2 - num3\n",
    "    expr2 = num2 * num4 / num3\n",
    "    expr3 = num2 - num4\n",
    "    expr4 = expr1 * (expr2) / expr3\n",
    "except ZeroDivisionError:\n",
    "    print(\"Denominator in divison should not be zero\")\n",
    "except Exception as ex:\n",
    "    print(f\"Unhandled exception:{ex =}\")\n",
    "    # print(\" sys.exc_info()\",  sys.exc_info())\n",
    "    exc_type, exc_value, exc_traceback = sys.exc_info()  # TUPLE UNPACKING\n",
    "\n",
    "    print(\n",
    "        f\"\"\"\n",
    "    exc_type     : {exc_type},\n",
    "    exc_value    : {exc_value},\n",
    "    exc_traceback: {exc_traceback},\n",
    "        Error Line: {exc_traceback.tb_lineno},\n",
    "        tb_lasti  : {exc_traceback.tb_lasti},\n",
    "        tb_next   : {exc_traceback.tb_next}\n",
    "        tb_frame  : {exc_traceback.tb_frame},\n",
    "    \"\"\")\n",
    "    print()\n",
    "    traceback.print_exc(file=sys.stdout)"
   ]
  },
  {
   "cell_type": "code",
   "execution_count": 93,
   "metadata": {},
   "outputs": [
    {
     "name": "stdout",
     "output_type": "stream",
     "text": [
      "Unhandled exception:ex =TypeError(\"unsupported operand type(s) for /: 'str' and 'int'\")\n",
      "\n",
      "    exc_type     : <class 'TypeError'>,\n",
      "    exc_value    : unsupported operand type(s) for /: 'str' and 'int',\n",
      "    exc_traceback: <traceback object at 0x7cb6e7284980>,\n",
      "        Error Line: 12,\n",
      "        tb_lasti  : 30,\n",
      "        tb_next   : None\n",
      "        tb_frame  : <frame at 0x7cb6e701c3a0, file '/tmp/ipykernel_12307/1666058202.py', line 30, code <module>>,\n",
      "    \n",
      "\n",
      "Traceback (most recent call last):\n",
      "  File \"/tmp/ipykernel_12307/1666058202.py\", line 12, in <module>\n",
      "    expr2 = num2 * num4 / num3\n",
      "            ~~~~~~~~~~~~^~~~~~\n",
      "TypeError: unsupported operand type(s) for /: 'str' and 'int'\n",
      "Finally block\n",
      "next Statement\n"
     ]
    }
   ],
   "source": [
    "import sys\n",
    "import traceback\n",
    "\n",
    "num1 = 12\n",
    "num2 = 34\n",
    "num3 = 456\n",
    "num4 = \"34\"\n",
    "num5 = 3445\n",
    "\n",
    "try:\n",
    "    expr1 = num1 / num2 - num3\n",
    "    expr2 = num2 * num4 / num3\n",
    "    expr3 = num2 - num4\n",
    "    expr4 = expr1 * (expr2) / expr3\n",
    "except ZeroDivisionError:\n",
    "    print(\"Denominator in divison should not be zero\")\n",
    "except Exception as ex:\n",
    "    print(f\"Unhandled exception:{ex =}\")\n",
    "    # print(\" sys.exc_info()\",  sys.exc_info())\n",
    "    exc_type, exc_value, exc_traceback = sys.exc_info()  # TUPLE UNPACKING\n",
    "\n",
    "    print(\n",
    "        f\"\"\"\n",
    "    exc_type     : {exc_type},\n",
    "    exc_value    : {exc_value},\n",
    "    exc_traceback: {exc_traceback},\n",
    "        Error Line: {exc_traceback.tb_lineno},\n",
    "        tb_lasti  : {exc_traceback.tb_lasti},\n",
    "        tb_next   : {exc_traceback.tb_next}\n",
    "        tb_frame  : {exc_traceback.tb_frame},\n",
    "    \"\"\"\n",
    "    )\n",
    "    print()\n",
    "    traceback.print_exc(file=sys.stdout)\n",
    "else:\n",
    "    print(f\"{expr4 =}\")\n",
    "finally:\n",
    "    print(\"Finally block\")\n",
    "\n",
    "print(\"next Statement\")"
   ]
  },
  {
   "cell_type": "markdown",
   "metadata": {},
   "source": [
    "## custom_exception"
   ]
  },
  {
   "cell_type": "code",
   "execution_count": 94,
   "metadata": {},
   "outputs": [
    {
     "name": "stdout",
     "output_type": "stream",
     "text": [
      "ex=Exception('You are Ineligible to vote!!')\n",
      "Total Eligible Voters: 1\n"
     ]
    }
   ],
   "source": [
    "# Method 1 - stop when exception is raised\n",
    "try:\n",
    "    votes = 0\n",
    "    i = 0\n",
    "    while i < 5:\n",
    "        age = int(input('Enter your age:'))\n",
    "        if age <= 0:\n",
    "            raise Exception('Invalid Entry for the age!')\n",
    "        elif age < 18:\n",
    "            raise Exception('You are Ineligible to vote!!')\n",
    "        else:\n",
    "            votes += 1\n",
    "        i += 1\n",
    "except Exception as ex:\n",
    "    print(f'{ex=}')\n",
    "\n",
    "print(f\"Total Eligible Voters: {votes}\")"
   ]
  },
  {
   "cell_type": "code",
   "execution_count": null,
   "metadata": {},
   "outputs": [
    {
     "name": "stdout",
     "output_type": "stream",
     "text": [
      "\n",
      "attempt =0\n",
      "ex=InvalidAge('You are short by 17 years for voting')\n",
      "\n",
      "attempt =0\n",
      "ex=ValueError(\"invalid literal for int() with base 10: ''\")\n",
      "\n",
      "attempt =0\n",
      "ex=InvalidAge('You are short by 16 years for voting')\n",
      "\n",
      "attempt =0\n",
      "ex=InvalidAge('You are short by 15 years for voting')\n",
      "\n",
      "attempt =0\n",
      "ex=InvalidAge('You are short by 14 years for voting')\n",
      "\n",
      "attempt =0\n",
      "ex=InvalidAge('You are short by 13 years for voting')\n",
      "\n",
      "attempt =0\n",
      "ex=InvalidAge('You are short by 13 years for voting')\n",
      "\n",
      "attempt =0\n",
      "ex=InvalidAge('You are short by 13 years for voting')\n",
      "\n",
      "attempt =0\n",
      "ex=InvalidAge('You are short by 13 years for voting')\n",
      "\n",
      "attempt =0\n",
      "ex=InvalidAge('You are short by 13 years for voting')\n",
      "\n",
      "attempt =0\n",
      "ex=InvalidAge('You are short by 13 years for voting')\n",
      "\n",
      "attempt =0\n",
      "ex=InvalidAge('You are short by 13 years for voting')\n",
      "\n",
      "attempt =0\n",
      "ex=InvalidAge('You are short by 13 years for voting')\n",
      "\n",
      "attempt =0\n",
      "ex=InvalidAge('You are short by 13 years for voting')\n",
      "\n",
      "attempt =0\n",
      "ex=InvalidAge('You are short by 13 years for voting')\n",
      "\n",
      "attempt =0\n",
      "ex=InvalidAge('You are short by 13 years for voting')\n",
      "\n",
      "attempt =0\n",
      "ex=InvalidAge('You are short by 13 years for voting')\n",
      "\n",
      "attempt =0\n",
      "ex=InvalidAge('You are short by 13 years for voting')\n",
      "\n",
      "attempt =0\n",
      "ex=InvalidAge('You are short by 13 years for voting')\n",
      "\n",
      "attempt =0\n",
      "ex=InvalidAge('You are short by 13 years for voting')\n",
      "\n",
      "attempt =0\n",
      "ex=InvalidAge('You are short by 13 years for voting')\n",
      "\n",
      "attempt =0\n"
     ]
    }
   ],
   "source": [
    "# Method 2 - skip the loop with exception\n",
    "class InvalidInput(Exception):\n",
    "    pass\n",
    "\n",
    "\n",
    "class InvalidAge(Exception):\n",
    "    pass\n",
    "\n",
    "\n",
    "\n",
    "votes = 0\n",
    "attempt = 0\n",
    "while attempt < 5:\n",
    "    print(f\"\\n{attempt =}\")\n",
    "    try:\n",
    "        age = int(input(\"Enter your age:\"))\n",
    "        if age <= 0:\n",
    "            raise InvalidInput(\"Invalid Entry for the age!\")\n",
    "        elif age < 18:\n",
    "            # raise InvalidAge('You are Ineligible to vote!!')\n",
    "            raise InvalidAge(f\"You are short by {18 - age} years for voting\")\n",
    "        else:\n",
    "            votes += 1\n",
    "        attempt += 1\n",
    "    except Exception as ex:\n",
    "        print(f\"{ex=}\")\n",
    "    else:\n",
    "        print(f\"Your voterID is {attempt}\")"
   ]
  },
  {
   "cell_type": "code",
   "execution_count": null,
   "metadata": {},
   "outputs": [],
   "source": [
    "# Assignment - enhance this example to take and validate the all the 5 values and give finally summary of valid and invalid votes"
   ]
  },
  {
   "cell_type": "markdown",
   "metadata": {},
   "source": [
    "## Exception Groups\n",
    "\n",
    "    introduced in Python 3.11\n",
    "\n",
    "PEP 654 - Exception Groups and except*"
   ]
  },
  {
   "cell_type": "code",
   "execution_count": 2,
   "metadata": {},
   "outputs": [
    {
     "name": "stdout",
     "output_type": "stream",
     "text": [
      "\n",
      " CASE 1\n",
      "ex =ValueError('This is Value Error')\n"
     ]
    }
   ],
   "source": [
    "print(\"\\n CASE 1\")\n",
    "try:\n",
    "    raise ValueError(\"This is Value Error\")\n",
    "    raise TypeError(\"This is type Error\")\n",
    "except ValueError as ex:\n",
    "    print(f\"{ex =}\")"
   ]
  },
  {
   "cell_type": "code",
   "execution_count": 4,
   "metadata": {},
   "outputs": [
    {
     "ename": "ValueError",
     "evalue": "This is Value Error",
     "output_type": "error",
     "traceback": [
      "\u001b[0;31m---------------------------------------------------------------------------\u001b[0m",
      "\u001b[0;31mValueError\u001b[0m                                Traceback (most recent call last)",
      "Cell \u001b[0;32mIn[4], line 1\u001b[0m\n\u001b[0;32m----> 1\u001b[0m \u001b[38;5;28;01mraise\u001b[39;00m \u001b[38;5;167;01mValueError\u001b[39;00m(\u001b[38;5;124m\"\u001b[39m\u001b[38;5;124mThis is Value Error\u001b[39m\u001b[38;5;124m\"\u001b[39m)\n",
      "\u001b[0;31mValueError\u001b[0m: This is Value Error"
     ]
    }
   ],
   "source": [
    "raise ValueError(\"This is Value Error\")"
   ]
  },
  {
   "cell_type": "code",
   "execution_count": 3,
   "metadata": {},
   "outputs": [
    {
     "name": "stderr",
     "output_type": "stream",
     "text": [
      "  + Exception Group Traceback (most recent call last):\n",
      "  |   File \"/home/codespace/.local/lib/python3.12/site-packages/IPython/core/interactiveshell.py\", line 3577, in run_code\n",
      "  |     exec(code_obj, self.user_global_ns, self.user_ns)\n",
      "  |   File \"/tmp/ipykernel_41249/1416085930.py\", line 1, in <module>\n",
      "  |     raise ExceptionGroup(\n",
      "  | ExceptionGroup: It can both Value & Type Errors (2 sub-exceptions)\n",
      "  +-+---------------- 1 ----------------\n",
      "    | ValueError: 1\n",
      "    +---------------- 2 ----------------\n",
      "    | TypeError: 2\n",
      "    +------------------------------------\n"
     ]
    }
   ],
   "source": [
    "raise ExceptionGroup(\n",
    "    \"It can both Value & Type Errors\",\n",
    "    [\n",
    "        ValueError(1),\n",
    "        TypeError(2),\n",
    "    ],\n",
    ")"
   ]
  },
  {
   "cell_type": "code",
   "execution_count": 5,
   "metadata": {},
   "outputs": [
    {
     "name": "stdout",
     "output_type": "stream",
     "text": [
      "\n",
      " CASE 2\n",
      "UnHandled Exception: ex =ExceptionGroup('It can both Value & Type Errors', [ValueError(1), TypeError(2)])\n"
     ]
    }
   ],
   "source": [
    "print(\"\\n CASE 2\")\n",
    "try:\n",
    "    raise ExceptionGroup(\n",
    "        \"It can both Value & Type Errors\",\n",
    "        [\n",
    "            ValueError(1),\n",
    "            TypeError(2),\n",
    "        ],\n",
    "    )\n",
    "except ValueError as ve:\n",
    "    print(f\"Value Error: {ve =}\")\n",
    "except TypeError as te:\n",
    "    print(f\"Type Error: {te =}\")\n",
    "except Exception as ex:\n",
    "    print(f\"UnHandled Exception: {ex =}\")\n",
    "\n",
    "# NOTE: ExceptionGroup cant be handled by individual exception types"
   ]
  },
  {
   "cell_type": "code",
   "execution_count": 7,
   "metadata": {},
   "outputs": [
    {
     "name": "stdout",
     "output_type": "stream",
     "text": [
      "\n",
      " CASE 3\n",
      "UnHandled Exception: ex =ExceptionGroup('It can both Value & Type Errors', [ValueError(1), TypeError(2)])\n"
     ]
    }
   ],
   "source": [
    "print(\"\\n CASE 3\")\n",
    "try:\n",
    "    raise ExceptionGroup(\n",
    "        \"It can both Value & Type Errors\",\n",
    "        [\n",
    "            ValueError(1),\n",
    "            TypeError(2),\n",
    "        ],\n",
    "    )\n",
    "except (ValueError, TypeError) as ve:\n",
    "    print(f\"Value or type Error: {ve =}\")\n",
    "except Exception as ex:\n",
    "    print(f\"UnHandled Exception: {ex =}\")\n",
    "\n",
    "# NOTE: ExceptionGroup cant be handled by individual exception types"
   ]
  },
  {
   "cell_type": "code",
   "execution_count": 9,
   "metadata": {},
   "outputs": [
    {
     "name": "stdout",
     "output_type": "stream",
     "text": [
      "\n",
      " CASE 4\n",
      "Value Error: ve =ExceptionGroup('It can both Value & Type Errors', [ValueError(1)])\n",
      "Type Error: te =ExceptionGroup('It can both Value & Type Errors', [TypeError(2)])\n"
     ]
    }
   ],
   "source": [
    "print(\"\\n CASE 4\")\n",
    "try:\n",
    "    raise ExceptionGroup(\n",
    "        \"It can both Value & Type Errors\",\n",
    "        [\n",
    "            ValueError(1),\n",
    "            TypeError(2),\n",
    "        ],\n",
    "    )\n",
    "except* ValueError as ve:\n",
    "    print(f\"Value Error: {ve =}\")\n",
    "except* TypeError as te:\n",
    "    print(f\"Type Error: {te =}\")\n",
    "except* Exception as ex:\n",
    "    print(f\"UnHandled Exception: {ex =}\")\n",
    "\n",
    "# NOTE: except* & except CANT BE used within same try-except blocks\n"
   ]
  },
  {
   "cell_type": "code",
   "execution_count": 10,
   "metadata": {},
   "outputs": [
    {
     "name": "stdout",
     "output_type": "stream",
     "text": [
      "\n",
      " CASE 5\n",
      "Value Error: ve =ExceptionGroup('It can both Value & Type Errors', [ValueError(1)])\n",
      "Type Error: te =ExceptionGroup('It can both Value & Type Errors', [TypeError(2)])\n"
     ]
    }
   ],
   "source": [
    "print(\"\\n CASE 5\")\n",
    "try:\n",
    "    raise ExceptionGroup(\n",
    "        \"It can both Value & Type Errors\",\n",
    "        [\n",
    "            TypeError(2),\n",
    "            ValueError(1),\n",
    "        ],\n",
    "    )\n",
    "except* ValueError as ve:\n",
    "    print(f\"Value Error: {ve =}\")\n",
    "except* TypeError as te:\n",
    "    print(f\"Type Error: {te =}\")\n",
    "except* Exception as ex:\n",
    "    print(f\"UnHandled Exception: {ex =}\")\n",
    "\n",
    "# NOTE: except* & except CANT BE used within same try-except blocks\n"
   ]
  },
  {
   "cell_type": "code",
   "execution_count": 11,
   "metadata": {},
   "outputs": [
    {
     "name": "stdout",
     "output_type": "stream",
     "text": [
      "\n",
      " CASE 6\n",
      "Value Error: ve =ExceptionGroup('It can both Value & Type Errors', [ValueError(1)])\n",
      "Type Error: te =ExceptionGroup('It can both Value & Type Errors', [TypeError(2)])\n",
      "UnHandled Exception: ex =ExceptionGroup('It can both Value & Type Errors', [OSError(3)])\n"
     ]
    }
   ],
   "source": [
    "print(\"\\n CASE 6\")\n",
    "try:\n",
    "    raise ExceptionGroup(\n",
    "        \"It can both Value & Type Errors\",\n",
    "        [\n",
    "            ValueError(1),\n",
    "            TypeError(2),\n",
    "            OSError(3),  # Added New Exception\n",
    "        ],\n",
    "    )\n",
    "except* ValueError as ve:\n",
    "    print(f\"Value Error: {ve =}\")\n",
    "except* TypeError as te:\n",
    "    print(f\"Type Error: {te =}\")\n",
    "except* Exception as ex:\n",
    "    print(f\"UnHandled Exception: {ex =}\")"
   ]
  },
  {
   "cell_type": "code",
   "execution_count": 13,
   "metadata": {},
   "outputs": [
    {
     "name": "stdout",
     "output_type": "stream",
     "text": [
      "\n",
      " CASE 7\n",
      "Value Error: ve =ExceptionGroup('It can both Value & Type Errors', [ValueError(1)])\n",
      "Type Error: te =ExceptionGroup('It can both Value & Type Errors', [TypeError(2)])\n",
      "OS Error: te =ExceptionGroup('It can both Value & Type Errors', [OSError(3)])\n",
      "UnHandled Exception: ex =ExceptionGroup('It can both Value & Type Errors', [ExceptionGroup('Another group', [Exception('Another error')])])\n"
     ]
    }
   ],
   "source": [
    "print(\"\\n CASE 7\")\n",
    "try:\n",
    "    raise ExceptionGroup(\n",
    "        \"It can both Value & Type Errors\",\n",
    "        [\n",
    "            ValueError(1),\n",
    "            TypeError(2),\n",
    "            OSError(3),  # Added New Exception\n",
    "            ExceptionGroup(\n",
    "                \"Another group\",  # Second group inside main group\n",
    "                [Exception(\"Another error\")],\n",
    "            ),\n",
    "        ],\n",
    "    )\n",
    "except* ValueError as ve:\n",
    "    print(f\"Value Error: {ve =}\")\n",
    "except* TypeError as te:\n",
    "    print(f\"Type Error: {te =}\")\n",
    "except* OSError as te:\n",
    "    print(f\"OS Error: {te =}\")\n",
    "except* Exception as ex:\n",
    "    print(f\"UnHandled Exception: {ex =}\")\n",
    "\n"
   ]
  },
  {
   "cell_type": "code",
   "execution_count": 14,
   "metadata": {},
   "outputs": [
    {
     "name": "stdout",
     "output_type": "stream",
     "text": [
      "\n",
      " CASE 8\n",
      "Value Error: ve =ExceptionGroup('It can both Value & Type Errors', [ValueError(1), ExceptionGroup('nested', [ValueError(6)])])\n",
      "Type Error: te =ExceptionGroup('It can both Value & Type Errors', [TypeError(2), ExceptionGroup('nested', [TypeError(5)])])\n",
      "UnHandled Exception: ex =ExceptionGroup('It can both Value & Type Errors', [OSError(3), ExceptionGroup('Another group', [Exception('Another error')]), ExceptionGroup('nested', [OSError(4)])])\n",
      "\tSubGroup Error sub_ex =ExceptionGroup('', (TypeError('expected a function, exception type or tuple of exception types'),))\n"
     ]
    }
   ],
   "source": [
    "\n",
    "print(\"\\n CASE 8\")\n",
    "try:\n",
    "    raise ExceptionGroup(\n",
    "        \"It can both Value & Type Errors\",\n",
    "        [\n",
    "            ValueError(1),\n",
    "            TypeError(2),\n",
    "            OSError(3),  # Added New Exception\n",
    "            ExceptionGroup(\n",
    "                \"Another group\",  # Second group inside main group\n",
    "                [Exception(\"Another error\")],\n",
    "            ),\n",
    "            ExceptionGroup(\"nested\", [OSError(4), TypeError(5), ValueError(6)]),\n",
    "        ],\n",
    "    )\n",
    "except* ValueError as ve:\n",
    "    print(f\"Value Error: {ve =}\")\n",
    "except* TypeError as te:\n",
    "    print(f\"Type Error: {te =}\")\n",
    "except* Exception as ex:\n",
    "    print(f\"UnHandled Exception: {ex =}\")\n",
    "    try:\n",
    "        ex_subgroup = ex.subgroup(1)\n",
    "        # this call will throw error, if exception in subgroup\n",
    "    except* Exception as sub_ex:\n",
    "        print(f\"\\tSubGroup Error {sub_ex =}\")"
   ]
  },
  {
   "cell_type": "code",
   "execution_count": 15,
   "metadata": {},
   "outputs": [
    {
     "name": "stdout",
     "output_type": "stream",
     "text": [
      "\n",
      " CASE 7\n",
      "*ValueError: ExceptionGroup('eg', [ValueError(1), ExceptionGroup('nested', [ValueError(6)])])\n",
      "*OSError: ExceptionGroup('eg', [OSError(3), ExceptionGroup('nested', [OSError(4)])])\n",
      "ExceptionGroup('eg', [ValueError(1), TypeError(2), ExceptionGroup('nested', [TypeError(5), ValueError(6)])])\n"
     ]
    }
   ],
   "source": [
    "print(\"\\n CASE 7\")\n",
    "try:\n",
    "    try:\n",
    "        raise ExceptionGroup(\n",
    "            \"eg\",\n",
    "            [\n",
    "                ValueError(1),\n",
    "                TypeError(2),\n",
    "                OSError(3),\n",
    "                ExceptionGroup(\"nested\", [OSError(4), TypeError(5), ValueError(6)]),\n",
    "            ],\n",
    "        )\n",
    "    except* ValueError as e:\n",
    "        print(f\"*ValueError: {e!r}\")\n",
    "        raise\n",
    "    except* OSError as e:\n",
    "        print(f\"*OSError: {e!r}\")\n",
    "except ExceptionGroup as e:\n",
    "    print(repr(e))"
   ]
  },
  {
   "cell_type": "markdown",
   "metadata": {},
   "source": [
    "### Warnings"
   ]
  },
  {
   "cell_type": "code",
   "execution_count": 17,
   "metadata": {},
   "outputs": [
    {
     "name": "stdout",
     "output_type": "stream",
     "text": [
      "WarningMessage\n",
      "catch_warnings\n",
      "defaultaction\n",
      "filters\n",
      "filterwarnings\n",
      "formatwarning\n",
      "onceregistry\n",
      "resetwarnings\n",
      "showwarning\n",
      "simplefilter\n",
      "sys\n",
      "warn\n",
      "warn_explicit\n",
      "\n",
      "\n",
      "UserWarning('This is not good practice 2')\n"
     ]
    },
    {
     "name": "stderr",
     "output_type": "stream",
     "text": [
      "/tmp/ipykernel_41249/2717136221.py:12: UserWarning: This is not good practice 1\n",
      "  warnings.warn(\"This is not good practice 1\")\n",
      "/tmp/ipykernel_41249/2717136221.py:20: UserWarning: This warning will be displayed\n",
      "  warnings.warn(\"This warning will be displayed\")\n"
     ]
    }
   ],
   "source": [
    "\n",
    "#!/usr/bin/python3\n",
    "\"\"\"\n",
    "Purpose: Handling warnings\n",
    "\"\"\"\n",
    "import warnings\n",
    "\n",
    "for each_attribute in dir(warnings):\n",
    "    if not each_attribute.startswith(\"_\"):\n",
    "        print(each_attribute)\n",
    "print()\n",
    "\n",
    "warnings.warn(\"This is not good practice 1\")\n",
    "\n",
    "# Adding filter to display on specific warnings\n",
    "warnings.filterwarnings(\n",
    "    \"ignore\",\n",
    "    \".*do not.*\",\n",
    ")\n",
    "\n",
    "warnings.warn(\"This warning will be displayed\")\n",
    "warnings.warn(\"Do not show this message\")\n",
    "print()\n",
    "\n",
    "try:\n",
    "    # To throw exception when error warning is present\n",
    "    warnings.simplefilter(\"error\", UserWarning)\n",
    "    warnings.warn(\"This is not good practice 2\")\n",
    "except UserWarning as ex:\n",
    "    print(repr(ex))\n",
    "except Exception as ex:\n",
    "    print(\"Unhandled Exception\", repr(ex))\n"
   ]
  },
  {
   "cell_type": "code",
   "execution_count": null,
   "metadata": {},
   "outputs": [],
   "source": []
  }
 ],
 "metadata": {
  "kernelspec": {
   "display_name": "Python 3",
   "language": "python",
   "name": "python3"
  },
  "language_info": {
   "codemirror_mode": {
    "name": "ipython",
    "version": 3
   },
   "file_extension": ".py",
   "mimetype": "text/x-python",
   "name": "python",
   "nbconvert_exporter": "python",
   "pygments_lexer": "ipython3",
   "version": "3.12.1"
  }
 },
 "nbformat": 4,
 "nbformat_minor": 2
}
