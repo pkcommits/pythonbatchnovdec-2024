{
 "cells": [
  {
   "cell_type": "markdown",
   "metadata": {},
   "source": [
    "# Least Recently Used (LRU) Cache\n",
    "\n",
    "    lru_cache(maxsize, typed)\n",
    "    - maxsize: how many results of this function call can be cached\n",
    "               at most, if None, there is no limit, when set to a\n",
    "               power of 2, the performance is the best\n",
    "    - typed: If True, calls of different parameter types will be\n",
    "              cached separately."
   ]
  },
  {
   "cell_type": "code",
   "execution_count": 1,
   "metadata": {},
   "outputs": [
    {
     "name": "stdout",
     "output_type": "stream",
     "text": [
      "calculating: 1 + 2\n",
      "3\n",
      "calculating: 1 + 2\n",
      "3\n",
      "calculating: 1 + 3\n",
      "4\n"
     ]
    }
   ],
   "source": [
    "def add(x, y):\n",
    "    print(f\"calculating: {x} + {y}\")\n",
    "    return x + y\n",
    "\n",
    "\n",
    "print(add(1, 2))\n",
    "print(add(1, 2))  # call is  made\n",
    "print(add(1, 3))"
   ]
  },
  {
   "cell_type": "code",
   "execution_count": 2,
   "metadata": {},
   "outputs": [
    {
     "name": "stdout",
     "output_type": "stream",
     "text": [
      "calculating: 1 + 2\n",
      "3\n",
      "3\n",
      "calculating: 1 + 3\n",
      "4\n"
     ]
    }
   ],
   "source": [
    "from functools import lru_cache\n",
    "\n",
    "@lru_cache\n",
    "def add(x, y):\n",
    "    print(f\"calculating: {x} + {y}\")\n",
    "    return x + y\n",
    "\n",
    "\n",
    "print(add(1, 2))\n",
    "print(add(1, 2))  # call is  NOT made\n",
    "print(add(1, 3))\n"
   ]
  },
  {
   "cell_type": "code",
   "execution_count": 3,
   "metadata": {},
   "outputs": [
    {
     "name": "stdout",
     "output_type": "stream",
     "text": [
      "calculating: 1 + 2\n",
      "3\n",
      "3\n",
      "calculating: 1 + 3\n",
      "4\n"
     ]
    }
   ],
   "source": [
    "from functools import lru_cache\n",
    "\n",
    "@lru_cache(None) # max_size you defined as None\n",
    "def add(x, y):\n",
    "    print(f\"calculating: {x} + {y}\")\n",
    "    return x + y\n",
    "\n",
    "\n",
    "print(add(1, 2))\n",
    "print(add(1, 2))  # call is  NOT made\n",
    "print(add(1, 3))\n"
   ]
  },
  {
   "cell_type": "code",
   "execution_count": 4,
   "metadata": {},
   "outputs": [],
   "source": [
    "# Assignment : what is the default max_Size of lru_cache when given None"
   ]
  },
  {
   "cell_type": "code",
   "execution_count": 5,
   "metadata": {},
   "outputs": [
    {
     "name": "stdout",
     "output_type": "stream",
     "text": [
      "0.0071150180001495755\n"
     ]
    }
   ],
   "source": [
    "import timeit\n",
    "\n",
    "\n",
    "print(timeit.timeit('12 + 233 - 23 '))"
   ]
  },
  {
   "cell_type": "code",
   "execution_count": 7,
   "metadata": {},
   "outputs": [
    {
     "name": "stdout",
     "output_type": "stream",
     "text": [
      "10.226184110999839\n"
     ]
    }
   ],
   "source": [
    "print(timeit.timeit('list(range(967)) '))"
   ]
  },
  {
   "cell_type": "code",
   "execution_count": 8,
   "metadata": {},
   "outputs": [
    {
     "name": "stdout",
     "output_type": "stream",
     "text": [
      "2.056299990726984e-05\n"
     ]
    }
   ],
   "source": [
    "print(timeit.timeit('list(range(967))', number=1))"
   ]
  },
  {
   "cell_type": "code",
   "execution_count": 9,
   "metadata": {},
   "outputs": [
    {
     "name": "stdout",
     "output_type": "stream",
     "text": [
      "14.326512989000094\n"
     ]
    }
   ],
   "source": [
    "# Case 1\n",
    "def fib(n):\n",
    "    if n < 2:\n",
    "        return n\n",
    "    return fib(n - 2) + fib(n - 1)\n",
    "\n",
    "\n",
    "print(timeit.timeit(lambda: fib(40), number=1))  # 32.758174600000004"
   ]
  },
  {
   "cell_type": "code",
   "execution_count": 10,
   "metadata": {},
   "outputs": [
    {
     "name": "stdout",
     "output_type": "stream",
     "text": [
      "14.236164825000287\n"
     ]
    }
   ],
   "source": [
    "@lru_cache(None)\n",
    "def fib2(n):\n",
    "    if n < 2:\n",
    "        return n\n",
    "    return fib2(n - 2) + fib2(n - 1)\n",
    "\n",
    "\n",
    "print(timeit.timeit(lambda: fib(40), number=1))  # 14.236164825000287"
   ]
  },
  {
   "cell_type": "code",
   "execution_count": 11,
   "metadata": {},
   "outputs": [
    {
     "name": "stdout",
     "output_type": "stream",
     "text": [
      "5\n"
     ]
    }
   ],
   "source": [
    "@lru_cache(maxsize=100)\n",
    "def count_vowels(sentence):\n",
    "    sentence = sentence.casefold()\n",
    "    return sum(sentence.count(vowel) for vowel in \"aeiou\")\n",
    "\n",
    "\n",
    "print(count_vowels(\"Welcome to Python\"))"
   ]
  },
  {
   "cell_type": "code",
   "execution_count": null,
   "metadata": {},
   "outputs": [],
   "source": []
  }
 ],
 "metadata": {
  "kernelspec": {
   "display_name": "Python 3",
   "language": "python",
   "name": "python3"
  },
  "language_info": {
   "codemirror_mode": {
    "name": "ipython",
    "version": 3
   },
   "file_extension": ".py",
   "mimetype": "text/x-python",
   "name": "python",
   "nbconvert_exporter": "python",
   "pygments_lexer": "ipython3",
   "version": "3.12.1"
  }
 },
 "nbformat": 4,
 "nbformat_minor": 2
}
