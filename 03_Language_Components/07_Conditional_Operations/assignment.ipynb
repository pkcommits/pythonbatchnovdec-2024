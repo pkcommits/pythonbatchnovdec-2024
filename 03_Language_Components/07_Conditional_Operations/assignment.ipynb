{
 "cells": [
  {
   "cell_type": "markdown",
   "metadata": {},
   "source": [
    "# Assignment: Generate even numbers between 45 & 137\n",
    "# loop values between limits, test eveness for each number\n",
    "# and display, if it is even\n",
    "\n",
    "# TIP - range, if condition within it, print function"
   ]
  },
  {
   "cell_type": "code",
   "execution_count": null,
   "metadata": {},
   "outputs": [],
   "source": [
    "# Loop through numbers between 45 and 137\n",
    "for number in range(45, 138):  # Including 137 in the range\n",
    "    if number % 2 == 0:  # Check if the number is even\n",
    "        print(number)  # Print the even number"
   ]
  },
  {
   "cell_type": "markdown",
   "metadata": {},
   "source": [
    "\"\"\"\n",
    "Purpose: To check whether the given character\n",
    "        is vowels or consonant\n",
    "\n",
    "        vowels - aeiou\n",
    "\n",
    "in operator  works with any iterable object\n",
    "\n",
    "Algorithm:\n",
    "============\n",
    "1) is it empty \n",
    "2) is it alphabet \n",
    "3) is it vowel or not \n",
    "\n",
    "NOTE: handle case-sensitivity "
   ]
  },
  {
   "cell_type": "code",
   "execution_count": 3,
   "metadata": {},
   "outputs": [
    {
     "name": "stdout",
     "output_type": "stream",
     "text": [
      "The character 'v' is a consonant.\n"
     ]
    }
   ],
   "source": [
    "# Program to check whether a given character is a vowel or consonant\n",
    "\n",
    "# Input from the user\n",
    "char = input(\"Enter a character: \").strip()\n",
    "\n",
    "# Step 1: Check if the input is empty\n",
    "if not char:\n",
    "    print(\"Input is empty. Please enter a valid character.\")\n",
    "\n",
    "# Step 2: Check if the input is a single alphabetic character\n",
    "elif len(char) == 1 and char.isalpha():\n",
    "    # Step 3: Handle case sensitivity and check if it's a vowel\n",
    "    if char.lower() in \"aeiou\":\n",
    "        print(f\"The character '{char}' is a vowel.\")\n",
    "    else:\n",
    "        print(f\"The character '{char}' is a consonant.\")\n",
    "else:\n",
    "    print(\"Invalid input. Please enter a single alphabetic character.\")\n"
   ]
  },
  {
   "cell_type": "markdown",
   "metadata": {},
   "source": []
  }
 ],
 "metadata": {
  "kernelspec": {
   "display_name": "Python 3",
   "language": "python",
   "name": "python3"
  },
  "language_info": {
   "codemirror_mode": {
    "name": "ipython",
    "version": 3
   },
   "file_extension": ".py",
   "mimetype": "text/x-python",
   "name": "python",
   "nbconvert_exporter": "python",
   "pygments_lexer": "ipython3",
   "version": "3.12.3"
  }
 },
 "nbformat": 4,
 "nbformat_minor": 2
}
