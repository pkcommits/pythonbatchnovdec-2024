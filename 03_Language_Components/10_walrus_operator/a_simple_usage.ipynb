{
 "cells": [
  {
   "cell_type": "markdown",
   "metadata": {},
   "source": [
    "#   Assignment Expression (OR) Walrus Operator\n",
    "\n",
    "    Introducted in python 3.8\n",
    "\n",
    "    PEP 572 describes all the details of assignment expressions\n",
    "\n",
    "    In simple words, It will combine assignment + some expression\n"
   ]
  },
  {
   "cell_type": "code",
   "execution_count": 1,
   "metadata": {},
   "outputs": [
    {
     "name": "stdout",
     "output_type": "stream",
     "text": [
      "value1 =  100\n"
     ]
    }
   ],
   "source": [
    "value1 = 100\n",
    "print(\"value1 = \", value1)"
   ]
  },
  {
   "cell_type": "code",
   "execution_count": 2,
   "metadata": {},
   "outputs": [
    {
     "name": "stdout",
     "output_type": "stream",
     "text": [
      "value2 = 200\n"
     ]
    }
   ],
   "source": [
    "print(\"value2 =\", value2:= 200)"
   ]
  },
  {
   "cell_type": "code",
   "execution_count": 3,
   "metadata": {},
   "outputs": [
    {
     "data": {
      "text/plain": [
       "200"
      ]
     },
     "execution_count": 3,
     "metadata": {},
     "output_type": "execute_result"
    }
   ],
   "source": [
    "value2"
   ]
  },
  {
   "cell_type": "code",
   "execution_count": 4,
   "metadata": {},
   "outputs": [
    {
     "name": "stdout",
     "output_type": "stream",
     "text": [
      "Num is ODD\n"
     ]
    }
   ],
   "source": [
    "num1 = 123\n",
    "if num1 % 2:\n",
    "    print(\"Num is ODD\")"
   ]
  },
  {
   "cell_type": "code",
   "execution_count": 5,
   "metadata": {},
   "outputs": [
    {
     "name": "stdout",
     "output_type": "stream",
     "text": [
      "Num is ODD\n"
     ]
    }
   ],
   "source": [
    "if (num1 := 123) % 2:\n",
    "    print(\"Num is ODD\")"
   ]
  },
  {
   "cell_type": "code",
   "execution_count": 6,
   "metadata": {},
   "outputs": [
    {
     "name": "stdout",
     "output_type": "stream",
     "text": [
      "Num is ODD\n",
      "Num is ODD\n"
     ]
    }
   ],
   "source": [
    "# Example Usage Case 3\n",
    "num1 = int(input(\"num1 = \"))\n",
    "if num1 % 2:\n",
    "    print(\"Num is ODD\")\n",
    "\n",
    "\n",
    "if (num1 := int(input(\"num1 = \"))) % 2:\n",
    "    print(\"Num is ODD\")\n"
   ]
  },
  {
   "cell_type": "code",
   "execution_count": 7,
   "metadata": {},
   "outputs": [
    {
     "name": "stdout",
     "output_type": "stream",
     "text": [
      "List is too long (4 elements, expected <= 3)\n",
      "List is too long (4 elements, expected <= 3)\n"
     ]
    }
   ],
   "source": [
    "# Example Usage Case 4\n",
    "a = [1, 2, 3, 4]\n",
    "\n",
    "\n",
    "n = len(a)\n",
    "if n > 3:\n",
    "    print(f\"List is too long ({n} elements, expected <= 3)\")\n",
    "\n",
    "\n",
    "if (n := len(a)) > 3:\n",
    "    print(f\"List is too long ({n} elements, expected <= 3)\")\n"
   ]
  },
  {
   "cell_type": "code",
   "execution_count": null,
   "metadata": {},
   "outputs": [
    {
     "name": "stdout",
     "output_type": "stream",
     "text": [
      "{'length': 8, 'sum': 35, 'mean': 4.375}\n",
      "{'length': 8, 'sum': 35, 'mean': 4.375}\n"
     ]
    }
   ],
   "source": [
    "# Example Usage Case 5\n",
    "# Before Python 3.8\n",
    "numbers = [2, 8, 0, 1, 1, 9, 7, 7]\n",
    "\n",
    "num_length = len(numbers)\n",
    "num_sum = sum(numbers)\n",
    "description = {\n",
    "    \"length\":num_length,\n",
    "    \"sum\": num_sum,\n",
    "    \"mean\": num_sum /num_length,\n",
    "}\n",
    "\n",
    "print(description)  # {'length': 8, 'sum': 35, 'mean': 4.375}\n",
    "\n",
    "\n",
    "# with walrus operator\n",
    "description = {\n",
    "    \"length\":(num_length:= len(numbers)),\n",
    "    \"sum\": (num_sum := sum(numbers)),\n",
    "    \"mean\": num_sum /num_length,\n",
    "}\n",
    "\n",
    "print(description)  # {'length': 8, 'sum': 35, 'mean': 4.375}"
   ]
  },
  {
   "cell_type": "code",
   "execution_count": null,
   "metadata": {},
   "outputs": [],
   "source": []
  }
 ],
 "metadata": {
  "kernelspec": {
   "display_name": "Python 3",
   "language": "python",
   "name": "python3"
  },
  "language_info": {
   "codemirror_mode": {
    "name": "ipython",
    "version": 3
   },
   "file_extension": ".py",
   "mimetype": "text/x-python",
   "name": "python",
   "nbconvert_exporter": "python",
   "pygments_lexer": "ipython3",
   "version": "3.12.1"
  }
 },
 "nbformat": 4,
 "nbformat_minor": 2
}
