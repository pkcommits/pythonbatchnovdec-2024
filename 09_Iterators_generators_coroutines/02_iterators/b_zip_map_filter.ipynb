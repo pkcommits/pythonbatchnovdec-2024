{
 "cells": [
  {
   "cell_type": "markdown",
   "metadata": {},
   "source": [
    "# zip(), map(), filter() result objects\n",
    "    - lazy loading  object (or) on-demand loading object\n",
    "    - Iterators are disposable objects\n",
    "        - one time use only"
   ]
  },
  {
   "cell_type": "code",
   "execution_count": 1,
   "metadata": {},
   "outputs": [],
   "source": [
    "# iterables\n",
    "alpha = {\"a\", \"e\", \"i\", \"o\", \"u\"}\n",
    "nums = (\"1\", \"2\", \"3\", \"4\")"
   ]
  },
  {
   "cell_type": "code",
   "execution_count": 2,
   "metadata": {},
   "outputs": [
    {
     "name": "stdout",
     "output_type": "stream",
     "text": [
      "pairs: <class 'zip'> <zip object at 0x7e4b4925bd00>\n"
     ]
    }
   ],
   "source": [
    "pairs = zip(alpha, nums)  # zip object at 0x00000165AE6CBEC0>\n",
    "print(f\"pairs: {type(pairs)} {pairs}\")"
   ]
  },
  {
   "cell_type": "code",
   "execution_count": 3,
   "metadata": {},
   "outputs": [
    {
     "name": "stdout",
     "output_type": "stream",
     "text": [
      "('e', '1')\n",
      "('i', '2')\n",
      "('o', '3')\n",
      "('u', '4')\n"
     ]
    }
   ],
   "source": [
    "# Method 1: Iterate over the object\n",
    "for ech_pair in pairs:\n",
    "    print(ech_pair)"
   ]
  },
  {
   "cell_type": "code",
   "execution_count": 4,
   "metadata": {},
   "outputs": [
    {
     "name": "stdout",
     "output_type": "stream",
     "text": [
      "pairs1: <class 'list'> []\n",
      "pairs2: <class 'tuple'> ()\n",
      "pairs3: <class 'set'> set()\n",
      "pairs4: <class 'str'> <zip object at 0x7e4b4925bd00>\n"
     ]
    }
   ],
   "source": [
    "# Method 2: Convert to other iterables\n",
    "pairs1 = list(pairs)\n",
    "print(f\"pairs1: {type(pairs1)} {pairs1}\")\n",
    "\n",
    "pairs2 = tuple(pairs)\n",
    "print(f\"pairs2: {type(pairs2)} {pairs2}\")\n",
    "\n",
    "pairs3 = set(pairs)\n",
    "print(f\"pairs3: {type(pairs3)} {pairs3}\")\n",
    "\n",
    "pairs4 = str(pairs)\n",
    "print(f\"pairs4: {type(pairs4)} {pairs4}\")\n"
   ]
  },
  {
   "cell_type": "markdown",
   "metadata": {},
   "source": [
    "#### NOTE: Iterators are disposable objects. can give values only once"
   ]
  },
  {
   "cell_type": "code",
   "execution_count": 6,
   "metadata": {},
   "outputs": [
    {
     "name": "stdout",
     "output_type": "stream",
     "text": [
      "pairs1: <class 'list'> [('e', '1'), ('i', '2'), ('o', '3'), ('u', '4')]\n"
     ]
    }
   ],
   "source": [
    "# re-assign to retrieve values again\n",
    "pairs = zip(alpha, nums)\n",
    "pairs1 = list(pairs)\n",
    "print(f\"pairs1: {type(pairs1)} {pairs1}\")"
   ]
  },
  {
   "cell_type": "code",
   "execution_count": 7,
   "metadata": {},
   "outputs": [
    {
     "name": "stdout",
     "output_type": "stream",
     "text": [
      "pairs2: <class 'tuple'> (('e', '1'), ('i', '2'), ('o', '3'), ('u', '4'))\n"
     ]
    }
   ],
   "source": [
    "pairs = zip(alpha, nums)\n",
    "pairs2 = tuple(pairs)\n",
    "print(f\"pairs2: {type(pairs2)} {pairs2}\")"
   ]
  },
  {
   "cell_type": "code",
   "execution_count": 8,
   "metadata": {},
   "outputs": [
    {
     "name": "stdout",
     "output_type": "stream",
     "text": [
      "pairs3: <class 'set'> {('u', '4'), ('i', '2'), ('o', '3'), ('e', '1')}\n"
     ]
    }
   ],
   "source": [
    "pairs = zip(alpha, nums)\n",
    "pairs3 = set(pairs)\n",
    "print(f\"pairs3: {type(pairs3)} {pairs3}\")"
   ]
  },
  {
   "cell_type": "code",
   "execution_count": 9,
   "metadata": {},
   "outputs": [
    {
     "name": "stdout",
     "output_type": "stream",
     "text": [
      "pairs4: <class 'str'> <zip object at 0x7e4b49258e40>\n"
     ]
    }
   ],
   "source": [
    "pairs = zip(alpha, nums)\n",
    "pairs4 = str(pairs)  # <zip object at 0x0000000002606688>\n",
    "print(f\"pairs4: {type(pairs4)} {pairs4}\")"
   ]
  },
  {
   "cell_type": "code",
   "execution_count": 10,
   "metadata": {},
   "outputs": [
    {
     "name": "stdout",
     "output_type": "stream",
     "text": [
      "pairs5: <class 'dict'> {'e': '1', 'i': '2', 'o': '3', 'u': '4'}\n"
     ]
    }
   ],
   "source": [
    "pairs = zip(alpha, nums)\n",
    "pairs5 = dict(pairs)\n",
    "print(f\"pairs5: {type(pairs5)} {pairs5}\")"
   ]
  },
  {
   "cell_type": "code",
   "execution_count": 11,
   "metadata": {},
   "outputs": [],
   "source": [
    "## Assignment: similarly, apply on the map and filter"
   ]
  },
  {
   "cell_type": "code",
   "execution_count": null,
   "metadata": {},
   "outputs": [],
   "source": []
  }
 ],
 "metadata": {
  "kernelspec": {
   "display_name": "Python 3",
   "language": "python",
   "name": "python3"
  },
  "language_info": {
   "codemirror_mode": {
    "name": "ipython",
    "version": 3
   },
   "file_extension": ".py",
   "mimetype": "text/x-python",
   "name": "python",
   "nbconvert_exporter": "python",
   "pygments_lexer": "ipython3",
   "version": "3.12.1"
  }
 },
 "nbformat": 4,
 "nbformat_minor": 2
}
