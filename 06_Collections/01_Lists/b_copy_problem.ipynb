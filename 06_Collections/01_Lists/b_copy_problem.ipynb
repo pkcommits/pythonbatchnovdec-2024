{
 "cells": [
  {
   "cell_type": "markdown",
   "metadata": {},
   "source": [
    "# assignment vs Shallow copy vs deep \n",
    "\n",
    "Detailed Explanation: https://www.youtube.com/watch?v=yjYIyydmrc0\n"
   ]
  },
  {
   "cell_type": "code",
   "execution_count": 1,
   "metadata": {},
   "outputs": [
    {
     "name": "stdout",
     "output_type": "stream",
     "text": [
      "num1           123 <class 'int'> 108571477055208\n"
     ]
    }
   ],
   "source": [
    "# immutable object\n",
    "num1 = 123\n",
    "print(\"num1          \", num1, type(num1), id(num1))\n"
   ]
  },
  {
   "cell_type": "code",
   "execution_count": 2,
   "metadata": {},
   "outputs": [
    {
     "name": "stdout",
     "output_type": "stream",
     "text": [
      "num2           123 <class 'int'> 108571477055208\n"
     ]
    }
   ],
   "source": [
    "num2 = num1             # Assignment operator\n",
    "print(\"num2          \", num2, type(num2), id(num2))"
   ]
  },
  {
   "cell_type": "code",
   "execution_count": 5,
   "metadata": {},
   "outputs": [
    {
     "name": "stdout",
     "output_type": "stream",
     "text": [
      "num1           123 <class 'int'> 108571477055208\n",
      "num2           999 <class 'int'> 133290472847248\n"
     ]
    }
   ],
   "source": [
    "num2 = 999\n",
    "print(\"num1          \", num1, type(num1), id(num1))\n",
    "print(\"num2          \", num2, type(num2), id(num2))"
   ]
  },
  {
   "cell_type": "code",
   "execution_count": 6,
   "metadata": {},
   "outputs": [
    {
     "name": "stdout",
     "output_type": "stream",
     "text": [
      "133290463363392 par_list       = [11, 111, 1111]\n",
      "133290463363392 hard_copy_list = [11, 111, 1111]\n"
     ]
    }
   ],
   "source": [
    "#  Mutable object\n",
    "par_list = [11, 111, 1111]\n",
    "print(f\"{id(par_list)} {par_list       = }\")\n",
    "\n",
    "\n",
    "hard_copy_list = par_list   # assignment operation\n",
    "print(f\"{id(hard_copy_list)} {hard_copy_list = }\")"
   ]
  },
  {
   "cell_type": "code",
   "execution_count": 7,
   "metadata": {},
   "outputs": [
    {
     "name": "stdout",
     "output_type": "stream",
     "text": [
      "par_list[2]    1111\n",
      "par_list[2]    3333\n",
      "133290463363392 par_list       = [11, 111, 3333]\n"
     ]
    }
   ],
   "source": [
    "print(\"par_list[2]   \", par_list[2])\n",
    "\n",
    "par_list[2] = 3333  # Substitution\n",
    "print(\"par_list[2]   \", par_list[2])\n",
    "print(f\"{id(par_list)} {par_list       = }\")"
   ]
  },
  {
   "cell_type": "code",
   "execution_count": 8,
   "metadata": {},
   "outputs": [
    {
     "name": "stdout",
     "output_type": "stream",
     "text": [
      "133290463363392 hard_copy_list = [11, 111, 3333]\n"
     ]
    }
   ],
   "source": [
    "# leakage problem\n",
    "print(f\"{id(hard_copy_list)} {hard_copy_list = }\")\n"
   ]
  },
  {
   "cell_type": "code",
   "execution_count": 9,
   "metadata": {},
   "outputs": [
    {
     "data": {
      "text/plain": [
       "['Error',\n",
       " '__all__',\n",
       " '__builtins__',\n",
       " '__cached__',\n",
       " '__doc__',\n",
       " '__file__',\n",
       " '__loader__',\n",
       " '__name__',\n",
       " '__package__',\n",
       " '__spec__',\n",
       " '_copy_dispatch',\n",
       " '_copy_immutable',\n",
       " '_deepcopy_atomic',\n",
       " '_deepcopy_dict',\n",
       " '_deepcopy_dispatch',\n",
       " '_deepcopy_list',\n",
       " '_deepcopy_method',\n",
       " '_deepcopy_tuple',\n",
       " '_keep_alive',\n",
       " '_reconstruct',\n",
       " 'copy',\n",
       " 'deepcopy',\n",
       " 'dispatch_table',\n",
       " 'error']"
      ]
     },
     "execution_count": 9,
     "metadata": {},
     "output_type": "execute_result"
    }
   ],
   "source": [
    "import copy\n",
    "\n",
    "dir(copy)"
   ]
  },
  {
   "cell_type": "code",
   "execution_count": 10,
   "metadata": {},
   "outputs": [
    {
     "name": "stdout",
     "output_type": "stream",
     "text": [
      "133290463419264 soft_copy_list = [11, 111, 3333]\n"
     ]
    }
   ],
   "source": [
    "# shallow copy\n",
    "soft_copy_list = copy.copy(par_list)\n",
    "print(f\"{id(soft_copy_list)} {soft_copy_list = }\")\n"
   ]
  },
  {
   "cell_type": "code",
   "execution_count": 12,
   "metadata": {},
   "outputs": [
    {
     "name": "stdout",
     "output_type": "stream",
     "text": [
      "hard_copy_list[2] FOUR\n",
      "\n",
      "133290463363392 par_list       = [11, 111, 'FOUR']\n",
      "133290463363392 hard_copy_list = [11, 111, 'FOUR']\n",
      "133290463419264 soft_copy_list = [11, 111, 3333]\n"
     ]
    }
   ],
   "source": [
    "print(\"hard_copy_list[2]\", hard_copy_list[2])\n",
    "\n",
    "hard_copy_list[2] = \"FOUR\"\n",
    "\n",
    "print()\n",
    "print(f\"{id(par_list)} {par_list       = }\")\n",
    "print(f\"{id(hard_copy_list)} {hard_copy_list = }\")\n",
    "print(f\"{id(soft_copy_list)} {soft_copy_list = }\")"
   ]
  },
  {
   "cell_type": "code",
   "execution_count": 13,
   "metadata": {},
   "outputs": [
    {
     "name": "stdout",
     "output_type": "stream",
     "text": [
      "soft_copy_list[0] 11\n",
      "\n",
      "133290463363392 par_list       = [11, 111, 'FOUR']\n",
      "133290463363392 hard_copy_list = [11, 111, 'FOUR']\n",
      "133290463419264 soft_copy_list = ['ZERO', 111, 3333]\n"
     ]
    }
   ],
   "source": [
    "print(\"soft_copy_list[0]\", soft_copy_list[0])\n",
    "\n",
    "soft_copy_list[0] = \"ZERO\"\n",
    "print()\n",
    "print(f\"{id(par_list)} {par_list       = }\")\n",
    "print(f\"{id(hard_copy_list)} {hard_copy_list = }\")\n",
    "print(f\"{id(soft_copy_list)} {soft_copy_list = }\")"
   ]
  },
  {
   "cell_type": "markdown",
   "metadata": {},
   "source": [
    "### Need for deepcopy"
   ]
  },
  {
   "cell_type": "code",
   "execution_count": 14,
   "metadata": {},
   "outputs": [
    {
     "name": "stdout",
     "output_type": "stream",
     "text": [
      "133290463260544 new_list           = [90, 89, [78, 89, [4, 441, 6]]]\n",
      "133290463244224 new_softcopy_list  = [90, 89, [78, 89, [4, 441, 6]]]\n",
      "133290890354688 new_deepcopy_list  = [90, 89, [78, 89, [4, 441, 6]]]\n"
     ]
    }
   ],
   "source": [
    "new_list = [90, 89, [78, 89, [4, 441, 6]]]\n",
    "\n",
    "new_softcopy_list = copy.copy(new_list)  # soft copy or shallow copy\n",
    "new_deepcopy_list = copy.deepcopy(new_list)\n",
    "\n",
    "print(f\"{id(new_list)} {new_list           = }\")\n",
    "print(f\"{id(new_softcopy_list)} {new_softcopy_list  = }\")\n",
    "print(f\"{id(new_deepcopy_list)} {new_deepcopy_list  = }\")"
   ]
  },
  {
   "cell_type": "code",
   "execution_count": 15,
   "metadata": {},
   "outputs": [
    {
     "name": "stdout",
     "output_type": "stream",
     "text": [
      "new_list[2][2][1] 441\n",
      "\n",
      "133290463260544 new_list           = [90, 89, [78, 89, [4, 'FFO', 6]]]\n",
      "133290463244224 new_softcopy_list  = [90, 89, [78, 89, [4, 'FFO', 6]]]\n",
      "133290890354688 new_deepcopy_list  = [90, 89, [78, 89, [4, 441, 6]]]\n"
     ]
    }
   ],
   "source": [
    "print(\"new_list[2][2][1]\", new_list[2][2][1])\n",
    "\n",
    "new_list[2][2][1] = \"FFO\"\n",
    "print()\n",
    "print(f\"{id(new_list)} {new_list           = }\")\n",
    "print(f\"{id(new_softcopy_list)} {new_softcopy_list  = }\")\n",
    "print(f\"{id(new_deepcopy_list)} {new_deepcopy_list  = }\")"
   ]
  },
  {
   "cell_type": "code",
   "execution_count": 16,
   "metadata": {},
   "outputs": [],
   "source": [
    "# NOTE:\n",
    "# 1. soft(shallow) copy is fast, but cant work more than one dimension\n",
    "# 2. deep copy is slow, but can work with objects of any number of dimensions"
   ]
  },
  {
   "cell_type": "code",
   "execution_count": 17,
   "metadata": {},
   "outputs": [
    {
     "name": "stdout",
     "output_type": "stream",
     "text": [
      "133290463239872 133290463337280 False\n"
     ]
    }
   ],
   "source": [
    "l1 = [12, 34]\n",
    "\n",
    "l2 = l1[::]  # soft(shallow) copy\n",
    "\n",
    "print(id(l1), id(l2), l1 is l2)"
   ]
  },
  {
   "cell_type": "code",
   "execution_count": 20,
   "metadata": {},
   "outputs": [
    {
     "name": "stdout",
     "output_type": "stream",
     "text": [
      "133290473608192 133290463546560 False\n"
     ]
    }
   ],
   "source": [
    "l3 = [12, 34, [44, [55]]]\n",
    "\n",
    "l4 = l3[::1]\n",
    "print(id(l3), id(l4), l3 is l4)"
   ]
  },
  {
   "cell_type": "code",
   "execution_count": 21,
   "metadata": {},
   "outputs": [
    {
     "name": "stdout",
     "output_type": "stream",
     "text": [
      "l3 =[12, 34, [44, ['five']]]\n",
      "l4 =[12, 34, [44, ['five']]]\n"
     ]
    }
   ],
   "source": [
    "l3[2][1][0] = 'five'\n",
    "\n",
    "print(f'{l3 =}')\n",
    "print(f'{l4 =}')"
   ]
  },
  {
   "cell_type": "code",
   "execution_count": null,
   "metadata": {},
   "outputs": [],
   "source": []
  }
 ],
 "metadata": {
  "kernelspec": {
   "display_name": "Python 3",
   "language": "python",
   "name": "python3"
  },
  "language_info": {
   "codemirror_mode": {
    "name": "ipython",
    "version": 3
   },
   "file_extension": ".py",
   "mimetype": "text/x-python",
   "name": "python",
   "nbconvert_exporter": "python",
   "pygments_lexer": "ipython3",
   "version": "3.12.1"
  }
 },
 "nbformat": 4,
 "nbformat_minor": 2
}
