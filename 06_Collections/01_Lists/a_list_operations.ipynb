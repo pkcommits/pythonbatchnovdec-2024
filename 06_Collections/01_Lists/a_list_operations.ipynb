{
 "cells": [
  {
   "cell_type": "markdown",
   "metadata": {},
   "source": [
    "# Lists\n",
    "\n",
    "\n",
    "        List is representing using [].\n",
    "        Lists can store any no.of different data types together.\n",
    "        List can be classified as single-dimensional and multi-dimensional.\n",
    "        List is a mutable object, which means elements in list can be changed.\n",
    "        It can store asymmetric data types\n",
    "\n"
   ]
  },
  {
   "cell_type": "code",
   "execution_count": 1,
   "metadata": {},
   "outputs": [
    {
     "name": "stdout",
     "output_type": "stream",
     "text": [
      "<class 'list'> empty_list = []\n",
      "len(empty_list) =0\n"
     ]
    }
   ],
   "source": [
    "empty_list = []\n",
    "\n",
    "print(f\"{type(empty_list)} {empty_list = }\")\n",
    "print(f\"{len(empty_list) =}\")"
   ]
  },
  {
   "cell_type": "code",
   "execution_count": 2,
   "metadata": {},
   "outputs": [
    {
     "name": "stdout",
     "output_type": "stream",
     "text": [
      "\n",
      "<class 'list'> numbers =[12, 334, 23, 2, -323]\n",
      "len(numbers) =5\n"
     ]
    }
   ],
   "source": [
    "# Homogenous list\n",
    "numbers = [12, 334, 23, 2, -323]\n",
    "print(f\"\\n{type(numbers)} {numbers =}\")\n",
    "print(f\"{len(numbers) =}\")"
   ]
  },
  {
   "cell_type": "code",
   "execution_count": 3,
   "metadata": {},
   "outputs": [
    {
     "name": "stdout",
     "output_type": "stream",
     "text": [
      "\n",
      "<class 'list'> numbers =[12, 3.4, -4e-05, 434243432432, 'abc', True, 13.166666666666666, '4 + 55 / 6']\n",
      "len(numbers) =8\n"
     ]
    }
   ],
   "source": [
    "# non-homogenous\n",
    "numbers = [12, 3.4, -0.00004, 434243432432, \"abc\", True, 4 + 55 / 6, \"4 + 55 / 6\"]\n",
    "print(f\"\\n{type(numbers)} {numbers =}\")\n",
    "print(f\"{len(numbers) =}\")"
   ]
  },
  {
   "cell_type": "code",
   "execution_count": null,
   "metadata": {},
   "outputs": [
    {
     "name": "stdout",
     "output_type": "stream",
     "text": [
      "\n",
      "<class 'list'> ml =[1, 2, 3, 4.3, 5, [6, 7, 8, (9, 10)]]\n",
      "len(ml) =6\n"
     ]
    }
   ],
   "source": [
    "# multi-dimensional lists\n",
    "ml = [1, 2, 3, 4.3, 5, [6, 7, 8, (9, 10)]]\n",
    "#     0  1  2   3   4  -------5---------\n",
    "#                       0  1  2   --3--\n",
    "#                                 0   1\n",
    "\n",
    "print(f\"\\n{type(ml)} {ml =}\")\n",
    "print(f\"{len(ml) =}\")"
   ]
  },
  {
   "cell_type": "code",
   "execution_count": 2,
   "metadata": {},
   "outputs": [
    {
     "name": "stdout",
     "output_type": "stream",
     "text": [
      "<class 'float'> ml[3] =4.3\n",
      "<class 'int'> ml[4] =5\n"
     ]
    }
   ],
   "source": [
    "print(f\"{type(ml[3])} {ml[3] =}\")\n",
    "print(f\"{type(ml[4])} {ml[4] =}\")"
   ]
  },
  {
   "cell_type": "code",
   "execution_count": 3,
   "metadata": {},
   "outputs": [
    {
     "ename": "IndexError",
     "evalue": "list index out of range",
     "output_type": "error",
     "traceback": [
      "\u001b[0;31m---------------------------------------------------------------------------\u001b[0m",
      "\u001b[0;31mIndexError\u001b[0m                                Traceback (most recent call last)",
      "Cell \u001b[0;32mIn[3], line 1\u001b[0m\n\u001b[0;32m----> 1\u001b[0m \u001b[38;5;28mprint\u001b[39m(\u001b[38;5;124mf\u001b[39m\u001b[38;5;124m'\u001b[39m\u001b[38;5;132;01m{\u001b[39;00m\u001b[38;5;28mtype\u001b[39m(\u001b[43mml\u001b[49m\u001b[43m[\u001b[49m\u001b[38;5;241;43m6\u001b[39;49m\u001b[43m]\u001b[49m)\u001b[38;5;132;01m}\u001b[39;00m\u001b[38;5;124m \u001b[39m\u001b[38;5;132;01m{\u001b[39;00mml[\u001b[38;5;241m6\u001b[39m]\u001b[38;5;250m \u001b[39m\u001b[38;5;132;01m=}\u001b[39;00m\u001b[38;5;124m'\u001b[39m)\n",
      "\u001b[0;31mIndexError\u001b[0m: list index out of range"
     ]
    }
   ],
   "source": [
    "print(f'{type(ml[6])} {ml[6] =}')"
   ]
  },
  {
   "cell_type": "code",
   "execution_count": 4,
   "metadata": {},
   "outputs": [
    {
     "name": "stdout",
     "output_type": "stream",
     "text": [
      "\n",
      "<class 'list'> ml[5] =[6, 7, 8, (9, 10)]\n",
      "<class 'int'> ml[5][1] =7\n",
      "<class 'tuple'> ml[5][3] =(9, 10)\n"
     ]
    }
   ],
   "source": [
    "print(f\"\\n{type(ml[5])} {ml[5] =}\")\n",
    "print(f\"{type(ml[5][1])} {ml[5][1] =}\")\n",
    "print(f\"{type(ml[5][3])} {ml[5][3] =}\")\n"
   ]
  },
  {
   "cell_type": "code",
   "execution_count": 6,
   "metadata": {},
   "outputs": [
    {
     "data": {
      "text/plain": [
       "[6, 7, 8, (9, 10)]"
      ]
     },
     "execution_count": 6,
     "metadata": {},
     "output_type": "execute_result"
    }
   ],
   "source": [
    "ml = [1, 2, 3, 4.3, 5, [6, 7, 8, (9, 10)]]\n",
    "#     0  1  2   3   4  -------5---------\n",
    "#                       0  1  2   --3--\n",
    "#                                 0   1\n",
    "\n",
    "ml[5]"
   ]
  },
  {
   "cell_type": "code",
   "execution_count": 7,
   "metadata": {},
   "outputs": [
    {
     "data": {
      "text/plain": [
       "(9, 10)"
      ]
     },
     "execution_count": 7,
     "metadata": {},
     "output_type": "execute_result"
    }
   ],
   "source": [
    "ml[5][3]"
   ]
  },
  {
   "cell_type": "code",
   "execution_count": null,
   "metadata": {},
   "outputs": [
    {
     "data": {
      "text/plain": [
       "9"
      ]
     },
     "execution_count": 8,
     "metadata": {},
     "output_type": "execute_result"
    }
   ],
   "source": [
    "ml[5][3][0]"
   ]
  },
  {
   "cell_type": "code",
   "execution_count": 9,
   "metadata": {},
   "outputs": [
    {
     "data": {
      "text/plain": [
       "[1, 2, 3, 4.3, 5, [6, 7, 8, (9, 10)]]"
      ]
     },
     "execution_count": 9,
     "metadata": {},
     "output_type": "execute_result"
    }
   ],
   "source": [
    "# forward vs reverse indexing\n",
    "# [1, 2, 3, 4.3, 5, [6,  7,  8, (9, 10)]]\n",
    "# -6 -5  -4  -3  -2  ------- -1 -------  - reverse indexing\n",
    "#                   -4  -3  -2  -- -1 --\n",
    "#                               -2  -1\n",
    "\n",
    "# 0  1  2   3   4  -------5--------- - forward indexing\n",
    "\n",
    "\n",
    "ml"
   ]
  },
  {
   "cell_type": "code",
   "execution_count": 10,
   "metadata": {},
   "outputs": [
    {
     "data": {
      "text/plain": [
       "[6, 7, 8, (9, 10)]"
      ]
     },
     "execution_count": 10,
     "metadata": {},
     "output_type": "execute_result"
    }
   ],
   "source": [
    "ml[-1]"
   ]
  },
  {
   "cell_type": "code",
   "execution_count": 11,
   "metadata": {},
   "outputs": [
    {
     "data": {
      "text/plain": [
       "(9, 10)"
      ]
     },
     "execution_count": 11,
     "metadata": {},
     "output_type": "execute_result"
    }
   ],
   "source": [
    "ml[-1][-1]"
   ]
  },
  {
   "cell_type": "code",
   "execution_count": 12,
   "metadata": {},
   "outputs": [
    {
     "data": {
      "text/plain": [
       "9"
      ]
     },
     "execution_count": 12,
     "metadata": {},
     "output_type": "execute_result"
    }
   ],
   "source": [
    "ml[-1][-1][-2]"
   ]
  },
  {
   "cell_type": "code",
   "execution_count": null,
   "metadata": {},
   "outputs": [
    {
     "data": {
      "text/plain": [
       "9"
      ]
     },
     "execution_count": 13,
     "metadata": {},
     "output_type": "execute_result"
    }
   ],
   "source": [
    "ml[-1][3][-2]  # not recommended , as it will be confusing"
   ]
  },
  {
   "cell_type": "code",
   "execution_count": 14,
   "metadata": {},
   "outputs": [
    {
     "name": "stdout",
     "output_type": "stream",
     "text": [
      "True\n"
     ]
    }
   ],
   "source": [
    "print(ml[-5] == ml[1])\n",
    "assert ml[-5] == ml[1]"
   ]
  },
  {
   "cell_type": "code",
   "execution_count": 15,
   "metadata": {},
   "outputs": [
    {
     "name": "stdout",
     "output_type": "stream",
     "text": [
      "\n",
      "ml[1:4]       [2, 3, 4.3]\n",
      "ml[1:4:2]     [2, 4.3]\n"
     ]
    }
   ],
   "source": [
    "# Slicing - last value in boundary will not be included\n",
    "# [start_index, final_index, step]\n",
    "# default start_index = 0 ; final_index = len(list); step = 1\n",
    "print(\"\\nml[1:4]      \", ml[1:4])\n",
    "print(\"ml[1:4:2]    \", ml[1:4:2])"
   ]
  },
  {
   "cell_type": "markdown",
   "metadata": {},
   "source": [
    "## mutability\n",
    "\n",
    "\n",
    "    Mutable objects: List, set, dict\n",
    "    immutable objects: int, float, str, bool, None, tuple, frozenset, iterator"
   ]
  },
  {
   "cell_type": "code",
   "execution_count": null,
   "metadata": {},
   "outputs": [
    {
     "name": "stdout",
     "output_type": "stream",
     "text": [
      "num1 =1234 <class 'int'> id(num1)=124128826781200\n"
     ]
    }
   ],
   "source": [
    "num1 = 1234\n",
    "print(f\"{num1 =} {type(num1)} {id(num1)=}\")  # 124128826781200"
   ]
  },
  {
   "cell_type": "code",
   "execution_count": null,
   "metadata": {},
   "outputs": [
    {
     "name": "stdout",
     "output_type": "stream",
     "text": [
      "num1 =9999 <class 'int'> id(num1)=124128827047440\n"
     ]
    }
   ],
   "source": [
    "num1 = 9999   # OVERwriting\n",
    "print(f\"{num1 =} {type(num1)} {id(num1)=}\")  # 124128827047440"
   ]
  },
  {
   "cell_type": "code",
   "execution_count": 18,
   "metadata": {},
   "outputs": [
    {
     "name": "stdout",
     "output_type": "stream",
     "text": [
      "\n",
      "String is a immutable object ===\n",
      "name         :Raj Sekhar\n",
      "name[0:3]    :Raj\n"
     ]
    }
   ],
   "source": [
    "print(\"\\nString is a immutable object ===\")\n",
    "name = \"Raj Sekhar\"\n",
    "print(f\"name         :{name}\")\n",
    "print(f\"name[0:3]    :{name[0:3]}\")"
   ]
  },
  {
   "cell_type": "code",
   "execution_count": 19,
   "metadata": {},
   "outputs": [
    {
     "ename": "TypeError",
     "evalue": "'str' object does not support item assignment",
     "output_type": "error",
     "traceback": [
      "\u001b[0;31m---------------------------------------------------------------------------\u001b[0m",
      "\u001b[0;31mTypeError\u001b[0m                                 Traceback (most recent call last)",
      "Cell \u001b[0;32mIn[19], line 1\u001b[0m\n\u001b[0;32m----> 1\u001b[0m \u001b[43mname\u001b[49m\u001b[43m[\u001b[49m\u001b[38;5;241;43m0\u001b[39;49m\u001b[43m:\u001b[49m\u001b[38;5;241;43m3\u001b[39;49m\u001b[43m]\u001b[49m \u001b[38;5;241m=\u001b[39m \u001b[38;5;124m\"\u001b[39m\u001b[38;5;124mTej\u001b[39m\u001b[38;5;124m\"\u001b[39m\n",
      "\u001b[0;31mTypeError\u001b[0m: 'str' object does not support item assignment"
     ]
    }
   ],
   "source": [
    "name[0:3] = \"Tej\""
   ]
  },
  {
   "cell_type": "code",
   "execution_count": 20,
   "metadata": {},
   "outputs": [
    {
     "name": "stdout",
     "output_type": "stream",
     "text": [
      "id(name) = 124128827381360\n",
      "id(name) = 124128827410160\n"
     ]
    }
   ],
   "source": [
    "print(f'{id(name) = }')\n",
    "name = \"Tej Sekhar\"      # OVERwriting\n",
    "print(f'{id(name) = }')\n"
   ]
  },
  {
   "cell_type": "code",
   "execution_count": 21,
   "metadata": {},
   "outputs": [
    {
     "data": {
      "text/plain": [
       "'Tej Sekhar'"
      ]
     },
     "execution_count": 21,
     "metadata": {},
     "output_type": "execute_result"
    }
   ],
   "source": [
    "name"
   ]
  },
  {
   "cell_type": "code",
   "execution_count": null,
   "metadata": {},
   "outputs": [
    {
     "name": "stdout",
     "output_type": "stream",
     "text": [
      "\n",
      "List is a mutable object =======\n",
      "ml            [1, 2, 3, 4.3, 5, [6, 7, 8, (9, 10)]]\n",
      "type(ml)      <class 'list'>\n",
      "id(ml)        124128827219584\n"
     ]
    }
   ],
   "source": [
    "# multi-dimensional lists\n",
    "ml = [1, 2, 3, 4.3, 5, [6, 7, 8, (9, 10)]]\n",
    "#     0  1  2   3   4  --------5--------\n",
    "#                       0  1  2   --3--\n",
    "#                                 0   1\n",
    "print()\n",
    "print(\"List is a mutable object =======\")\n",
    "print(\"ml           \", ml)          # value\n",
    "print(\"type(ml)     \", type(ml))    # data type\n",
    "print(\"id(ml)       \", id(ml))      # address location - 124128827219584\n"
   ]
  },
  {
   "cell_type": "code",
   "execution_count": 23,
   "metadata": {},
   "outputs": [
    {
     "data": {
      "text/plain": [
       "4.3"
      ]
     },
     "execution_count": 23,
     "metadata": {},
     "output_type": "execute_result"
    }
   ],
   "source": [
    "ml[3]"
   ]
  },
  {
   "cell_type": "code",
   "execution_count": 24,
   "metadata": {},
   "outputs": [],
   "source": [
    "ml[3] = 3.4"
   ]
  },
  {
   "cell_type": "code",
   "execution_count": 25,
   "metadata": {},
   "outputs": [
    {
     "data": {
      "text/plain": [
       "[1, 2, 3, 3.4, 5, [6, 7, 8, (9, 10)]]"
      ]
     },
     "execution_count": 25,
     "metadata": {},
     "output_type": "execute_result"
    }
   ],
   "source": [
    "ml"
   ]
  },
  {
   "cell_type": "code",
   "execution_count": null,
   "metadata": {},
   "outputs": [
    {
     "name": "stdout",
     "output_type": "stream",
     "text": [
      "id(ml)        124128827219584\n"
     ]
    }
   ],
   "source": [
    "print(\"id(ml)       \", id(ml))      # address location - 124128827219584"
   ]
  },
  {
   "cell_type": "code",
   "execution_count": 27,
   "metadata": {},
   "outputs": [],
   "source": [
    "# NOTE: address is not changed. but value is updated -- INplace change DONE"
   ]
  },
  {
   "cell_type": "markdown",
   "metadata": {},
   "source": [
    "## List Attributes"
   ]
  },
  {
   "cell_type": "code",
   "execution_count": 33,
   "metadata": {},
   "outputs": [
    {
     "name": "stdout",
     "output_type": "stream",
     "text": [
      "type(numbers)    = <class 'list'>\n",
      "dir(numbers)     = ['__add__', '__class__', '__class_getitem__', '__contains__', '__delattr__', '__delitem__', '__dir__', '__doc__', '__eq__', '__format__', '__ge__', '__getattribute__', '__getitem__', '__getstate__', '__gt__', '__hash__', '__iadd__', '__imul__', '__init__', '__init_subclass__', '__iter__', '__le__', '__len__', '__lt__', '__mul__', '__ne__', '__new__', '__reduce__', '__reduce_ex__', '__repr__', '__reversed__', '__rmul__', '__setattr__', '__setitem__', '__sizeof__', '__str__', '__subclasshook__', 'append', 'clear', 'copy', 'count', 'extend', 'index', 'insert', 'pop', 'remove', 'reverse', 'sort']\n"
     ]
    }
   ],
   "source": [
    "numbers = [88, 99, 666]\n",
    "\n",
    "print(\"type(numbers)    =\", type(numbers))\n",
    "print(\"dir(numbers)     =\", dir(numbers))\n"
   ]
  },
  {
   "cell_type": "code",
   "execution_count": 29,
   "metadata": {},
   "outputs": [
    {
     "name": "stdout",
     "output_type": "stream",
     "text": [
      "len(numbers)            = 3\n",
      "numbers.__len__()       = 3\n"
     ]
    }
   ],
   "source": [
    "print(\"len(numbers)            =\", len(numbers))\n",
    "print(\"numbers.__len__()       =\", numbers.__len__())\n",
    "assert len(numbers) == numbers.__len__()"
   ]
  },
  {
   "cell_type": "code",
   "execution_count": 30,
   "metadata": {},
   "outputs": [
    {
     "name": "stdout",
     "output_type": "stream",
     "text": [
      "str(numbers)           = [88, 99, 666]\n",
      "type(str(numbers))     = <class 'str'>\n",
      "numbers.__str__()      = [88, 99, 666]\n",
      "type(numbers.__str__())= <class 'str'>\n"
     ]
    }
   ],
   "source": [
    "print(\"str(numbers)           =\", str(numbers))\n",
    "print(\"type(str(numbers))     =\", type(str(numbers)))\n",
    "print(\"numbers.__str__()      =\", numbers.__str__())\n",
    "print(\"type(numbers.__str__())=\", type(numbers.__str__()))\n",
    "assert str(numbers) == numbers.__str__()\n"
   ]
  },
  {
   "cell_type": "code",
   "execution_count": 34,
   "metadata": {},
   "outputs": [
    {
     "name": "stdout",
     "output_type": "stream",
     "text": [
      "numbers * 3         = [88, 99, 666, 88, 99, 666, 88, 99, 666]\n",
      "numbers             = [88, 99, 666]\n",
      "numbers.__mul__(3)  = [88, 99, 666, 88, 99, 666, 88, 99, 666]\n",
      "numbers             = [88, 99, 666]\n"
     ]
    }
   ],
   "source": [
    "# List Repetion operation\n",
    "print(\"numbers * 3         =\", numbers * 3)  # original object not modified\n",
    "print(\"numbers             =\", numbers)\n",
    "# original object not modified\n",
    "print(\"numbers.__mul__(3)  =\", numbers.__mul__(3))\n",
    "print(\"numbers             =\", numbers)\n",
    "assert numbers * 3 == numbers.__mul__(3)"
   ]
  },
  {
   "cell_type": "code",
   "execution_count": 35,
   "metadata": {},
   "outputs": [
    {
     "name": "stdout",
     "output_type": "stream",
     "text": [
      "numbers.__imul__(3) = [88, 99, 666, 88, 99, 666, 88, 99, 666]\n",
      "numbers             = [88, 99, 666, 88, 99, 666, 88, 99, 666]\n"
     ]
    }
   ],
   "source": [
    "# original object IS modified\n",
    "print(\"numbers.__imul__(3) =\", numbers.__imul__(3))  # numbers *= 3\n",
    "print(\"numbers             =\", numbers)"
   ]
  },
  {
   "cell_type": "code",
   "execution_count": 36,
   "metadata": {},
   "outputs": [
    {
     "name": "stdout",
     "output_type": "stream",
     "text": [
      "id(numbers)          = 124128827218880\n",
      "id(numbers)          = 124128827681344\n",
      "id(numbers)          = 124128827564736\n"
     ]
    }
   ],
   "source": [
    "print(\"id(numbers)          =\", id(numbers))\n",
    "# object overwriting\n",
    "numbers = [88, 99, 666]\n",
    "print(\"id(numbers)          =\", id(numbers))\n",
    "numbers = [88, 99, 666]\n",
    "print(\"id(numbers)          =\", id(numbers))"
   ]
  },
  {
   "cell_type": "code",
   "execution_count": 37,
   "metadata": {},
   "outputs": [],
   "source": [
    "# NOTE: overwirting will everytime change the address of the object, in datastcurure\n",
    "\n",
    "# Assignment: try checking the overwriting address change in all data types"
   ]
  },
  {
   "cell_type": "code",
   "execution_count": null,
   "metadata": {},
   "outputs": [],
   "source": []
  }
 ],
 "metadata": {
  "kernelspec": {
   "display_name": "Python 3",
   "language": "python",
   "name": "python3"
  },
  "language_info": {
   "codemirror_mode": {
    "name": "ipython",
    "version": 3
   },
   "file_extension": ".py",
   "mimetype": "text/x-python",
   "name": "python",
   "nbconvert_exporter": "python",
   "pygments_lexer": "ipython3",
   "version": "3.12.1"
  }
 },
 "nbformat": 4,
 "nbformat_minor": 2
}
