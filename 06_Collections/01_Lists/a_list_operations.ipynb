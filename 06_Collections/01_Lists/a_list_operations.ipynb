{
 "cells": [
  {
   "cell_type": "markdown",
   "metadata": {},
   "source": [
    "# Lists\n",
    "\n",
    "\n",
    "        List is representing using [].\n",
    "        Lists can store any no.of different data types together.\n",
    "        List can be classified as single-dimensional and multi-dimensional.\n",
    "        List is a mutable object, which means elements in list can be changed.\n",
    "        It can store asymmetric data types\n",
    "\n"
   ]
  },
  {
   "cell_type": "code",
   "execution_count": null,
   "metadata": {},
   "outputs": [],
   "source": [
    "empty_list = []\n",
    "\n",
    "print(f\"{type(empty_list)} {empty_list = }\")\n",
    "print(f\"{len(empty_list) =}\")"
   ]
  },
  {
   "cell_type": "code",
   "execution_count": null,
   "metadata": {},
   "outputs": [],
   "source": [
    "# Homogenous list\n",
    "numbers = [12, 334, 23, 2, -323]\n",
    "print(f\"\\n{type(numbers)} {numbers =}\")\n",
    "print(f\"{len(numbers) =}\")"
   ]
  },
  {
   "cell_type": "code",
   "execution_count": null,
   "metadata": {},
   "outputs": [],
   "source": [
    "# non-homogenous\n",
    "numbers = [12, 3.4, -0.00004, 434243432432, \"abc\", True, 4 + 55 / 6, \"4 + 55 / 6\"]\n",
    "print(f\"\\n{type(numbers)} {numbers =}\")\n",
    "print(f\"{len(numbers) =}\")"
   ]
  },
  {
   "cell_type": "code",
   "execution_count": null,
   "metadata": {},
   "outputs": [],
   "source": [
    "# multi-dimensional lists\n",
    "ml = [1, 2, 3, 4.3, 5, [6, 7, 8, (9, 10)]]\n",
    "#     0  1  2   3   4  -------5---------\n",
    "#                       0  1  2   --3--\n",
    "#                                 0   1\n",
    "\n",
    "print(f\"\\n{type(ml)} {ml =}\")\n",
    "print(f\"{len(ml) =}\")"
   ]
  },
  {
   "cell_type": "code",
   "execution_count": null,
   "metadata": {},
   "outputs": [],
   "source": [
    "print(f\"{type(ml[3])} {ml[3] =}\")\n",
    "print(f\"{type(ml[4])} {ml[4] =}\")"
   ]
  },
  {
   "cell_type": "code",
   "execution_count": null,
   "metadata": {},
   "outputs": [],
   "source": [
    "print(f'{type(ml[6])} {ml[6] =}')"
   ]
  },
  {
   "cell_type": "code",
   "execution_count": null,
   "metadata": {},
   "outputs": [],
   "source": [
    "print(f\"\\n{type(ml[5])} {ml[5] =}\")\n",
    "print(f\"{type(ml[5][1])} {ml[5][1] =}\")\n",
    "print(f\"{type(ml[5][3])} {ml[5][3] =}\")\n"
   ]
  },
  {
   "cell_type": "code",
   "execution_count": null,
   "metadata": {},
   "outputs": [],
   "source": [
    "ml = [1, 2, 3, 4.3, 5, [6, 7, 8, (9, 10)]]\n",
    "#     0  1  2   3   4  -------5---------\n",
    "#                       0  1  2   --3--\n",
    "#                                 0   1\n",
    "\n",
    "ml[5]"
   ]
  },
  {
   "cell_type": "code",
   "execution_count": null,
   "metadata": {},
   "outputs": [],
   "source": [
    "ml[5][3]"
   ]
  },
  {
   "cell_type": "code",
   "execution_count": null,
   "metadata": {},
   "outputs": [],
   "source": [
    "ml[5][3][0]"
   ]
  },
  {
   "cell_type": "code",
   "execution_count": null,
   "metadata": {},
   "outputs": [],
   "source": [
    "# forward vs reverse indexing\n",
    "# [1, 2, 3, 4.3, 5, [6,  7,  8, (9, 10)]]\n",
    "# -6 -5  -4  -3  -2  ------- -1 -------  - reverse indexing\n",
    "#                   -4  -3  -2  -- -1 --\n",
    "#                               -2  -1\n",
    "\n",
    "# 0  1  2   3   4  -------5--------- - forward indexing\n",
    "\n",
    "\n",
    "ml"
   ]
  },
  {
   "cell_type": "code",
   "execution_count": null,
   "metadata": {},
   "outputs": [],
   "source": [
    "ml[-1]"
   ]
  },
  {
   "cell_type": "code",
   "execution_count": null,
   "metadata": {},
   "outputs": [],
   "source": [
    "ml[-1][-1]"
   ]
  },
  {
   "cell_type": "code",
   "execution_count": null,
   "metadata": {},
   "outputs": [],
   "source": [
    "ml[-1][-1][-2]"
   ]
  },
  {
   "cell_type": "code",
   "execution_count": null,
   "metadata": {},
   "outputs": [],
   "source": [
    "ml[-1][3][-2]  # not recommended , as it will be confusing"
   ]
  },
  {
   "cell_type": "code",
   "execution_count": null,
   "metadata": {},
   "outputs": [],
   "source": [
    "print(ml[-5] == ml[1])\n",
    "assert ml[-5] == ml[1]"
   ]
  },
  {
   "cell_type": "code",
   "execution_count": null,
   "metadata": {},
   "outputs": [],
   "source": [
    "# Slicing - last value in boundary will not be included\n",
    "# [start_index, final_index, step]\n",
    "# default start_index = 0 ; final_index = len(list); step = 1\n",
    "print(\"\\nml[1:4]      \", ml[1:4])\n",
    "print(\"ml[1:4:2]    \", ml[1:4:2])"
   ]
  },
  {
   "cell_type": "markdown",
   "metadata": {},
   "source": [
    "## mutability\n",
    "\n",
    "\n",
    "    Mutable objects: List, set, dict\n",
    "    immutable objects: int, float, str, bool, None, tuple, frozenset, iterator"
   ]
  },
  {
   "cell_type": "code",
   "execution_count": null,
   "metadata": {},
   "outputs": [],
   "source": [
    "num1 = 1234\n",
    "print(f\"{num1 =} {type(num1)} {id(num1)=}\")  # 124128826781200"
   ]
  },
  {
   "cell_type": "code",
   "execution_count": null,
   "metadata": {},
   "outputs": [],
   "source": [
    "num1 = 9999   # OVERwriting\n",
    "print(f\"{num1 =} {type(num1)} {id(num1)=}\")  # 124128827047440"
   ]
  },
  {
   "cell_type": "code",
   "execution_count": null,
   "metadata": {},
   "outputs": [],
   "source": [
    "print(\"\\nString is a immutable object ===\")\n",
    "name = \"Raj Sekhar\"\n",
    "print(f\"name         :{name}\")\n",
    "print(f\"name[0:3]    :{name[0:3]}\")"
   ]
  },
  {
   "cell_type": "code",
   "execution_count": null,
   "metadata": {},
   "outputs": [],
   "source": [
    "name[0:3] = \"Tej\""
   ]
  },
  {
   "cell_type": "code",
   "execution_count": null,
   "metadata": {},
   "outputs": [],
   "source": [
    "print(f'{id(name) = }')\n",
    "name = \"Tej Sekhar\"      # OVERwriting\n",
    "print(f'{id(name) = }')\n"
   ]
  },
  {
   "cell_type": "code",
   "execution_count": null,
   "metadata": {},
   "outputs": [],
   "source": [
    "name"
   ]
  },
  {
   "cell_type": "code",
   "execution_count": null,
   "metadata": {},
   "outputs": [],
   "source": [
    "# multi-dimensional lists\n",
    "ml = [1, 2, 3, 4.3, 5, [6, 7, 8, (9, 10)]]\n",
    "#     0  1  2   3   4  --------5--------\n",
    "#                       0  1  2   --3--\n",
    "#                                 0   1\n",
    "print()\n",
    "print(\"List is a mutable object =======\")\n",
    "print(\"ml           \", ml)          # value\n",
    "print(\"type(ml)     \", type(ml))    # data type\n",
    "print(\"id(ml)       \", id(ml))      # address location - 124128827219584\n"
   ]
  },
  {
   "cell_type": "code",
   "execution_count": null,
   "metadata": {},
   "outputs": [],
   "source": [
    "ml[3]"
   ]
  },
  {
   "cell_type": "code",
   "execution_count": 26,
   "metadata": {},
   "outputs": [],
   "source": [
    "ml[3] = 3.4"
   ]
  },
  {
   "cell_type": "code",
   "execution_count": null,
   "metadata": {},
   "outputs": [],
   "source": [
    "ml"
   ]
  },
  {
   "cell_type": "code",
   "execution_count": null,
   "metadata": {},
   "outputs": [],
   "source": [
    "print(\"id(ml)       \", id(ml))      # address location - 124128827219584"
   ]
  },
  {
   "cell_type": "code",
   "execution_count": 29,
   "metadata": {},
   "outputs": [],
   "source": [
    "# NOTE: address is not changed. but value is updated -- INplace change DONE"
   ]
  },
  {
   "cell_type": "markdown",
   "metadata": {},
   "source": [
    "## List Attributes"
   ]
  },
  {
   "cell_type": "code",
   "execution_count": null,
   "metadata": {},
   "outputs": [],
   "source": [
    "numbers = [88, 99, 666]\n",
    "\n",
    "print(\"type(numbers)    =\", type(numbers))\n",
    "print(\"dir(numbers)     =\", dir(numbers))\n"
   ]
  },
  {
   "cell_type": "code",
   "execution_count": null,
   "metadata": {},
   "outputs": [],
   "source": [
    "print(\"len(numbers)            =\", len(numbers))\n",
    "print(\"numbers.__len__()       =\", numbers.__len__())\n",
    "assert len(numbers) == numbers.__len__()"
   ]
  },
  {
   "cell_type": "code",
   "execution_count": null,
   "metadata": {},
   "outputs": [],
   "source": [
    "print(\"str(numbers)           =\", str(numbers))\n",
    "print(\"type(str(numbers))     =\", type(str(numbers)))\n",
    "print(\"numbers.__str__()      =\", numbers.__str__())\n",
    "print(\"type(numbers.__str__())=\", type(numbers.__str__()))\n",
    "assert str(numbers) == numbers.__str__()\n"
   ]
  },
  {
   "cell_type": "code",
   "execution_count": null,
   "metadata": {},
   "outputs": [],
   "source": [
    "# List Repetion operation\n",
    "print(\"numbers * 3         =\", numbers * 3)  # original object not modified\n",
    "print(\"numbers             =\", numbers)\n",
    "# original object not modified\n",
    "print(\"numbers.__mul__(3)  =\", numbers.__mul__(3))\n",
    "print(\"numbers             =\", numbers)\n",
    "assert numbers * 3 == numbers.__mul__(3)"
   ]
  },
  {
   "cell_type": "code",
   "execution_count": null,
   "metadata": {},
   "outputs": [],
   "source": [
    "# original object IS modified\n",
    "print(\"numbers.__imul__(3) =\", numbers.__imul__(3))  # numbers *= 3\n",
    "print(\"numbers             =\", numbers)"
   ]
  },
  {
   "cell_type": "code",
   "execution_count": null,
   "metadata": {},
   "outputs": [],
   "source": [
    "print(\"id(numbers)          =\", id(numbers))\n",
    "# object overwriting\n",
    "numbers = [88, 99, 666]\n",
    "print(\"id(numbers)          =\", id(numbers))\n",
    "numbers = [88, 99, 666]\n",
    "print(\"id(numbers)          =\", id(numbers))"
   ]
  },
  {
   "cell_type": "code",
   "execution_count": 36,
   "metadata": {},
   "outputs": [],
   "source": [
    "# NOTE: overwriting will everytime change the address of the object, in datastcurure\n",
    "\n",
    "# Assignment: try checking the overwriting address change in all data types"
   ]
  },
  {
   "cell_type": "code",
   "execution_count": null,
   "metadata": {},
   "outputs": [],
   "source": [
    "# Integer (immutable type)\n",
    "x = 10\n",
    "print(f\"x = {x}, id(x) = {id(x)}\")  # prints memory address of x\n",
    "x = 20\n",
    "print(f\"x = {x}, id(x) = {id(x)}\")  # new address after assignment\n",
    "\n",
    "# String (immutable type)\n",
    "s = \"hello\"\n",
    "print(f\"s = {s}, id(s) = {id(s)}\")  # prints memory address of s\n",
    "s = \"world\"\n",
    "print(f\"s = {s}, id(s) = {id(s)}\")  # new address after assignment\n",
    "\n",
    "# List (mutable type)\n",
    "lst = [1, 2, 3]\n",
    "print(f\"lst = {lst}, id(lst) = {id(lst)}\")  # prints memory address of lst\n",
    "lst = [4, 5, 6]  # reassigning entire list\n",
    "print(f\"lst = {lst}, id(lst) = {id(lst)}\")  # new address after assignment\n",
    "\n",
    "# Dictionary (mutable type)\n",
    "d = {\"a\": 1, \"b\": 2}\n",
    "print(f\"d = {d}, id(d) = {id(d)}\")  # prints memory address of d\n",
    "d = {\"x\": 10, \"y\": 20}  # reassigning entire dictionary\n",
    "print(f\"d = {d}, id(d) = {id(d)}\")  # new address after assignment\n",
    "\n",
    "# List modification (mutable type)\n",
    "lst = [1, 2, 3]\n",
    "print(f\"Before modification, id(lst) = {id(lst)}\")\n",
    "lst.append(4)\n",
    "print(f\"After modification, lst = {lst}, id(lst) = {id(lst)}\")  # same address after modification\n"
   ]
  },
  {
   "cell_type": "code",
   "execution_count": null,
   "metadata": {},
   "outputs": [],
   "source": [
    "number = 123312\n",
    "print(\"id(number)          =\", id(number))\n",
    "number = 99999\n",
    "print(\"id(number)          =\", id(number))"
   ]
  },
  {
   "cell_type": "code",
   "execution_count": 38,
   "metadata": {},
   "outputs": [],
   "source": [
    "# list concatenation\n",
    "alphabets = [\"b\", \"c\"]\n"
   ]
  },
  {
   "cell_type": "code",
   "execution_count": null,
   "metadata": {},
   "outputs": [],
   "source": [
    "numbers"
   ]
  },
  {
   "cell_type": "code",
   "execution_count": null,
   "metadata": {},
   "outputs": [],
   "source": [
    "numbers + alphabets"
   ]
  },
  {
   "cell_type": "code",
   "execution_count": null,
   "metadata": {},
   "outputs": [],
   "source": [
    "numbers.__add__(alphabets)"
   ]
  },
  {
   "cell_type": "code",
   "execution_count": 42,
   "metadata": {},
   "outputs": [],
   "source": [
    "# NOTE: list concatenation will create new object;\n",
    "# original objects are not changed"
   ]
  },
  {
   "cell_type": "code",
   "execution_count": null,
   "metadata": {},
   "outputs": [],
   "source": [
    "numbers.__iadd__(alphabets)  # numbers += alphabets"
   ]
  },
  {
   "cell_type": "code",
   "execution_count": null,
   "metadata": {},
   "outputs": [],
   "source": [
    "alphabets"
   ]
  },
  {
   "cell_type": "code",
   "execution_count": null,
   "metadata": {},
   "outputs": [],
   "source": [
    "numbers    # first object IS changed"
   ]
  },
  {
   "cell_type": "code",
   "execution_count": null,
   "metadata": {},
   "outputs": [],
   "source": [
    "# Membership check -in\n",
    "\n",
    "print(\"numbers.__contains__(12) =\", numbers.__contains__(12))\n",
    "print(\"12 in numbers            =\", 12 in numbers)\n",
    "\n",
    "print(\"numbers.__contains__('b') =\", numbers.__contains__(\"b\"))\n",
    "print(\"'b' in numbers            =\", \"b\" in numbers)"
   ]
  },
  {
   "cell_type": "code",
   "execution_count": null,
   "metadata": {},
   "outputs": [],
   "source": [
    "numbers.__sizeof__()"
   ]
  },
  {
   "cell_type": "code",
   "execution_count": null,
   "metadata": {},
   "outputs": [],
   "source": [
    "callable(number.__sizeof__)"
   ]
  },
  {
   "cell_type": "code",
   "execution_count": null,
   "metadata": {},
   "outputs": [],
   "source": [
    "print(f\"{numbers.__sizeof__()  =}\")  # bytes\n",
    "\n",
    "import sys\n",
    "print(f\"{sys.getsizeof(numbers)=}\")  # bytes - object + c header\n",
    "# python favours - Jython(java), Cpython(c), Ironthon(.net)"
   ]
  },
  {
   "cell_type": "code",
   "execution_count": null,
   "metadata": {},
   "outputs": [],
   "source": [
    "numbers.__doc__"
   ]
  },
  {
   "cell_type": "code",
   "execution_count": null,
   "metadata": {},
   "outputs": [],
   "source": [
    "print(numbers.__doc__)"
   ]
  },
  {
   "cell_type": "code",
   "execution_count": null,
   "metadata": {},
   "outputs": [],
   "source": [
    "help(numbers)"
   ]
  },
  {
   "cell_type": "code",
   "execution_count": null,
   "metadata": {},
   "outputs": [],
   "source": [
    "mylist = [11, 22, 33]\n",
    "\n",
    "dir(mylist)"
   ]
  },
  {
   "cell_type": "code",
   "execution_count": null,
   "metadata": {},
   "outputs": [],
   "source": [
    "for attribute in dir(mylist):\n",
    "    if not attribute.startswith('__'):\n",
    "        print(attribute, end= ', ')"
   ]
  },
  {
   "cell_type": "markdown",
   "metadata": {},
   "source": [
    "#### Question: append vs Extend vs insert"
   ]
  },
  {
   "cell_type": "code",
   "execution_count": null,
   "metadata": {},
   "outputs": [],
   "source": [
    "mylist = [11, 22, 33]\n",
    "mylist"
   ]
  },
  {
   "cell_type": "code",
   "execution_count": 72,
   "metadata": {},
   "outputs": [],
   "source": [
    "mylist.append(44)"
   ]
  },
  {
   "cell_type": "code",
   "execution_count": 73,
   "metadata": {},
   "outputs": [],
   "source": [
    "None"
   ]
  },
  {
   "cell_type": "code",
   "execution_count": null,
   "metadata": {},
   "outputs": [],
   "source": [
    "mylist"
   ]
  },
  {
   "cell_type": "code",
   "execution_count": null,
   "metadata": {},
   "outputs": [],
   "source": [
    "mylist.append(None)\n",
    "\n",
    "mylist"
   ]
  },
  {
   "cell_type": "code",
   "execution_count": null,
   "metadata": {},
   "outputs": [],
   "source": [
    "mylist.append([55, 66])\n",
    "\n",
    "mylist"
   ]
  },
  {
   "cell_type": "code",
   "execution_count": null,
   "metadata": {},
   "outputs": [],
   "source": [
    "mylist.extend(77)"
   ]
  },
  {
   "cell_type": "code",
   "execution_count": null,
   "metadata": {},
   "outputs": [],
   "source": [
    "# iterables - string, collections(list, tuple, set, dict), range, iterator, generator\n",
    "\n",
    "mylist.extend([77])\n",
    "\n",
    "mylist"
   ]
  },
  {
   "cell_type": "code",
   "execution_count": 79,
   "metadata": {},
   "outputs": [],
   "source": [
    "mylist.extend((88, 99))\n"
   ]
  },
  {
   "cell_type": "code",
   "execution_count": null,
   "metadata": {},
   "outputs": [],
   "source": [
    "mylist"
   ]
  },
  {
   "cell_type": "code",
   "execution_count": null,
   "metadata": {},
   "outputs": [],
   "source": [
    "mylist.extend([111, (222, 333)])\n",
    "\n",
    "mylist"
   ]
  },
  {
   "cell_type": "code",
   "execution_count": 82,
   "metadata": {},
   "outputs": [],
   "source": [
    "# NOTE: Both list.append and list.extend CAN add at the end of list only\n",
    "# 1. list.append - can take single element, or an iterable. Adds as it is\n",
    "# 2. list.extend will take only iterable. Adds to same dimension"
   ]
  },
  {
   "cell_type": "code",
   "execution_count": null,
   "metadata": {},
   "outputs": [],
   "source": [
    "mylist = [11, 22, 33]\n",
    "mylist"
   ]
  },
  {
   "cell_type": "code",
   "execution_count": null,
   "metadata": {},
   "outputs": [],
   "source": [
    "mylist.insert(0, \"a\")\n",
    "print(\"After mylist.insert(0, 'a'):\\n\\t\", mylist)"
   ]
  },
  {
   "cell_type": "code",
   "execution_count": null,
   "metadata": {},
   "outputs": [],
   "source": [
    "mylist.insert(3, \"b\")\n",
    "print(\"After mylist.insert(3, 'b'):\\n\\t\", mylist)"
   ]
  },
  {
   "cell_type": "code",
   "execution_count": null,
   "metadata": {},
   "outputs": [],
   "source": [
    "mylist.insert(3, [\"c\", \"d\"])\n",
    "print(\"After mylist.insert(3, ['c', 'd']):\\n\\t\", mylist)"
   ]
  },
  {
   "cell_type": "code",
   "execution_count": null,
   "metadata": {},
   "outputs": [],
   "source": [
    "# Question: How to make list.insert to work like list.append\n",
    "mylist.insert(-1, \"eeeeee\")\n",
    "print(\"After mylist.insert(-1, 'eeeeee'):\\n\\t\", mylist)\n"
   ]
  },
  {
   "cell_type": "code",
   "execution_count": null,
   "metadata": {},
   "outputs": [],
   "source": [
    "mylist.insert(len(mylist), \"ff\")\n",
    "print(\"After mylist.insert(len(mylist), 'ff'):\\n\\t\", mylist)\n",
    "\n",
    "\n",
    "# NOTE: In this case insert works like an append"
   ]
  },
  {
   "cell_type": "code",
   "execution_count": null,
   "metadata": {},
   "outputs": [],
   "source": [
    "# Question: list.insert vs substitution\n",
    "print(f\"{mylist[3] =}\")\n",
    "mylist[3] = \"god\"\n",
    "print(\"After mylist[3] = 'god':\\n\\t\", mylist)\n"
   ]
  },
  {
   "cell_type": "markdown",
   "metadata": {},
   "source": [
    "#### Question: list.pop() vs list.remove()\n"
   ]
  },
  {
   "cell_type": "code",
   "execution_count": null,
   "metadata": {},
   "outputs": [],
   "source": [
    "print(f\"{mylist.pop() =}\")\n",
    "print(f\"{mylist       =}\\n\")"
   ]
  },
  {
   "cell_type": "code",
   "execution_count": null,
   "metadata": {},
   "outputs": [],
   "source": [
    "print(f\"{mylist.pop() =}\")\n",
    "print(f\"{mylist       =}\\n\")"
   ]
  },
  {
   "cell_type": "code",
   "execution_count": null,
   "metadata": {},
   "outputs": [],
   "source": [
    "mylist = [\"a\", 11, 22, \"god\", \"b\", (12, [323, 3])]\n",
    "print(f\"{mylist.pop() =}\")\n",
    "print(f\"{mylist       =}\\n\")"
   ]
  },
  {
   "cell_type": "code",
   "execution_count": null,
   "metadata": {},
   "outputs": [],
   "source": [
    "mylist = [\"a\", 11, 22, \"god\", \"b\", (12, [323, 3])]\n",
    "print(f\"{mylist.pop(3) =}\")   # index 3 is removed\n",
    "print(f\"{mylist       =}\\n\")"
   ]
  },
  {
   "cell_type": "code",
   "execution_count": null,
   "metadata": {},
   "outputs": [],
   "source": [
    "mylist = [\"a\", 11, 22, \"god\", \"b\", (12, [323, 3])]\n",
    "print(f\"{mylist.pop(-1) =}\")   # index 3 is removed\n",
    "print(f\"{mylist       =}\\n\")"
   ]
  },
  {
   "cell_type": "code",
   "execution_count": null,
   "metadata": {},
   "outputs": [],
   "source": [
    "mylist = [\"a\", 11, 22, \"god\", \"b\", (12, [323, 3])]\n",
    "print(f\"{mylist.pop(78) =}\")   # index 3 is removed\n",
    "print(f\"{mylist       =}\\n\")"
   ]
  },
  {
   "cell_type": "code",
   "execution_count": null,
   "metadata": {},
   "outputs": [],
   "source": [
    "mylist = []\n",
    "print(f\"{mylist.pop(78) =}\")   # index 3 is removed\n",
    "print(f\"{mylist       =}\\n\")"
   ]
  },
  {
   "cell_type": "code",
   "execution_count": null,
   "metadata": {},
   "outputs": [],
   "source": [
    "# To remove a specific element\n",
    "\n",
    "mylist = [\"a\", 11, 22, \"god\", \"b\", (12, [323, 3])]\n",
    "\n",
    "print(f\"{mylist.remove(11) =}\")  # None\n",
    "print(f\"{mylist       =}\\n\")  # ['a', 22,  'god', 'b']"
   ]
  },
  {
   "cell_type": "code",
   "execution_count": null,
   "metadata": {},
   "outputs": [],
   "source": [
    "# If multiple elements are present, it will remove the first occurrence\n",
    "mylist = [[22], 11, 22, 33, 22, 22, 33]\n",
    "print(f\"{mylist.remove(22) =}\")\n",
    "print(f\"{mylist       =}\\n\")"
   ]
  },
  {
   "cell_type": "code",
   "execution_count": 101,
   "metadata": {},
   "outputs": [],
   "source": [
    "# Assignment - how to remove the last occurence of a element in the list"
   ]
  },
  {
   "cell_type": "code",
   "execution_count": null,
   "metadata": {},
   "outputs": [],
   "source": [
    "mylist.remove('q')"
   ]
  },
  {
   "cell_type": "code",
   "execution_count": null,
   "metadata": {},
   "outputs": [],
   "source": [
    "mylist = []\n",
    "mylist.remove('q')"
   ]
  },
  {
   "cell_type": "code",
   "execution_count": null,
   "metadata": {},
   "outputs": [],
   "source": [
    "# del - can remove an element or some indexed positions\n",
    "mylist = [\"a\", \"b\", \"c\", \"d\", \"e\", \"f\"]\n",
    "print(f\"{mylist       =}\")\n",
    "print(f\"{mylist[3]    =}\")\n",
    "del mylist[3]\n",
    "print(\"After del mylist[3]   =\", mylist)"
   ]
  },
  {
   "cell_type": "code",
   "execution_count": null,
   "metadata": {},
   "outputs": [],
   "source": [
    "print(f\"{mylist[0::2]          =}\")\n",
    "del mylist[0::2]\n",
    "print(\"After del mylist[0::2]:\", mylist)"
   ]
  },
  {
   "cell_type": "code",
   "execution_count": null,
   "metadata": {},
   "outputs": [],
   "source": [
    "# Question: list.clear vs del list\n",
    "mylist.clear()\n",
    "print(\"After mylist.clear()  :\", mylist)"
   ]
  },
  {
   "cell_type": "code",
   "execution_count": 107,
   "metadata": {},
   "outputs": [],
   "source": [
    "del mylist\n"
   ]
  },
  {
   "cell_type": "markdown",
   "metadata": {},
   "source": []
  },
  {
   "cell_type": "code",
   "execution_count": null,
   "metadata": {},
   "outputs": [],
   "source": [
    "mylist"
   ]
  },
  {
   "cell_type": "raw",
   "metadata": {
    "vscode": {
     "languageId": "raw"
    }
   },
   "source": [
    "Assignment\n",
    "----------\n",
    "1) implement the stack mechanism - LIFO\n",
    "Take the values in run time\n",
    "   1. push   - add an element\n",
    "   2. pop    - delete last element\n",
    "   3. status - stack size\n",
    "\n",
    "-       -\n",
    "|       |\n",
    "|       |\n",
    "---------\n",
    "HINT: list.pop(), list.append(), len()\n",
    "\n",
    "2) implement the queue mechanism - FIFO\n",
    "Take the values in run time\n",
    "   1. push   - add an element\n",
    "   2. pop    - delete last element\n",
    "   3. status - queue size\n",
    "    --------\n",
    " ->         ->\n",
    "    --------\n",
    "HINT: list.insert(), list.pop(), len()"
   ]
  }
 ],
 "metadata": {
  "kernelspec": {
   "display_name": "Python 3",
   "language": "python",
   "name": "python3"
  },
  "language_info": {
   "codemirror_mode": {
    "name": "ipython",
    "version": 3
   },
   "file_extension": ".py",
   "mimetype": "text/x-python",
   "name": "python",
   "nbconvert_exporter": "python",
   "pygments_lexer": "ipython3",
   "version": "3.12.3"
  }
 },
 "nbformat": 4,
 "nbformat_minor": 2
}
