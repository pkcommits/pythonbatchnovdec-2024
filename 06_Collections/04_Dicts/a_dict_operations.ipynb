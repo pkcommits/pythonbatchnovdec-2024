{
 "cells": [
  {
   "cell_type": "markdown",
   "metadata": {},
   "source": [
    "# Dict \n",
    "\n",
    "    - This is representation of the data structure\n",
    "        - HashMap\n",
    "    - Properties\n",
    "        - represented using {} or dict()"
   ]
  },
  {
   "cell_type": "code",
   "execution_count": 1,
   "metadata": {},
   "outputs": [
    {
     "name": "stdout",
     "output_type": "stream",
     "text": [
      "{} <class 'dict'>\n",
      "{} <class 'dict'>\n",
      "set() <class 'set'>\n"
     ]
    }
   ],
   "source": [
    "empty_dict = {}\n",
    "print(empty_dict, type(empty_dict))\n",
    "\n",
    "empty_dict = dict()\n",
    "print(empty_dict, type(empty_dict))\n",
    "\n",
    "empty_set = set()\n",
    "print(empty_set, type(empty_set))"
   ]
  },
  {
   "cell_type": "code",
   "execution_count": 2,
   "metadata": {},
   "outputs": [
    {
     "name": "stdout",
     "output_type": "stream",
     "text": [
      "{'a': 1} <class 'dict'>\n",
      "len(dict_with_single_pair) =1\n"
     ]
    }
   ],
   "source": [
    "dict_with_single_pair = {\"a\": 1}\n",
    "print(dict_with_single_pair, type(dict_with_single_pair))\n",
    "print(f\"{len(dict_with_single_pair) =}\")"
   ]
  },
  {
   "cell_type": "code",
   "execution_count": 3,
   "metadata": {},
   "outputs": [
    {
     "name": "stdout",
     "output_type": "stream",
     "text": [
      "\n",
      "{34, 12} <class 'set'>\n",
      "{12: 34, 34: 56} <class 'dict'>\n"
     ]
    }
   ],
   "source": [
    "# - with values\n",
    "print()\n",
    "other_set = {12, 34}\n",
    "print(other_set, type(other_set))\n",
    "\n",
    "other_dict = {12: 34, 34: 56}\n",
    "print(other_dict, type(other_dict))"
   ]
  },
  {
   "cell_type": "markdown",
   "metadata": {},
   "source": [
    "### Dict properties\n",
    "\n",
    "    - Properties\n",
    "        - represented using {} or dict()\n",
    "        - from python 3.6 onwards, the order of dict is maintained\n",
    "            - In older versions, OrderedDict module should be used for the same\n",
    "        - Any data type can be used for dict values\n",
    "        - dict keys should be immutables only"
   ]
  },
  {
   "cell_type": "code",
   "execution_count": 4,
   "metadata": {},
   "outputs": [
    {
     "name": "stdout",
     "output_type": "stream",
     "text": [
      "{'b': 2, 'a': 1, 'c': 3, 'd': 4}\n"
     ]
    }
   ],
   "source": [
    "alphabhets = {\"b\": 2, \"a\": 1, \"c\": 3, \"d\": 4}\n",
    "print(alphabhets)"
   ]
  },
  {
   "cell_type": "code",
   "execution_count": 5,
   "metadata": {},
   "outputs": [
    {
     "data": {
      "text/plain": [
       "\"\\nIn python < 3.6, use below code to retaining the assigned order\\n\\nimport OrderedDict\\nalphabhets = OrderedDict.OrderedDict({'a': 1, 'b': 2, 'c': 3, 'd': 4})\\nprint(alphabhets)\\n\""
      ]
     },
     "execution_count": 5,
     "metadata": {},
     "output_type": "execute_result"
    }
   ],
   "source": [
    "\"\"\"\n",
    "In python < 3.6, use below code to retaining the assigned order\n",
    "\n",
    "import OrderedDict\n",
    "alphabhets = OrderedDict.OrderedDict({'a': 1, 'b': 2, 'c': 3, 'd': 4})\n",
    "print(alphabhets)\n",
    "\"\"\""
   ]
  },
  {
   "cell_type": "code",
   "execution_count": 6,
   "metadata": {},
   "outputs": [
    {
     "ename": "ModuleNotFoundError",
     "evalue": "No module named 'OrderedDict'",
     "output_type": "error",
     "traceback": [
      "\u001b[0;31m---------------------------------------------------------------------------\u001b[0m",
      "\u001b[0;31mModuleNotFoundError\u001b[0m                       Traceback (most recent call last)",
      "Cell \u001b[0;32mIn[6], line 1\u001b[0m\n\u001b[0;32m----> 1\u001b[0m \u001b[38;5;28;01mimport\u001b[39;00m \u001b[38;5;21;01mOrderedDict\u001b[39;00m\n",
      "\u001b[0;31mModuleNotFoundError\u001b[0m: No module named 'OrderedDict'"
     ]
    }
   ],
   "source": [
    "import OrderedDict\n"
   ]
  },
  {
   "cell_type": "code",
   "execution_count": 7,
   "metadata": {},
   "outputs": [
    {
     "ename": "TypeError",
     "evalue": "unhashable type: 'list'",
     "output_type": "error",
     "traceback": [
      "\u001b[0;31m---------------------------------------------------------------------------\u001b[0m",
      "\u001b[0;31mTypeError\u001b[0m                                 Traceback (most recent call last)",
      "Cell \u001b[0;32mIn[7], line 1\u001b[0m\n\u001b[0;32m----> 1\u001b[0m person_details \u001b[38;5;241m=\u001b[39m {\n\u001b[1;32m      2\u001b[0m     \u001b[38;5;124m\"\u001b[39m\u001b[38;5;124mname\u001b[39m\u001b[38;5;124m\"\u001b[39m: \u001b[38;5;124m\"\u001b[39m\u001b[38;5;124mGudo Van Russom\u001b[39m\u001b[38;5;124m\"\u001b[39m,\n\u001b[1;32m      3\u001b[0m     \u001b[38;5;124m\"\u001b[39m\u001b[38;5;124mage\u001b[39m\u001b[38;5;124m\"\u001b[39m: \u001b[38;5;241m67\u001b[39m,\n\u001b[1;32m      4\u001b[0m     \u001b[38;5;124m\"\u001b[39m\u001b[38;5;124msalary\u001b[39m\u001b[38;5;124m\"\u001b[39m: \u001b[38;5;241m1233123.12\u001b[39m,\n\u001b[1;32m      5\u001b[0m     \u001b[38;5;124m\"\u001b[39m\u001b[38;5;124mchildren\u001b[39m\u001b[38;5;124m\"\u001b[39m: [\u001b[38;5;124m\"\u001b[39m\u001b[38;5;124mmary\u001b[39m\u001b[38;5;124m\"\u001b[39m, \u001b[38;5;124m\"\u001b[39m\u001b[38;5;124mJohn\u001b[39m\u001b[38;5;124m\"\u001b[39m],\n\u001b[1;32m      6\u001b[0m     \u001b[38;5;124m\"\u001b[39m\u001b[38;5;124mparents\u001b[39m\u001b[38;5;124m\"\u001b[39m: (\u001b[38;5;124m\"\u001b[39m\u001b[38;5;124mSam Russom\u001b[39m\u001b[38;5;124m\"\u001b[39m, \u001b[38;5;124m\"\u001b[39m\u001b[38;5;124mMichel Russom\u001b[39m\u001b[38;5;124m\"\u001b[39m),\n\u001b[1;32m      7\u001b[0m     \u001b[38;5;241m1\u001b[39m: [\u001b[38;5;241m12\u001b[39m, \u001b[38;5;241m3\u001b[39m, \u001b[38;5;241m12\u001b[39m],\n\u001b[1;32m      8\u001b[0m     \u001b[38;5;241m-\u001b[39m\u001b[38;5;241m1213.213\u001b[39m: {\u001b[38;5;241m33\u001b[39m, \u001b[38;5;241m33\u001b[39m},\n\u001b[1;32m      9\u001b[0m     (\u001b[38;5;124m\"\u001b[39m\u001b[38;5;124mDr\u001b[39m\u001b[38;5;124m\"\u001b[39m, \u001b[38;5;124m\"\u001b[39m\u001b[38;5;124mMr\u001b[39m\u001b[38;5;124m\"\u001b[39m): \u001b[38;5;124m\"\u001b[39m\u001b[38;5;124mtitles\u001b[39m\u001b[38;5;124m\"\u001b[39m,\n\u001b[1;32m     10\u001b[0m     \u001b[38;5;28;01mNone\u001b[39;00m: \u001b[38;5;124m\"\u001b[39m\u001b[38;5;124mThis is None\u001b[39m\u001b[38;5;124m\"\u001b[39m,\n\u001b[1;32m     11\u001b[0m     [\u001b[38;5;241m12\u001b[39m, \u001b[38;5;241m23\u001b[39m]: \u001b[38;5;124m'\u001b[39m\u001b[38;5;124msomething\u001b[39m\u001b[38;5;124m'\u001b[39m,\n\u001b[1;32m     12\u001b[0m     \u001b[38;5;28mtuple\u001b[39m([\u001b[38;5;241m12\u001b[39m, \u001b[38;5;241m23\u001b[39m]): \u001b[38;5;124m\"\u001b[39m\u001b[38;5;124msomething\u001b[39m\u001b[38;5;124m\"\u001b[39m,\n\u001b[1;32m     13\u001b[0m }\n",
      "\u001b[0;31mTypeError\u001b[0m: unhashable type: 'list'"
     ]
    }
   ],
   "source": [
    "person_details = {\n",
    "    \"name\": \"Gudo Van Russom\",\n",
    "    \"age\": 67,\n",
    "    \"salary\": 1233123.12,\n",
    "    \"children\": [\"mary\", \"John\"],\n",
    "    \"parents\": (\"Sam Russom\", \"Michel Russom\"),\n",
    "    1: [12, 3, 12],\n",
    "    -1213.213: {33, 33},\n",
    "    (\"Dr\", \"Mr\"): \"titles\",\n",
    "    None: \"This is None\",\n",
    "    [12, 23]: 'something',\n",
    "    tuple([12, 23]): \"something\",\n",
    "}"
   ]
  },
  {
   "cell_type": "code",
   "execution_count": 8,
   "metadata": {},
   "outputs": [],
   "source": [
    "# NOTE: dict keys should be immutable and hashable"
   ]
  },
  {
   "cell_type": "code",
   "execution_count": 9,
   "metadata": {},
   "outputs": [],
   "source": [
    "person_details = {\n",
    "    \"name\": \"Gudo Van Russom\",\n",
    "    \"age\": 67,\n",
    "    \"salary\": 1233123.12,\n",
    "    \"children\": [\"mary\", \"John\"],\n",
    "    \"parents\": (\"Sam Russom\", \"Michel Russom\"),\n",
    "    1: [12, 3, 12],\n",
    "    -1213.213: {33, 33},\n",
    "    (\"Dr\", \"Mr\"): \"titles\",\n",
    "    None: \"This is None\",\n",
    "    # [12, 23]: 'something',\n",
    "    tuple([12, 23]): \"something\",\n",
    "}"
   ]
  },
  {
   "cell_type": "code",
   "execution_count": 10,
   "metadata": {},
   "outputs": [
    {
     "data": {
      "text/plain": [
       "{'name': 'Gudo Van Russom',\n",
       " 'age': 67,\n",
       " 'salary': 1233123.12,\n",
       " 'children': ['mary', 'John'],\n",
       " 'parents': ('Sam Russom', 'Michel Russom'),\n",
       " 1: [12, 3, 12],\n",
       " -1213.213: {33},\n",
       " ('Dr', 'Mr'): 'titles',\n",
       " None: 'This is None',\n",
       " (12, 23): 'something'}"
      ]
     },
     "execution_count": 10,
     "metadata": {},
     "output_type": "execute_result"
    }
   ],
   "source": [
    "person_details"
   ]
  },
  {
   "cell_type": "code",
   "execution_count": 11,
   "metadata": {},
   "outputs": [
    {
     "name": "stdout",
     "output_type": "stream",
     "text": [
      "{'name': 'Gudo Van Russom',\n",
      " 'age': 67,\n",
      " 'salary': 1233123.12,\n",
      " 'children': ['mary', 'John'],\n",
      " 'parents': ('Sam Russom', 'Michel Russom'),\n",
      " 1: [12, 3, 12],\n",
      " -1213.213: {33},\n",
      " ('Dr', 'Mr'): 'titles',\n",
      " None: 'This is None',\n",
      " (12, 23): 'something'}\n"
     ]
    }
   ],
   "source": [
    "from pprint import pprint, pp\n",
    "\n",
    "pp(person_details)"
   ]
  },
  {
   "cell_type": "code",
   "execution_count": 12,
   "metadata": {},
   "outputs": [
    {
     "name": "stdout",
     "output_type": "stream",
     "text": [
      "{None: 'This is None',\n",
      " -1213.213: {33},\n",
      " 1: [12, 3, 12],\n",
      " 'age': 67,\n",
      " 'children': ['mary', 'John'],\n",
      " 'name': 'Gudo Van Russom',\n",
      " 'parents': ('Sam Russom', 'Michel Russom'),\n",
      " 'salary': 1233123.12,\n",
      " ('Dr', 'Mr'): 'titles',\n",
      " (12, 23): 'something'}\n"
     ]
    }
   ],
   "source": [
    "pprint(person_details)  # displayes in sorted asc order of keys"
   ]
  },
  {
   "cell_type": "code",
   "execution_count": 14,
   "metadata": {},
   "outputs": [
    {
     "name": "stdout",
     "output_type": "stream",
     "text": [
      "{   None: 'This is None',\n",
      "    -1213.213: {33},\n",
      "    1: [12, 3, 12],\n",
      "    'age': 67,\n",
      "    'children': ['mary', 'John'],\n",
      "    'name': 'Gudo Van Russom',\n",
      "    'parents': ('Sam Russom', 'Michel Russom'),\n",
      "    'salary': 1233123.12,\n",
      "    ('Dr', 'Mr'): 'titles',\n",
      "    (12, 23): 'something'}\n"
     ]
    }
   ],
   "source": [
    "pprint(person_details, indent=4)"
   ]
  },
  {
   "cell_type": "code",
   "execution_count": 17,
   "metadata": {},
   "outputs": [
    {
     "name": "stdout",
     "output_type": "stream",
     "text": [
      "{'name': 'Gudo Van Russom', 'age': 67, 'salary': 1233123.12, 'children': ['mary', 'John'], 'parents': ('Sam Russom', 'Michel Russom'), 1: [12, 3, 12], -1213.213: {33}, ('Dr', 'Mr'): 'titles', None: 'This is None', (12, 23): 'something'}\n"
     ]
    }
   ],
   "source": [
    "print(person_details)"
   ]
  },
  {
   "cell_type": "code",
   "execution_count": 15,
   "metadata": {},
   "outputs": [],
   "source": [
    "# NOTE:\n",
    "# 1. general print() will retain dict order\n",
    "# 2. pprint() will sort by keys and display\n",
    "# 3. pp() will retain dict order, as created.\n"
   ]
  },
  {
   "cell_type": "markdown",
   "metadata": {},
   "source": [
    "## Iterating over Dictionaries"
   ]
  },
  {
   "cell_type": "code",
   "execution_count": 19,
   "metadata": {},
   "outputs": [
    {
     "name": "stdout",
     "output_type": "stream",
     "text": [
      "person_details.keys()  =dict_keys(['name', 'age', 'salary', 'children', 'parents', 1, -1213.213, ('Dr', 'Mr'), None, (12, 23)])\n"
     ]
    }
   ],
   "source": [
    "# To get the dictionary keys\n",
    "print(f\"{person_details.keys()  =}\")"
   ]
  },
  {
   "cell_type": "code",
   "execution_count": 20,
   "metadata": {},
   "outputs": [
    {
     "data": {
      "text/plain": [
       "dict_values(['Gudo Van Russom', 67, 1233123.12, ['mary', 'John'], ('Sam Russom', 'Michel Russom'), [12, 3, 12], {33}, 'titles', 'This is None', 'something'])"
      ]
     },
     "execution_count": 20,
     "metadata": {},
     "output_type": "execute_result"
    }
   ],
   "source": [
    "# To get the dictionary values\n",
    "person_details.values()"
   ]
  },
  {
   "cell_type": "code",
   "execution_count": 21,
   "metadata": {},
   "outputs": [
    {
     "data": {
      "text/plain": [
       "dict_items([('name', 'Gudo Van Russom'), ('age', 67), ('salary', 1233123.12), ('children', ['mary', 'John']), ('parents', ('Sam Russom', 'Michel Russom')), (1, [12, 3, 12]), (-1213.213, {33}), (('Dr', 'Mr'), 'titles'), (None, 'This is None'), ((12, 23), 'something')])"
      ]
     },
     "execution_count": 21,
     "metadata": {},
     "output_type": "execute_result"
    }
   ],
   "source": [
    "person_details.items()"
   ]
  },
  {
   "cell_type": "code",
   "execution_count": 22,
   "metadata": {},
   "outputs": [
    {
     "name": "stdout",
     "output_type": "stream",
     "text": [
      "\n",
      " Iterating over the dictionary \n",
      "name\n",
      "age\n",
      "salary\n",
      "children\n",
      "parents\n",
      "1\n",
      "-1213.213\n",
      "('Dr', 'Mr')\n",
      "None\n",
      "(12, 23)\n"
     ]
    }
   ],
   "source": [
    "print(\"\\n Iterating over the dictionary \")\n",
    "for each in person_details:\n",
    "    print(each)"
   ]
  },
  {
   "cell_type": "code",
   "execution_count": 23,
   "metadata": {},
   "outputs": [
    {
     "name": "stdout",
     "output_type": "stream",
     "text": [
      "\n",
      " person_details.keys()\n",
      "name\n",
      "age\n",
      "salary\n",
      "children\n",
      "parents\n",
      "1\n",
      "-1213.213\n",
      "('Dr', 'Mr')\n",
      "None\n",
      "(12, 23)\n"
     ]
    }
   ],
   "source": [
    "# NOTE: By default, when iterating over dict, it will give dict keys only\n",
    "print(\"\\n person_details.keys()\")\n",
    "for each in person_details.keys():\n",
    "    print(each)"
   ]
  },
  {
   "cell_type": "code",
   "execution_count": 24,
   "metadata": {},
   "outputs": [
    {
     "name": "stdout",
     "output_type": "stream",
     "text": [
      "\n",
      " person_details.values()\n",
      "Gudo Van Russom\n",
      "67\n",
      "1233123.12\n",
      "['mary', 'John']\n",
      "('Sam Russom', 'Michel Russom')\n",
      "[12, 3, 12]\n",
      "{33}\n",
      "titles\n",
      "This is None\n",
      "something\n"
     ]
    }
   ],
   "source": [
    "print(\"\\n person_details.values()\")\n",
    "for each in person_details.values():\n",
    "    print(each)"
   ]
  },
  {
   "cell_type": "code",
   "execution_count": 25,
   "metadata": {},
   "outputs": [
    {
     "name": "stdout",
     "output_type": "stream",
     "text": [
      "\n",
      " person_details.items()\n",
      "('name', 'Gudo Van Russom')\n",
      "('age', 67)\n",
      "('salary', 1233123.12)\n",
      "('children', ['mary', 'John'])\n",
      "('parents', ('Sam Russom', 'Michel Russom'))\n",
      "(1, [12, 3, 12])\n",
      "(-1213.213, {33})\n",
      "(('Dr', 'Mr'), 'titles')\n",
      "(None, 'This is None')\n",
      "((12, 23), 'something')\n"
     ]
    }
   ],
   "source": [
    "print(\"\\n person_details.items()\")\n",
    "for each in person_details.items():\n",
    "    print(each)  # each - is a tuple object\n"
   ]
  },
  {
   "cell_type": "code",
   "execution_count": 26,
   "metadata": {},
   "outputs": [
    {
     "name": "stdout",
     "output_type": "stream",
     "text": [
      "\n",
      " person_details.items()\n",
      "name\tGudo Van Russom\n",
      "age\t67\n",
      "salary\t1233123.12\n",
      "children\t['mary', 'John']\n",
      "parents\t('Sam Russom', 'Michel Russom')\n",
      "1\t[12, 3, 12]\n",
      "-1213.213\t{33}\n",
      "('Dr', 'Mr')\ttitles\n",
      "None\tThis is None\n",
      "(12, 23)\tsomething\n"
     ]
    }
   ],
   "source": [
    "print(\"\\n person_details.items()\")\n",
    "for each_key, each_value in person_details.items():\n",
    "    print(f\"{each_key}\\t{each_value}\")"
   ]
  },
  {
   "cell_type": "markdown",
   "metadata": {},
   "source": [
    "### Dictionary operations"
   ]
  },
  {
   "cell_type": "code",
   "execution_count": 27,
   "metadata": {},
   "outputs": [
    {
     "name": "stdout",
     "output_type": "stream",
     "text": [
      "Employee Name  : Saurav Ganguly\n",
      "Employee Status: retired\n"
     ]
    }
   ],
   "source": [
    "employee = {\n",
    "    \"name\": \"Saurav Ganguly\",\n",
    "    \"status\": \"retired\",\n",
    "    \"salary\": 12_222_213,\n",
    "    \"strike_rate\": 85 / 100,\n",
    "}\n",
    "\n",
    "# Indexing in Dictionaries\n",
    "print(\"Employee Name  :\", employee[\"name\"])\n",
    "print(\"Employee Status:\", employee[\"status\"])"
   ]
  },
  {
   "cell_type": "code",
   "execution_count": 28,
   "metadata": {},
   "outputs": [
    {
     "name": "stdout",
     "output_type": "stream",
     "text": [
      "No such key :'no_of_centuries'\n"
     ]
    }
   ],
   "source": [
    "try:\n",
    "    employee[\"no_of_centuries\"]\n",
    "except KeyError as ex:\n",
    "    print(f\"No such key :{str(ex)}\")"
   ]
  },
  {
   "cell_type": "code",
   "execution_count": 29,
   "metadata": {},
   "outputs": [
    {
     "name": "stdout",
     "output_type": "stream",
     "text": [
      "Before change: id(employee) = 125614464545088\n",
      "Employee Status: rejoined\n",
      "After change : id(employee) = 125614464545088\n"
     ]
    }
   ],
   "source": [
    "# Dictionaries are mutable\n",
    "print(f\"Before change: {id(employee) = }\")\n",
    "\n",
    "# Updating value for existing key\n",
    "employee[\"status\"] = \"rejoined\"\n",
    "print(\"Employee Status:\", employee[\"status\"])\n",
    "\n",
    "\n",
    "print(f\"After change : {id(employee) = }\")"
   ]
  },
  {
   "cell_type": "code",
   "execution_count": 30,
   "metadata": {},
   "outputs": [
    {
     "name": "stdout",
     "output_type": "stream",
     "text": [
      "{'name': 'Saurav Ganguly', 'status': 'rejoined', 'salary': 12222213, 'strike_rate': 0.85, 'no_of_centuries': 345}\n",
      "{'name': 'Saurav Ganguly',\n",
      " 'no_of_centuries': 345,\n",
      " 'salary': 12222213,\n",
      " 'status': 'rejoined',\n",
      " 'strike_rate': 0.85}\n"
     ]
    }
   ],
   "source": [
    "# To add a new key\n",
    "employee[\"no_of_centuries\"] = 345\n",
    "\n",
    "print(employee)\n",
    "pprint(employee)"
   ]
  },
  {
   "cell_type": "code",
   "execution_count": 31,
   "metadata": {},
   "outputs": [],
   "source": [
    "# Difference ways of indexing\n",
    "# Question: dict['key'] vs dict.get() vs dict.setdefault\n"
   ]
  },
  {
   "cell_type": "code",
   "execution_count": 32,
   "metadata": {},
   "outputs": [
    {
     "name": "stdout",
     "output_type": "stream",
     "text": [
      "employee['strike_rate'] =0.85\n",
      "No such key :'no_of_catches'\n"
     ]
    }
   ],
   "source": [
    "print(f\"{employee['strike_rate'] =}\")\n",
    "\n",
    "try:\n",
    "    print(f\"{employee['no_of_catches'] =}\")\n",
    "except KeyError as ex:\n",
    "    print(f\"No such key :{str(ex)}\")\n"
   ]
  },
  {
   "cell_type": "code",
   "execution_count": 34,
   "metadata": {},
   "outputs": [
    {
     "name": "stdout",
     "output_type": "stream",
     "text": [
      "employee.get('strike_rate')                    =0.85\n",
      "employee.get('no_of_catches')                  =None\n"
     ]
    }
   ],
   "source": [
    "print(f\"{employee.get('strike_rate')                    =}\")\n",
    "print(f\"{employee.get('no_of_catches')                  =}\")\n",
    "# NOTE: dict.get() - returns None if key is not present"
   ]
  },
  {
   "cell_type": "code",
   "execution_count": 35,
   "metadata": {},
   "outputs": [
    {
     "name": "stdout",
     "output_type": "stream",
     "text": [
      "employee.get('no_of_catches', None)            =None\n",
      "employee.get('no_of_catches', 'No such key')   ='No such key'\n",
      "employee.get('no_of_catches', 234)             =234\n"
     ]
    }
   ],
   "source": [
    "print(f\"{employee.get('no_of_catches', None)            =}\")\n",
    "print(f\"{employee.get('no_of_catches', 'No such key')   =}\")\n",
    "print(f\"{employee.get('no_of_catches', 234)             =}\")"
   ]
  },
  {
   "cell_type": "code",
   "execution_count": 36,
   "metadata": {},
   "outputs": [
    {
     "data": {
      "text/plain": [
       "{'name': 'Saurav Ganguly',\n",
       " 'status': 'rejoined',\n",
       " 'salary': 12222213,\n",
       " 'strike_rate': 0.85,\n",
       " 'no_of_centuries': 345}"
      ]
     },
     "execution_count": 36,
     "metadata": {},
     "output_type": "execute_result"
    }
   ],
   "source": [
    "employee"
   ]
  },
  {
   "cell_type": "code",
   "execution_count": 37,
   "metadata": {},
   "outputs": [
    {
     "data": {
      "text/plain": [
       "0.85"
      ]
     },
     "execution_count": 37,
     "metadata": {},
     "output_type": "execute_result"
    }
   ],
   "source": [
    "employee.setdefault('strike_rate')"
   ]
  },
  {
   "cell_type": "code",
   "execution_count": 38,
   "metadata": {},
   "outputs": [
    {
     "name": "stdout",
     "output_type": "stream",
     "text": [
      "employee.setdefault('no_of_catches')      =None\n"
     ]
    }
   ],
   "source": [
    "print(f\"{employee.setdefault('no_of_catches')      =}\")  # default is None"
   ]
  },
  {
   "cell_type": "code",
   "execution_count": 39,
   "metadata": {},
   "outputs": [
    {
     "data": {
      "text/plain": [
       "{'name': 'Saurav Ganguly',\n",
       " 'status': 'rejoined',\n",
       " 'salary': 12222213,\n",
       " 'strike_rate': 0.85,\n",
       " 'no_of_centuries': 345,\n",
       " 'no_of_catches': None}"
      ]
     },
     "execution_count": 39,
     "metadata": {},
     "output_type": "execute_result"
    }
   ],
   "source": [
    "employee"
   ]
  },
  {
   "cell_type": "code",
   "execution_count": 41,
   "metadata": {},
   "outputs": [
    {
     "name": "stdout",
     "output_type": "stream",
     "text": [
      "None\n"
     ]
    }
   ],
   "source": [
    "print(employee.setdefault('no_of_catches', 234))\n",
    "# As this key is present now, default values is not taken\n"
   ]
  },
  {
   "cell_type": "code",
   "execution_count": 42,
   "metadata": {},
   "outputs": [
    {
     "name": "stdout",
     "output_type": "stream",
     "text": [
      "employee.setdefault('ODI_matches_played', 155) =155\n"
     ]
    },
    {
     "data": {
      "text/plain": [
       "{'name': 'Saurav Ganguly',\n",
       " 'status': 'rejoined',\n",
       " 'salary': 12222213,\n",
       " 'strike_rate': 0.85,\n",
       " 'no_of_centuries': 345,\n",
       " 'no_of_catches': None,\n",
       " 'ODI_matches_played': 155}"
      ]
     },
     "execution_count": 42,
     "metadata": {},
     "output_type": "execute_result"
    }
   ],
   "source": [
    "print(f\"{employee.setdefault('ODI_matches_played', 155) =}\")\n",
    "employee"
   ]
  },
  {
   "cell_type": "code",
   "execution_count": 43,
   "metadata": {},
   "outputs": [
    {
     "name": "stdout",
     "output_type": "stream",
     "text": [
      "'no_of_catches' in employee            =True\n",
      "employee.__contains__('no_of_catches')   =True\n",
      "'no_of_wickets' in employee            =False\n",
      "employee.__contains__('no_of_wickets') =False\n",
      "no_of_catches: None\n"
     ]
    }
   ],
   "source": [
    "#  in - operator - membership check    - time complexity O(1)\n",
    "print(f\"{'no_of_catches' in employee            =}\")\n",
    "print(f\"{employee.__contains__('no_of_catches')   =}\")\n",
    "\n",
    "print(f\"{'no_of_wickets' in employee            =}\")\n",
    "print(f\"{employee.__contains__('no_of_wickets') =}\")\n",
    "\n",
    "if \"no_of_catches\" in employee:\n",
    "    print(\"no_of_catches:\", employee[\"no_of_catches\"])\n",
    "else:\n",
    "    print(\"No such key\")"
   ]
  },
  {
   "cell_type": "code",
   "execution_count": 44,
   "metadata": {},
   "outputs": [
    {
     "data": {
      "text/plain": [
       "{}"
      ]
     },
     "execution_count": 44,
     "metadata": {},
     "output_type": "execute_result"
    }
   ],
   "source": [
    "language = dict()\n",
    "language"
   ]
  },
  {
   "cell_type": "code",
   "execution_count": 45,
   "metadata": {},
   "outputs": [
    {
     "name": "stdout",
     "output_type": "stream",
     "text": [
      "{'name': 'Python', 'creator': 'Gudo Van Russum'}\n"
     ]
    }
   ],
   "source": [
    "# add new keys\n",
    "language[\"name\"] = \"Python\"\n",
    "language[\"creator\"] = \"Gudo Van Russum\"\n",
    "\n",
    "pp(language)"
   ]
  },
  {
   "cell_type": "code",
   "execution_count": 46,
   "metadata": {},
   "outputs": [
    {
     "name": "stdout",
     "output_type": "stream",
     "text": [
      "{'name': 'Python', 'creator': 'Gudo Van Russum', 'latest_version': '2.7.16'}\n"
     ]
    }
   ],
   "source": [
    "# add single key value pair\n",
    "language[\"latest_version\"] = \"2.7.16\"\n",
    "pp(language)"
   ]
  },
  {
   "cell_type": "code",
   "execution_count": 47,
   "metadata": {},
   "outputs": [
    {
     "name": "stdout",
     "output_type": "stream",
     "text": [
      "{'name': 'Python',\n",
      " 'maintainer': 'Almighty',\n",
      " 'latest_version': '3.8.5',\n",
      " 'dev_version': '3.9'}\n"
     ]
    }
   ],
   "source": [
    "# Add more key-value pair in bulk\n",
    "python_dict = {\n",
    "    \"name\": \"Python\",\n",
    "    \"maintainer\": \"Almighty\",\n",
    "    \"latest_version\": \"3.8.5\",\n",
    "    \"dev_version\": \"3.9\",\n",
    "}\n",
    "pp(python_dict)"
   ]
  },
  {
   "cell_type": "code",
   "execution_count": 48,
   "metadata": {},
   "outputs": [
    {
     "ename": "TypeError",
     "evalue": "unsupported operand type(s) for +: 'dict' and 'dict'",
     "output_type": "error",
     "traceback": [
      "\u001b[0;31m---------------------------------------------------------------------------\u001b[0m",
      "\u001b[0;31mTypeError\u001b[0m                                 Traceback (most recent call last)",
      "Cell \u001b[0;32mIn[48], line 2\u001b[0m\n\u001b[1;32m      1\u001b[0m \u001b[38;5;66;03m# Dictionary concatenation\u001b[39;00m\n\u001b[0;32m----> 2\u001b[0m \u001b[43mlanguage\u001b[49m\u001b[43m \u001b[49m\u001b[38;5;241;43m+\u001b[39;49m\u001b[43m \u001b[49m\u001b[43mpython_dict\u001b[49m\n",
      "\u001b[0;31mTypeError\u001b[0m: unsupported operand type(s) for +: 'dict' and 'dict'"
     ]
    }
   ],
   "source": [
    "# Dictionary concatenation\n",
    "language + python_dict"
   ]
  },
  {
   "cell_type": "code",
   "execution_count": 49,
   "metadata": {},
   "outputs": [
    {
     "ename": "TypeError",
     "evalue": "unsupported operand type(s) for -: 'dict' and 'dict'",
     "output_type": "error",
     "traceback": [
      "\u001b[0;31m---------------------------------------------------------------------------\u001b[0m",
      "\u001b[0;31mTypeError\u001b[0m                                 Traceback (most recent call last)",
      "Cell \u001b[0;32mIn[49], line 1\u001b[0m\n\u001b[0;32m----> 1\u001b[0m \u001b[43mlanguage\u001b[49m\u001b[43m \u001b[49m\u001b[38;5;241;43m-\u001b[39;49m\u001b[43m \u001b[49m\u001b[43mpython_dict\u001b[49m\n",
      "\u001b[0;31mTypeError\u001b[0m: unsupported operand type(s) for -: 'dict' and 'dict'"
     ]
    }
   ],
   "source": [
    "language - python_dict"
   ]
  },
  {
   "cell_type": "code",
   "execution_count": 51,
   "metadata": {},
   "outputs": [
    {
     "name": "stdout",
     "output_type": "stream",
     "text": [
      "language    ={'name': 'Python', 'creator': 'Gudo Van Russum', 'latest_version': '2.7.16'}\n",
      "python_dict ={'name': 'Python', 'maintainer': 'Almighty', 'latest_version': '3.8.5', 'dev_version': '3.9'}\n"
     ]
    }
   ],
   "source": [
    "print(f'{language    =}')\n",
    "print(f'{python_dict =}')"
   ]
  },
  {
   "cell_type": "code",
   "execution_count": 52,
   "metadata": {},
   "outputs": [
    {
     "name": "stdout",
     "output_type": "stream",
     "text": [
      "\n",
      " After update\n"
     ]
    }
   ],
   "source": [
    "language.update(python_dict)"
   ]
  },
  {
   "cell_type": "code",
   "execution_count": 53,
   "metadata": {},
   "outputs": [
    {
     "name": "stdout",
     "output_type": "stream",
     "text": [
      "language    ={'name': 'Python', 'creator': 'Gudo Van Russum', 'latest_version': '3.8.5', 'maintainer': 'Almighty', 'dev_version': '3.9'}\n",
      "python_dict ={'name': 'Python', 'maintainer': 'Almighty', 'latest_version': '3.8.5', 'dev_version': '3.9'}\n"
     ]
    }
   ],
   "source": [
    "print(f'{language    =}')\n",
    "print(f'{python_dict =}')"
   ]
  },
  {
   "cell_type": "code",
   "execution_count": 54,
   "metadata": {},
   "outputs": [
    {
     "name": "stdout",
     "output_type": "stream",
     "text": [
      "{'name': 'Python',\n",
      " 'maintainer': 'Almighty',\n",
      " 'latest_version': '3.8.5',\n",
      " 'dev_version': '3.9.0rc'}\n"
     ]
    }
   ],
   "source": [
    "python_dict.update({\"dev_version\": \"3.9.0rc\"})\n",
    "pp(python_dict)"
   ]
  },
  {
   "cell_type": "code",
   "execution_count": 55,
   "metadata": {},
   "outputs": [],
   "source": [
    "# For deleting key-value pairs\n",
    "\n",
    "# print(f\"{python_dict.pop() =}\")\n",
    "# TypeError: pop expected at least 1 argument, got 0\n"
   ]
  },
  {
   "cell_type": "code",
   "execution_count": 56,
   "metadata": {},
   "outputs": [
    {
     "name": "stdout",
     "output_type": "stream",
     "text": [
      "python_dict.pop('maintainer') ='Almighty'\n",
      "{'name': 'Python', 'latest_version': '3.8.5', 'dev_version': '3.9.0rc'}\n"
     ]
    }
   ],
   "source": [
    "print(f\"{python_dict.pop('maintainer') =}\")\n",
    "print(python_dict)"
   ]
  },
  {
   "cell_type": "code",
   "execution_count": 57,
   "metadata": {},
   "outputs": [
    {
     "name": "stdout",
     "output_type": "stream",
     "text": [
      "no such key 'maintainer'\n"
     ]
    }
   ],
   "source": [
    "try:\n",
    "    print(f\"{python_dict.pop('maintainer') =}\")\n",
    "except KeyError as ex:\n",
    "    print(\"no such key\", ex)"
   ]
  },
  {
   "cell_type": "code",
   "execution_count": 58,
   "metadata": {},
   "outputs": [
    {
     "name": "stdout",
     "output_type": "stream",
     "text": [
      "python_dict.pop('maintainer', None) =None\n",
      "python_dict.pop('maintainer', 'no such key') ='no such key'\n"
     ]
    }
   ],
   "source": [
    "print(f\"{python_dict.pop('maintainer', None) =}\")\n",
    "print(f\"{python_dict.pop('maintainer', 'no such key') =}\")"
   ]
  },
  {
   "cell_type": "code",
   "execution_count": 59,
   "metadata": {},
   "outputs": [
    {
     "name": "stdout",
     "output_type": "stream",
     "text": [
      "{'name': 'Python', 'latest_version': '3.8.5', 'dev_version': '3.9.0rc'}\n"
     ]
    }
   ],
   "source": [
    "print(python_dict)\n"
   ]
  },
  {
   "cell_type": "code",
   "execution_count": 60,
   "metadata": {},
   "outputs": [
    {
     "name": "stdout",
     "output_type": "stream",
     "text": [
      "python_dict.popitem() =('dev_version', '3.9.0rc')\n",
      "python_dict.popitem() =('latest_version', '3.8.5')\n",
      "{'name': 'Python'}\n"
     ]
    }
   ],
   "source": [
    "# last key-value pair will be deleted\n",
    "print(f\"{python_dict.popitem() =}\")\n",
    "print(f\"{python_dict.popitem() =}\")\n",
    "print(python_dict)"
   ]
  },
  {
   "cell_type": "code",
   "execution_count": 61,
   "metadata": {},
   "outputs": [
    {
     "name": "stdout",
     "output_type": "stream",
     "text": [
      "{}\n"
     ]
    }
   ],
   "source": [
    "del python_dict[\"name\"]\n",
    "print(python_dict)"
   ]
  },
  {
   "cell_type": "code",
   "execution_count": 62,
   "metadata": {},
   "outputs": [],
   "source": [
    "del python_dict"
   ]
  },
  {
   "cell_type": "code",
   "execution_count": 63,
   "metadata": {},
   "outputs": [
    {
     "ename": "NameError",
     "evalue": "name 'python_dict' is not defined",
     "output_type": "error",
     "traceback": [
      "\u001b[0;31m---------------------------------------------------------------------------\u001b[0m",
      "\u001b[0;31mNameError\u001b[0m                                 Traceback (most recent call last)",
      "Cell \u001b[0;32mIn[63], line 1\u001b[0m\n\u001b[0;32m----> 1\u001b[0m \u001b[43mpython_dict\u001b[49m\n",
      "\u001b[0;31mNameError\u001b[0m: name 'python_dict' is not defined"
     ]
    }
   ],
   "source": [
    "python_dict"
   ]
  },
  {
   "cell_type": "code",
   "execution_count": 65,
   "metadata": {},
   "outputs": [],
   "source": [
    "# Assignment: del dict['key'] vs dict.pop('key')"
   ]
  },
  {
   "cell_type": "markdown",
   "metadata": {},
   "source": [
    "#### Merging two dicts\n"
   ]
  },
  {
   "cell_type": "code",
   "execution_count": 66,
   "metadata": {},
   "outputs": [],
   "source": [
    "a = {\"one\": 1}\n",
    "b = {\"one\": 2, \"two\": 2}\n"
   ]
  },
  {
   "cell_type": "code",
   "execution_count": 68,
   "metadata": {},
   "outputs": [
    {
     "data": {
      "text/plain": [
       "{'one': 1}"
      ]
     },
     "execution_count": 68,
     "metadata": {},
     "output_type": "execute_result"
    }
   ],
   "source": [
    "# Dict unpacking\n",
    "c = {**a}\n",
    "\n",
    "c"
   ]
  },
  {
   "cell_type": "code",
   "execution_count": 69,
   "metadata": {},
   "outputs": [
    {
     "data": {
      "text/plain": [
       "{'one': 2, 'two': 2}"
      ]
     },
     "execution_count": 69,
     "metadata": {},
     "output_type": "execute_result"
    }
   ],
   "source": [
    "c = {**a, **b}\n",
    "\n",
    "c"
   ]
  },
  {
   "cell_type": "code",
   "execution_count": 70,
   "metadata": {},
   "outputs": [
    {
     "data": {
      "text/plain": [
       "{'one': 1, 'two': 2}"
      ]
     },
     "execution_count": 70,
     "metadata": {},
     "output_type": "execute_result"
    }
   ],
   "source": [
    "c = { **b, **a}\n",
    "\n",
    "c"
   ]
  },
  {
   "cell_type": "code",
   "execution_count": 73,
   "metadata": {},
   "outputs": [
    {
     "name": "stdout",
     "output_type": "stream",
     "text": [
      "a = {'one': 1}\n",
      "b = {'one': 2, 'two': 2}\n",
      "\n",
      "a = {'one': 2, 'two': 2}\n",
      "b = {'one': 2, 'two': 2}\n"
     ]
    }
   ],
   "source": [
    "a = {\"one\": 1}\n",
    "b = {\"one\": 2, \"two\": 2}\n",
    "\n",
    "print(f\"{a = }\")\n",
    "print(f\"{b = }\")\n",
    "print()\n",
    "\n",
    "a |= b\n",
    "print(f\"{a = }\")\n",
    "print(f\"{b = }\")"
   ]
  },
  {
   "cell_type": "code",
   "execution_count": 74,
   "metadata": {},
   "outputs": [
    {
     "name": "stdout",
     "output_type": "stream",
     "text": [
      "{0}\n",
      "{False}\n"
     ]
    }
   ],
   "source": [
    "# set Union Is Not Commutative\n",
    "print({0} | {False})  # {0}\n",
    "print({False} | {0})  # {False}"
   ]
  },
  {
   "cell_type": "code",
   "execution_count": 75,
   "metadata": {},
   "outputs": [
    {
     "name": "stdout",
     "output_type": "stream",
     "text": [
      "{0: 'False'}\n",
      "{False: '0'}\n"
     ]
    }
   ],
   "source": [
    "print({0: \"0\"} | {False: \"False\"})  # {0: 'False'}\n",
    "print({False: \"False\"} | {0: \"0\"})  # {False: '0'}"
   ]
  },
  {
   "cell_type": "code",
   "execution_count": 76,
   "metadata": {},
   "outputs": [
    {
     "name": "stdout",
     "output_type": "stream",
     "text": [
      "{0: 'False', 1: 'True'}\n",
      "{False: 'zero', True: 'one'}\n"
     ]
    }
   ],
   "source": [
    "mydict = {0: \"zero\", False: \"False\", 1: \"one\", True: \"True\"}\n",
    "print(mydict)\n",
    "\n",
    "mydict = {False: \"False\", 0: \"zero\", True: \"True\", 1: \"one\"}\n",
    "print(mydict)"
   ]
  },
  {
   "cell_type": "markdown",
   "metadata": {},
   "source": [
    "###  dict replicas"
   ]
  },
  {
   "cell_type": "code",
   "execution_count": 77,
   "metadata": {},
   "outputs": [
    {
     "name": "stdout",
     "output_type": "stream",
     "text": [
      "{'name': 'zebra', 'continent': ('Africa', 'Asia')}\n"
     ]
    }
   ],
   "source": [
    "animal = {\"name\": \"zebra\", \"continent\": (\"Africa\", \"Asia\")}\n",
    "print(animal)"
   ]
  },
  {
   "cell_type": "code",
   "execution_count": 78,
   "metadata": {},
   "outputs": [
    {
     "name": "stdout",
     "output_type": "stream",
     "text": [
      "{'name': None, 'continent': None}\n"
     ]
    }
   ],
   "source": [
    "# replicas - To get the keys of existing dictionary to new dict\n",
    "animal_schema = {}\n",
    "animal_schema = animal_schema.fromkeys(animal)\n",
    "print(animal_schema)\n",
    "# NOTE: Default value is None"
   ]
  },
  {
   "cell_type": "code",
   "execution_count": 79,
   "metadata": {},
   "outputs": [
    {
     "name": "stdout",
     "output_type": "stream",
     "text": [
      "{'name': None, 'continent': None}\n",
      "{'name': 'None', 'continent': 'None'}\n",
      "{'name': '', 'continent': ''}\n"
     ]
    }
   ],
   "source": [
    "animal_schema = animal_schema.fromkeys(animal, None)\n",
    "print(animal_schema)\n",
    "\n",
    "animal_schema = animal_schema.fromkeys(animal, \"None\")\n",
    "print(animal_schema)\n",
    "\n",
    "animal_schema = animal_schema.fromkeys(animal, \"\")\n",
    "print(animal_schema)"
   ]
  },
  {
   "cell_type": "code",
   "execution_count": 80,
   "metadata": {},
   "outputs": [
    {
     "name": "stdout",
     "output_type": "stream",
     "text": [
      "\n",
      "id(animal) = 125614475246656\n",
      "After dict.clear(), animal ={}\n",
      "id(animal) = 125614475246656\n"
     ]
    }
   ],
   "source": [
    "# To flush the content in the dictionary\n",
    "print()\n",
    "print(f\"{id(animal) = }\")\n",
    "animal.clear()  # will flush the key-value pairs in dict\n",
    "print(f\"After dict.clear(), {animal =}\")\n",
    "print(f\"{id(animal) = }\")"
   ]
  },
  {
   "cell_type": "markdown",
   "metadata": {},
   "source": [
    "### Zip() function"
   ]
  },
  {
   "cell_type": "code",
   "execution_count": 81,
   "metadata": {},
   "outputs": [],
   "source": [
    "# ways of creating dictionary\n",
    "a = {\"one\": 1, \"two\": 2, \"three\": 3}\n",
    "b = dict(one=1, two=2, three=3)\n",
    "\n",
    "c = dict([(\"two\", 2), (\"one\", 1), (\"three\", 3)])\n",
    "d = dict(zip([\"one\", \"two\", \"three\"], [1, 2, 3]))\n",
    "\n",
    "e = dict({\"three\": 3, \"one\": 1, \"two\": 2})\n",
    "\n",
    "assert a == b == c == d == e"
   ]
  },
  {
   "cell_type": "code",
   "execution_count": 82,
   "metadata": {},
   "outputs": [
    {
     "data": {
      "text/plain": [
       "['p', 'y', 't', 'h', 'o', 'n']"
      ]
     },
     "execution_count": 82,
     "metadata": {},
     "output_type": "execute_result"
    }
   ],
   "source": [
    "list('python')"
   ]
  },
  {
   "cell_type": "code",
   "execution_count": 83,
   "metadata": {},
   "outputs": [
    {
     "data": {
      "text/plain": [
       "('p', 'y', 't', 'h', 'o', 'n')"
      ]
     },
     "execution_count": 83,
     "metadata": {},
     "output_type": "execute_result"
    }
   ],
   "source": [
    "tuple('python')"
   ]
  },
  {
   "cell_type": "code",
   "execution_count": 84,
   "metadata": {},
   "outputs": [
    {
     "data": {
      "text/plain": [
       "{'h', 'n', 'o', 'p', 't', 'y'}"
      ]
     },
     "execution_count": 84,
     "metadata": {},
     "output_type": "execute_result"
    }
   ],
   "source": [
    "set('python')"
   ]
  },
  {
   "cell_type": "code",
   "execution_count": 85,
   "metadata": {},
   "outputs": [
    {
     "ename": "ValueError",
     "evalue": "dictionary update sequence element #0 has length 1; 2 is required",
     "output_type": "error",
     "traceback": [
      "\u001b[0;31m---------------------------------------------------------------------------\u001b[0m",
      "\u001b[0;31mValueError\u001b[0m                                Traceback (most recent call last)",
      "Cell \u001b[0;32mIn[85], line 1\u001b[0m\n\u001b[0;32m----> 1\u001b[0m \u001b[38;5;28;43mdict\u001b[39;49m\u001b[43m(\u001b[49m\u001b[38;5;124;43m'\u001b[39;49m\u001b[38;5;124;43mpython\u001b[39;49m\u001b[38;5;124;43m'\u001b[39;49m\u001b[43m)\u001b[49m\n",
      "\u001b[0;31mValueError\u001b[0m: dictionary update sequence element #0 has length 1; 2 is required"
     ]
    }
   ],
   "source": [
    "dict('python')"
   ]
  },
  {
   "cell_type": "code",
   "execution_count": 86,
   "metadata": {},
   "outputs": [
    {
     "ename": "TypeError",
     "evalue": "dict expected at most 1 argument, got 2",
     "output_type": "error",
     "traceback": [
      "\u001b[0;31m---------------------------------------------------------------------------\u001b[0m",
      "\u001b[0;31mTypeError\u001b[0m                                 Traceback (most recent call last)",
      "Cell \u001b[0;32mIn[86], line 1\u001b[0m\n\u001b[0;32m----> 1\u001b[0m \u001b[38;5;28;43mdict\u001b[39;49m\u001b[43m(\u001b[49m\u001b[38;5;124;43m'\u001b[39;49m\u001b[38;5;124;43mpython\u001b[39;49m\u001b[38;5;124;43m'\u001b[39;49m\u001b[43m,\u001b[49m\u001b[43m \u001b[49m\u001b[38;5;124;43m'\u001b[39;49m\u001b[38;5;124;43m2123\u001b[39;49m\u001b[38;5;124;43m'\u001b[39;49m\u001b[43m)\u001b[49m\n",
      "\u001b[0;31mTypeError\u001b[0m: dict expected at most 1 argument, got 2"
     ]
    }
   ],
   "source": [
    "dict('python', '2123')"
   ]
  },
  {
   "cell_type": "code",
   "execution_count": 87,
   "metadata": {},
   "outputs": [
    {
     "name": "stdout",
     "output_type": "stream",
     "text": [
      "{1: 'red', 2: 'blue', 3: 'yellow'}\n",
      "{'red': 1, 'blue': 2, 'yellow': 3}\n",
      "{'red': 1, 'blue': 2, 'yellow': 3}\n"
     ]
    }
   ],
   "source": [
    "# creating dict from pairs\n",
    "data = [(1, \"red\"), (2, \"blue\"), (3, \"yellow\")]\n",
    "print(dict(data))\n",
    "\n",
    "data = [(\"red\", 1), (\"blue\", 2), (\"yellow\", 3)]\n",
    "print(dict(data))\n",
    "\n",
    "data = ((\"red\", 1), (\"blue\", 2), (\"yellow\", 3))\n",
    "print(dict(data))"
   ]
  },
  {
   "cell_type": "code",
   "execution_count": 88,
   "metadata": {},
   "outputs": [
    {
     "name": "stdout",
     "output_type": "stream",
     "text": [
      "{'red': 1, 'blue': 2, 'yellow': 3}\n"
     ]
    }
   ],
   "source": [
    "data = ([\"red\", 1], [\"blue\", 2], (\"yellow\", 3))\n",
    "print(dict(data))"
   ]
  },
  {
   "cell_type": "code",
   "execution_count": 89,
   "metadata": {},
   "outputs": [
    {
     "ename": "ValueError",
     "evalue": "dictionary update sequence element #0 has length 3; 2 is required",
     "output_type": "error",
     "traceback": [
      "\u001b[0;31m---------------------------------------------------------------------------\u001b[0m",
      "\u001b[0;31mValueError\u001b[0m                                Traceback (most recent call last)",
      "Cell \u001b[0;32mIn[89], line 2\u001b[0m\n\u001b[1;32m      1\u001b[0m data \u001b[38;5;241m=\u001b[39m ([\u001b[38;5;124m'\u001b[39m\u001b[38;5;124mred\u001b[39m\u001b[38;5;124m'\u001b[39m, \u001b[38;5;241m1\u001b[39m, \u001b[38;5;124m'\u001b[39m\u001b[38;5;124mA\u001b[39m\u001b[38;5;124m'\u001b[39m], [\u001b[38;5;124m'\u001b[39m\u001b[38;5;124mblue\u001b[39m\u001b[38;5;124m'\u001b[39m, \u001b[38;5;241m2\u001b[39m, \u001b[38;5;124m'\u001b[39m\u001b[38;5;124mB\u001b[39m\u001b[38;5;124m'\u001b[39m], (\u001b[38;5;124m'\u001b[39m\u001b[38;5;124myellow\u001b[39m\u001b[38;5;124m'\u001b[39m, \u001b[38;5;241m3\u001b[39m, \u001b[38;5;124m\"\u001b[39m\u001b[38;5;124mC\u001b[39m\u001b[38;5;124m\"\u001b[39m))\n\u001b[0;32m----> 2\u001b[0m \u001b[38;5;28mprint\u001b[39m(\u001b[38;5;28;43mdict\u001b[39;49m\u001b[43m(\u001b[49m\u001b[43mdata\u001b[49m\u001b[43m)\u001b[49m)\n",
      "\u001b[0;31mValueError\u001b[0m: dictionary update sequence element #0 has length 3; 2 is required"
     ]
    }
   ],
   "source": [
    "data = (['red', 1, 'A'], ['blue', 2, 'B'], ('yellow', 3, \"C\"))\n",
    "print(dict(data))"
   ]
  },
  {
   "cell_type": "code",
   "execution_count": 90,
   "metadata": {},
   "outputs": [
    {
     "name": "stdout",
     "output_type": "stream",
     "text": [
      "{'red': (1, 'A'), 'blue': (2, 'B'), 'yellow': (3, 'C')}\n",
      "{('red', 1): 'A', ('blue', 2): 'B', 'yellow': (3, 'C')}\n"
     ]
    }
   ],
   "source": [
    "data = ([\"red\", (1, \"A\")], [\"blue\", (2, \"B\")], (\"yellow\", (3, \"C\")))\n",
    "print(dict(data))\n",
    "\n",
    "data = ([(\"red\", 1), \"A\"], [(\"blue\", 2), \"B\"], (\"yellow\", (3, \"C\")))\n",
    "print(dict(data))"
   ]
  },
  {
   "cell_type": "markdown",
   "metadata": {},
   "source": [
    "#### creating a dict from two iterables\n"
   ]
  },
  {
   "cell_type": "code",
   "execution_count": 91,
   "metadata": {},
   "outputs": [
    {
     "data": {
      "text/plain": [
       "<zip at 0x723ee576f5c0>"
      ]
     },
     "execution_count": 91,
     "metadata": {},
     "output_type": "execute_result"
    }
   ],
   "source": [
    "cities = (\"New Delhi\", \"New York\", \"Shangai\", \"Berlin\")\n",
    "countries = [\"India\", \"USA\", \"China\", \"Germany\"]\n",
    "\n",
    "\n",
    "zip(cities, countries)"
   ]
  },
  {
   "cell_type": "code",
   "execution_count": 92,
   "metadata": {},
   "outputs": [
    {
     "data": {
      "text/plain": [
       "[('New Delhi', 'India'),\n",
       " ('New York', 'USA'),\n",
       " ('Shangai', 'China'),\n",
       " ('Berlin', 'Germany')]"
      ]
     },
     "execution_count": 92,
     "metadata": {},
     "output_type": "execute_result"
    }
   ],
   "source": [
    "list(zip(cities, countries))"
   ]
  },
  {
   "cell_type": "code",
   "execution_count": 93,
   "metadata": {},
   "outputs": [
    {
     "name": "stdout",
     "output_type": "stream",
     "text": [
      "{'Berlin': 'Germany',\n",
      " 'New Delhi': 'India',\n",
      " 'New York': 'USA',\n",
      " 'Shangai': 'China'}\n"
     ]
    }
   ],
   "source": [
    "cities_n_countries = dict(zip(cities, countries))\n",
    "pprint(cities_n_countries)"
   ]
  },
  {
   "cell_type": "code",
   "execution_count": 94,
   "metadata": {},
   "outputs": [
    {
     "name": "stdout",
     "output_type": "stream",
     "text": [
      "{'China': 'Shangai',\n",
      " 'Germany': 'Berlin',\n",
      " 'India': 'New Delhi',\n",
      " 'USA': 'New York'}\n"
     ]
    }
   ],
   "source": [
    "counties_n_cities = dict(zip(countries, cities))\n",
    "pprint(counties_n_cities)"
   ]
  },
  {
   "cell_type": "code",
   "execution_count": 95,
   "metadata": {},
   "outputs": [
    {
     "name": "stdout",
     "output_type": "stream",
     "text": [
      "{'P': 0, 'y': 1, 't': 2, 'h': 3, 'o': 4, 'n': 5}\n"
     ]
    }
   ],
   "source": [
    "print(dict(zip(\"Python\", range(6))))"
   ]
  },
  {
   "cell_type": "code",
   "execution_count": 96,
   "metadata": {},
   "outputs": [
    {
     "name": "stdout",
     "output_type": "stream",
     "text": [
      "{'P': 'f', 'y': 'i', 't': 's', 'h': 'h'}\n"
     ]
    }
   ],
   "source": [
    "print(dict(zip(\"Python\", \"fish\")))"
   ]
  },
  {
   "cell_type": "code",
   "execution_count": 97,
   "metadata": {},
   "outputs": [],
   "source": [
    "## Assignment: create a logic to interchange the keys with values, and vice versa, for dictionaries"
   ]
  },
  {
   "cell_type": "code",
   "execution_count": null,
   "metadata": {},
   "outputs": [],
   "source": []
  }
 ],
 "metadata": {
  "kernelspec": {
   "display_name": "Python 3",
   "language": "python",
   "name": "python3"
  },
  "language_info": {
   "codemirror_mode": {
    "name": "ipython",
    "version": 3
   },
   "file_extension": ".py",
   "mimetype": "text/x-python",
   "name": "python",
   "nbconvert_exporter": "python",
   "pygments_lexer": "ipython3",
   "version": "3.12.1"
  }
 },
 "nbformat": 4,
 "nbformat_minor": 2
}
